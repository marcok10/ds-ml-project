{
 "cells": [
  {
   "cell_type": "code",
   "execution_count": null,
   "id": "bcb04ac1",
   "metadata": {},
   "outputs": [],
   "source": [
    "#import necessary libraries\n",
    "import pandas as pd\n",
    "import numpy as np\n",
    "import matplotlib.pyplot as plt\n",
    "import seaborn as sns\n",
    "import warnings\n",
    "warnings.filterwarnings(\"ignore\")\n",
    "\n",
    "#impore pipeline libraries\n",
    "from sklearn.pipeline import Pipeline\n",
    "from sklearn.compose import ColumnTransformer\n",
    "from sklearn.preprocessing import OneHotEncoder\n",
    "from sklearn.model_selection import train_test_split, GridSearchCV, RandomizedSearchCV\n",
    "from sklearn.metrics import mean_squared_error\n",
    "from xgboost import XGBRegressor"
   ]
  },
  {
   "cell_type": "code",
   "execution_count": null,
   "id": "e3fcfc33",
   "metadata": {},
   "outputs": [],
   "source": [
    "# Load the dataset\n",
    "df = pd.read_csv('data/preprocessed_train_data.csv')\n",
    "df_real_test = pd.read_csv('data/preprocessed_test_data.csv')"
   ]
  },
  {
   "cell_type": "code",
   "execution_count": null,
   "id": "63fd7983",
   "metadata": {},
   "outputs": [],
   "source": [
    "df.columns"
   ]
  },
  {
   "cell_type": "code",
   "execution_count": null,
   "id": "e858998d",
   "metadata": {},
   "outputs": [],
   "source": [
    "df_real_test.columns"
   ]
  },
  {
   "cell_type": "code",
   "execution_count": null,
   "id": "9da7d327",
   "metadata": {},
   "outputs": [],
   "source": [
    "y = df['target']\n",
    "X = df.drop(columns=['target','departure_date',\n",
    "       'arrival_date'])\n",
    "\n",
    "X_train, X_test, y_train, y_test = train_test_split(\n",
    "X, y, test_size=0.2, random_state=42, stratify=y)"
   ]
  },
  {
   "cell_type": "code",
   "execution_count": null,
   "id": "57824f58",
   "metadata": {},
   "outputs": [],
   "source": [
    "X_train.columns"
   ]
  },
  {
   "cell_type": "code",
   "execution_count": null,
   "id": "f17bdf7a",
   "metadata": {},
   "outputs": [],
   "source": [
    "def flight_delay_pipline():\n",
    "    # Define the categorical features\n",
    "    num_col = ['duration','dep_temp', 'dep_precip', 'dep_wind', 'arr_temp',\n",
    "       'arr_precip', 'arr_wind']\n",
    "    cat_col = ['departure_point', 'arrival_point', 'flight_status', 'aircraft_code','dep_hour',\n",
    "       'dep_day', 'dep_month', 'dep_dayofweek', 'dep_quarter', 'dep_season',\n",
    "       'dep_is_weekend', 'dep_time_of_day', 'arr_hour', 'arr_day', 'arr_month',\n",
    "       'arr_dayofweek', 'arr_quarter', 'arr_season', 'arr_is_weekend',\n",
    "       'arr_time_of_day', 'route']\n",
    "\n",
    "    # Create the column transformer\n",
    "    preprocessor = ColumnTransformer(\n",
    "        transformers=[\n",
    "            ('num', 'passthrough', num_col),\n",
    "            ('cat', OneHotEncoder(handle_unknown='ignore'), cat_col)\n",
    "        ])\n",
    "\n",
    "    model = XGBRegressor(objective='reg:squarederror', random_state=42)\n",
    "\n",
    "    pipeline = Pipeline(steps=[\n",
    "        ('preprocessor', preprocessor),\n",
    "        ('regressor', model)\n",
    "    ])\n",
    "\n",
    "    return pipeline\n",
    "\n",
    "def hyperparameter():\n",
    "    param_distributions = {\n",
    "    'regressor__n_estimators': [50, 100, 200],\n",
    "    'regressor__max_depth': [3, 4, 5, 6],\n",
    "    'regressor__learning_rate': [0.01, 0.05, 0.1, 0.2],\n",
    "    'regressor__subsample': [0.6, 0.8, 1.0],\n",
    "    'regressor__colsample_bytree': [0.6, 0.8, 1.0]}\n",
    "\n",
    "    return param_distributions\n",
    "\n",
    "def RandomizedSearch_function(X_train, y_train):\n",
    "    pipeline = flight_delay_pipline()\n",
    "    param_distributions = hyperparameter()\n",
    "\n",
    "    random_search = RandomizedSearchCV(\n",
    "        pipeline,\n",
    "        param_distributions=param_distributions,\n",
    "        n_iter=20,\n",
    "        cv=5,\n",
    "        scoring='neg_mean_squared_error',\n",
    "        verbose=1,\n",
    "        n_jobs=-1,\n",
    "        random_state=42)\n",
    "        \n",
    "    random_search.fit(X_train, y_train)\n",
    "\n",
    "    return random_search"
   ]
  },
  {
   "cell_type": "code",
   "execution_count": null,
   "id": "e1cdfea9",
   "metadata": {},
   "outputs": [],
   "source": [
    "# Best pipeline\n",
    "random_search = RandomizedSearch_function(X_train, y_train)\n",
    "best_pipeline = random_search.best_estimator_\n",
    "\n",
    "# Predict and evaluate\n",
    "y_pred = best_pipeline.predict(X_test)\n",
    "\n",
    "y_pred[y_pred < 0] = 0\n",
    "y_test = y_test.clip(lower=0)\n",
    "\n",
    "rmse = np.sqrt(mean_squared_error(y_test, y_pred))\n",
    "\n",
    "print(f\"Best Params: {random_search.best_params_}\")\n",
    "print(f\"Test RMSE: {rmse:.2f}\")"
   ]
  },
  {
   "cell_type": "code",
   "execution_count": null,
   "id": "f450c2e5",
   "metadata": {},
   "outputs": [],
   "source": [
    "best_pipeline"
   ]
  },
  {
   "cell_type": "code",
   "execution_count": null,
   "id": "a5f09bcf",
   "metadata": {},
   "outputs": [],
   "source": [
    "from sklearn.compose import make_column_selector\n",
    "from sklearn.inspection import permutation_importance\n",
    "from sklearn.pipeline import Pipeline\n",
    "import pandas as pd\n",
    "import numpy as np\n",
    "\n",
    "# After training your model and getting best_pipeline:\n",
    "best_pipeline = random_search.best_estimator_\n",
    "num_col = ['duration','dep_temp', 'dep_precip', 'dep_wind', 'arr_temp',\n",
    "    'arr_precip', 'arr_wind']\n",
    "cat_col = ['departure_point', 'arrival_point', 'flight_status', 'aircraft_code','dep_hour',\n",
    "    'dep_day', 'dep_month', 'dep_dayofweek', 'dep_quarter', 'dep_season',\n",
    "    'dep_is_weekend', 'dep_time_of_day', 'arr_hour', 'arr_day', 'arr_month',\n",
    "    'arr_dayofweek', 'arr_quarter', 'arr_season', 'arr_is_weekend',\n",
    "    'arr_time_of_day', 'route']\n",
    "# Step 1: Extract preprocessed feature names\n",
    "preprocessor = best_pipeline.named_steps['preprocessor']\n",
    "# Get names from one-hot encoder\n",
    "ohe = preprocessor.named_transformers_['cat']\n",
    "ohe_feature_names = ohe.get_feature_names_out(cat_col)\n",
    "# Combine with numerical names\n",
    "feature_names = np.concatenate([num_col, ohe_feature_names])\n",
    "\n",
    "# Step 2: Get feature importances from XGBoost model\n",
    "booster = best_pipeline.named_steps['regressor']\n",
    "importances = booster.feature_importances_\n",
    "importance_series = pd.Series(importances, index=feature_names).sort_values(ascending=False)\n",
    "\n",
    "# Step 3: Show top features (change N to control selection)\n",
    "N = 380\n",
    "top_features = importance_series.head(N).index.tolist()\n",
    "print(\"Top features:\\n\", top_features)\n",
    "\n",
    "# Step 4: Rebuild a new pipeline with only selected features\n",
    "# Get numeric and categorical again\n",
    "selected_num = [f for f in num_col if f in top_features]\n",
    "selected_cat = [col for col in cat_col if any(col in f for f in top_features)]\n",
    "\n",
    "# New preprocessor\n",
    "from sklearn.compose import ColumnTransformer\n",
    "from sklearn.preprocessing import OneHotEncoder\n",
    "from xgboost import XGBRegressor\n",
    "\n",
    "new_preprocessor = ColumnTransformer(\n",
    "    transformers=[\n",
    "        ('num', 'passthrough', selected_num),\n",
    "        ('cat', OneHotEncoder(handle_unknown='ignore'), selected_cat)\n",
    "    ])\n",
    "\n",
    "# Rebuild pipeline\n",
    "best_model = XGBRegressor(objective='reg:squarederror', **random_search.best_params_)\n",
    "\n",
    "reduced_pipeline = Pipeline(steps=[\n",
    "    ('preprocessor', new_preprocessor),\n",
    "    ('regressor', best_model)\n",
    "])\n",
    "\n",
    "# Step 5: Retrain on full training set with selected features\n",
    "reduced_pipeline.fit(X_train, y_train)\n",
    "\n",
    "# Step 6: Evaluate\n",
    "y_pred = reduced_pipeline.predict(X_test)\n",
    "y_pred[y_pred < 0] = 0\n",
    "y_test = y_test.clip(lower=0)\n",
    "rmse = np.sqrt(mean_squared_error(y_test, y_pred))\n",
    "\n",
    "print(\"✅ Retrained with top features only\")\n",
    "print(f\"Reduced RMSE: {rmse:.2f}\")"
   ]
  },
  {
   "cell_type": "code",
   "execution_count": null,
   "id": "5b760a7a",
   "metadata": {},
   "outputs": [],
   "source": [
    "\n",
    "y_pred_real_test = best_pipeline.predict(df_real_test)"
   ]
  },
  {
   "cell_type": "code",
   "execution_count": null,
   "id": "1eefa232",
   "metadata": {},
   "outputs": [],
   "source": [
    "y_pred_real_test[y_pred_real_test < 0] = 0\n"
   ]
  },
  {
   "cell_type": "code",
   "execution_count": null,
   "id": "a8fb9c4e",
   "metadata": {},
   "outputs": [],
   "source": [
    "df_real_test"
   ]
  },
  {
   "cell_type": "code",
   "execution_count": null,
   "id": "9341ef4d",
   "metadata": {},
   "outputs": [],
   "source": [
    "y_pred_real_test"
   ]
  },
  {
   "cell_type": "code",
   "execution_count": null,
   "id": "20875f74",
   "metadata": {},
   "outputs": [],
   "source": [
    "df_pred_real_test = pd.DataFrame({\n",
    "    'id': df_real_test['id'],\n",
    "    'prediction': y_pred_real_test\n",
    "})"
   ]
  },
  {
   "cell_type": "code",
   "execution_count": null,
   "id": "8422b794",
   "metadata": {},
   "outputs": [],
   "source": [
    "df_pred_real_test.head()"
   ]
  },
  {
   "cell_type": "code",
   "execution_count": null,
   "id": "353c7b11",
   "metadata": {},
   "outputs": [],
   "source": [
    "df_pred_real_test.describe()"
   ]
  },
  {
   "cell_type": "code",
   "execution_count": null,
   "id": "4964de30",
   "metadata": {},
   "outputs": [],
   "source": [
    "df_pred_real_test.to_csv('data/flight_predictions_33_xgb.csv', index=False)"
   ]
  },
  {
   "cell_type": "code",
   "execution_count": null,
   "id": "97be4fc5",
   "metadata": {},
   "outputs": [],
   "source": []
  }
 ],
 "metadata": {
  "kernelspec": {
   "display_name": ".venv",
   "language": "python",
   "name": "python3"
  },
  "language_info": {
   "codemirror_mode": {
    "name": "ipython",
    "version": 3
   },
   "file_extension": ".py",
   "mimetype": "text/x-python",
   "name": "python",
   "nbconvert_exporter": "python",
   "pygments_lexer": "ipython3",
   "version": "3.11.3"
  }
 },
 "nbformat": 4,
 "nbformat_minor": 5
}
