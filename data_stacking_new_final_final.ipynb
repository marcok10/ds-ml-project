{
 "cells": [
  {
   "cell_type": "code",
   "execution_count": null,
   "id": "8b5cd746",
   "metadata": {},
   "outputs": [],
   "source": [
    "# Import necessary libraries\n",
    "import numpy as np\n",
    "import pandas as pd\n",
    "import matplotlib.pyplot as plt\n",
    "import seaborn as sns\n",
    "from sklearn.ensemble import RandomForestRegressor\n",
    "from xgboost import XGBRegressor\n",
    "from sklearn.linear_model import Ridge, LinearRegression\n",
    "from lightgbm import LGBMRegressor\n",
    "from sklearn.model_selection import train_test_split, RandomizedSearchCV, GridSearchCV\n",
    "from sklearn.preprocessing import OneHotEncoder\n",
    "from sklearn.metrics import mean_squared_error, r2_score\n",
    "from sklearn.neighbors import KNeighborsRegressor\n",
    "from sklearn.preprocessing import StandardScaler\n",
    "from catboost import CatBoostRegressor\n",
    "\n",
    "RSEED = 42"
   ]
  },
  {
   "cell_type": "code",
   "execution_count": null,
   "id": "c8f4c57e",
   "metadata": {},
   "outputs": [],
   "source": [
    "df_train_prepro = pd.read_csv('data/preprocessed_train_data_with_date_hol_concat.csv')"
   ]
  },
  {
   "cell_type": "code",
   "execution_count": null,
   "id": "95b68fc8",
   "metadata": {},
   "outputs": [],
   "source": [
    "y = df_train_prepro['target']\n",
    "X = df_train_prepro.drop(columns=['target'])"
   ]
  },
  {
   "cell_type": "code",
   "execution_count": null,
   "id": "d0bd233d",
   "metadata": {},
   "outputs": [],
   "source": [
    "# Define the categorical features\n",
    "num_col = ['duration','dep_temp', 'dep_precip', 'dep_wind', 'arr_temp',\n",
    "       'arr_precip', 'arr_wind', 'holiday_length']\n",
    "cat_col = ['departure_point', 'arrival_point', 'flight_status', 'aircraft_code','dep_hour',\n",
    "       'dep_day', 'dep_month', 'dep_dayofweek', 'dep_quarter', 'dep_season',\n",
    "       'dep_is_weekend', 'dep_time_of_day', 'arr_hour', 'arr_day', 'arr_month',\n",
    "       'arr_dayofweek', 'arr_quarter', 'arr_season', 'arr_is_weekend',\n",
    "       'arr_time_of_day', 'route', 'is_holiday', 'Country', 'City']"
   ]
  },
  {
   "cell_type": "code",
   "execution_count": null,
   "id": "9eaf5ecc",
   "metadata": {},
   "outputs": [],
   "source": [
    "# Use sparse output for OneHotEncoder to save memory\n",
    "encoder = OneHotEncoder(handle_unknown='ignore')\n",
    "scaler = StandardScaler()\n",
    "\n",
    "# Fit and transform categorical columns (sparse matrix)\n",
    "X_cat_sparse = encoder.fit_transform(X[cat_col])\n",
    "\n",
    "# Scale only the numerical columns and convert to float32\n",
    "X_num_scaled = scaler.fit_transform(X[num_col]).astype(np.float32)\n",
    "\n",
    "# Convert sparse matrix to float32 and combine with numerical features\n",
    "from scipy import sparse\n",
    "X_encoded_scaled = sparse.hstack([X_num_scaled, X_cat_sparse.astype(np.float32)]).tocsr()\n",
    "\n",
    "# Split the encoded and scaled data\n",
    "X_train_1, X_train_2, y_train_1, y_train_2 = train_test_split(\n",
    "    X_encoded_scaled, y, stratify=y, test_size=0.2, random_state=RSEED\n",
    ")"
   ]
  },
  {
   "cell_type": "code",
   "execution_count": null,
   "id": "0cc5f68a",
   "metadata": {},
   "outputs": [],
   "source": [
    "# Get indices for the split\n",
    "train_idx, test_idx = train_test_split(\n",
    "    np.arange(len(X)), stratify=y, test_size=0.2, random_state=RSEED\n",
    ")\n",
    "\n",
    "X_train_1_raw = X.iloc[train_idx]\n",
    "X_train_2_raw = X.iloc[test_idx]\n",
    "y_train_1_raw = y.iloc[train_idx]\n",
    "y_train_2_raw = y.iloc[test_idx]\n",
    "\n",
    "# Get categorical column indices for CatBoost\n",
    "cat_features_idx = [X.columns.get_loc(col) for col in cat_col]"
   ]
  },
  {
   "cell_type": "markdown",
   "id": "c793f2bc",
   "metadata": {},
   "source": [
    "XGB RandomisedSearchCV\n",
    "\n",
    "Find the best parameters for XGBRegressor"
   ]
  },
  {
   "cell_type": "code",
   "execution_count": null,
   "id": "bdc3fe57",
   "metadata": {},
   "outputs": [],
   "source": [
    "# Fit model to training data\n",
    "xgb_best = XGBRegressor(objective='reg:squarederror', random_state=42)"
   ]
  },
  {
   "cell_type": "code",
   "execution_count": null,
   "id": "de41bbff",
   "metadata": {},
   "outputs": [],
   "source": [
    "#hyperparameter grid\n",
    "xgb_param_grid = {\n",
    "    'n_estimators': [50, 100, 200, 300],\n",
    "    'max_depth': [3, 4, 5, 6, 8],\n",
    "    'learning_rate': [0.01, 0.05, 0.1, 0.2],\n",
    "    'subsample': [0.6, 0.8],\n",
    "    'colsample_bytree': [0.6, 0.8],\n",
    "    'gamma': [0, 0.1, 0.2, 0.5],\n",
    "    'min_child_weight': [1, 3, 5],\n",
    "    'scale_pos_weight': [1, 2]\n",
    "}"
   ]
  },
  {
   "cell_type": "code",
   "execution_count": null,
   "id": "4d9a9971",
   "metadata": {},
   "outputs": [],
   "source": [
    "xgb_search = GridSearchCV(XGBRegressor(objective='reg:squarederror', random_state=42), xgb_param_grid, cv=3, scoring='neg_root_mean_squared_error', n_jobs=-1)\n",
    "xgb_search.fit(X_train_1, y_train_1)\n",
    "best_xgb = xgb_search.best_estimator_"
   ]
  },
  {
   "cell_type": "code",
   "execution_count": null,
   "id": "0f982054",
   "metadata": {},
   "outputs": [],
   "source": [
    "#hyperparameter grid\n",
    "xgb_param_grid = {\n",
    "    'n_estimators': [50, 100, 200, 300],\n",
    "    'max_depth': [3, 4, 5, 6, 8, 10],\n",
    "    'learning_rate': [0.01, 0.05, 0.1, 0.2, 0.3],\n",
    "    'subsample': [0.6, 0.8, 1.0],\n",
    "    'colsample_bytree': [0.6, 0.8, 1.0],\n",
    "    'gamma': [0, 0.1, 0.2, 0.5, 1],\n",
    "    'min_child_weight': [1, 3, 5, 7],\n",
    "    'scale_pos_weight': [1, 2, 3]\n",
    "}\n",
    "\n",
    "xgb_ransearcv_best = RandomizedSearchCV(estimator=xgb_best, param_distributions=xgb_param_grid, \n",
    "                          n_iter=100, scoring='accuracy', cv=3, \n",
    "                          verbose=1, random_state=42, n_jobs=-1)\n",
    "xgb_ransearcv_best.fit(X_train_1, y_train_1)"
   ]
  },
  {
   "cell_type": "code",
   "execution_count": null,
   "id": "b6df0973",
   "metadata": {},
   "outputs": [],
   "source": [
    "rf_param_grid = {\n",
    "    'n_estimators': [100, 200],\n",
    "    'max_depth': [5, 10, None],\n",
    "    'min_samples_split': [2, 5]\n",
    "}\n",
    "\n",
    "xgb_param_grid = {\n",
    "    'n_estimators': [100, 200],\n",
    "    'max_depth': [3, 5, 7],\n",
    "    'learning_rate': [0.01, 0.1, 0.2]\n",
    "}\n",
    "\n",
    "ridge_param_grid = {\n",
    "    'alpha': [0.1, 1.0, 10.0]\n",
    "}\n",
    "\n",
    "lgbm_param_grid = {\n",
    "    'n_estimators': [100, 200],\n",
    "    'max_depth': [3, 5, 7],\n",
    "    'learning_rate': [0.01, 0.1, 0.2]\n",
    "}"
   ]
  },
  {
   "cell_type": "code",
   "execution_count": null,
   "id": "606c57c4",
   "metadata": {},
   "outputs": [],
   "source": [
    "from sklearn.model_selection import GridSearchCV\n",
    "\n",
    "# Random Forest\n",
    "rf_search = GridSearchCV(RandomForestRegressor(random_state=42), rf_param_grid, cv=3, scoring='neg_root_mean_squared_error', n_jobs=-1)\n",
    "rf_search.fit(X_train_1, y_train_1)\n",
    "best_rf = rf_search.best_estimator_\n",
    "\n",
    "# XGBoost\n",
    "xgb_search = GridSearchCV(XGBRegressor(objective='reg:squarederror', random_state=42), xgb_param_grid, cv=3, scoring='neg_root_mean_squared_error', n_jobs=-1)\n",
    "xgb_search.fit(X_train_1, y_train_1)\n",
    "best_xgb = xgb_search.best_estimator_\n",
    "\n",
    "# Ridge\n",
    "ridge_search = GridSearchCV(Ridge(random_state=42), ridge_param_grid, cv=3, scoring='neg_root_mean_squared_error', n_jobs=-1)\n",
    "ridge_search.fit(X_train_1, y_train_1)\n",
    "best_ridge = ridge_search.best_estimator_\n",
    "\n",
    "# LightGBM\n",
    "lgbm_search = GridSearchCV(LGBMRegressor(random_state=42), lgbm_param_grid, cv=3, scoring='neg_root_mean_squared_error', n_jobs=-1)\n",
    "lgbm_search.fit(X_train_1, y_train_1)\n",
    "best_lgbm = lgbm_search.best_estimator_"
   ]
  },
  {
   "cell_type": "markdown",
   "id": "8cf4ea00",
   "metadata": {},
   "source": [
    "Create Base models + Meta model"
   ]
  },
  {
   "cell_type": "code",
   "execution_count": null,
   "id": "f6d28f2a",
   "metadata": {},
   "outputs": [],
   "source": [
    "# Base models\n",
    "random_forest = RandomForestRegressor(random_state=42)\n",
    "xgb = XGBRegressor(objective='reg:squarederror', random_state=42)\n",
    "ridge = Ridge(random_state=42)\n",
    "knn = KNeighborsRegressor()\n",
    "#lgbm = LGBMRegressor(random_state=42)\n",
    "catboost = CatBoostRegressor(verbose=0, random_state=42)"
   ]
  },
  {
   "cell_type": "code",
   "execution_count": null,
   "id": "f985bf5d",
   "metadata": {},
   "outputs": [],
   "source": [
    "# Meta-model to combine all the base models\n",
    "linear_model = LinearRegression()"
   ]
  },
  {
   "cell_type": "code",
   "execution_count": null,
   "id": "74c99793",
   "metadata": {},
   "outputs": [],
   "source": [
    "# Fit all the base estimators on the 1st half of the train dataset\n",
    "\n",
    "#Fit Random Forest\n",
    "rf_model = random_forest.fit(X_train_1, y_train_1)"
   ]
  },
  {
   "cell_type": "code",
   "execution_count": null,
   "id": "39ff4be1",
   "metadata": {},
   "outputs": [],
   "source": [
    "#Fit XGBoost\n",
    "xgb_model = xgb.fit(X_train_1, y_train_1)"
   ]
  },
  {
   "cell_type": "code",
   "execution_count": null,
   "id": "2426c78f",
   "metadata": {},
   "outputs": [],
   "source": [
    "# Fit Ridge Convert sparse matrix to dense for Ridge regression\n",
    "ridge_model = Ridge(random_state=42).fit(X_train_1.toarray(), y_train_1)"
   ]
  },
  {
   "cell_type": "code",
   "execution_count": null,
   "id": "6d7c34ec",
   "metadata": {},
   "outputs": [],
   "source": [
    "# fit KNN KNeighborsRegressor does not support sparse input, so convert to dense\n",
    "knn_model = knn.fit(X_train_1, y_train_1)"
   ]
  },
  {
   "cell_type": "code",
   "execution_count": null,
   "id": "0be5d402",
   "metadata": {},
   "outputs": [],
   "source": [
    "#lgbm_model = lgbm.fit(X_train_1, y_train_1)"
   ]
  },
  {
   "cell_type": "code",
   "execution_count": null,
   "id": "226fcfd6",
   "metadata": {},
   "outputs": [],
   "source": [
    "# Drop datetime columns that CatBoost cannot handle\n",
    "datetime_cols = ['departure_time', 'arrival_time', 'departure_date', 'arrival_date']\n",
    "X_train_1_raw_catboost = X_train_1_raw.drop(columns=datetime_cols)\n",
    "\n",
    "# Update categorical feature indices for the new dataframe\n",
    "cat_features_idx_catboost = [X_train_1_raw_catboost.columns.get_loc(col) for col in cat_col if col in X_train_1_raw_catboost.columns]\n",
    "\n",
    "catboost.fit(X_train_1_raw_catboost, y_train_1_raw, cat_features=cat_features_idx_catboost)"
   ]
  },
  {
   "cell_type": "code",
   "execution_count": null,
   "id": "23a05331",
   "metadata": {},
   "outputs": [],
   "source": [
    "# Predict the values from the base estimators with the second half of the train dataset\n",
    "rf_pred = rf_model.predict(X_train_2)\n",
    "xgb_pred = xgb_model.predict(X_train_2)\n",
    "ridge_pred = ridge_model.predict(X_train_2)\n",
    "knn_pred = knn_model.predict(X_train_2)\n",
    "#lgbm_pred = lgbm_model.predict(X_train_2)\n",
    "catboost_pred = catboost.predict(X_train_2_raw.drop(columns=datetime_cols))\n",
    "\n",
    "#lgbm_pred = lgbm_model.predict(X_train_2)\n",
    "\n",
    "# Combine base model predictions for meta-model input\n",
    "combine_X_pred_test = pd.concat([\n",
    "\tpd.DataFrame(rf_pred),\n",
    "\tpd.DataFrame(xgb_pred),\n",
    "\tpd.DataFrame(ridge_pred),\n",
    "    pd.DataFrame(knn_pred),\n",
    "    #pd.DataFrame(lgbm_pred),\n",
    "    pd.DataFrame(catboost_pred)\n",
    "], axis=1)"
   ]
  },
  {
   "cell_type": "code",
   "execution_count": null,
   "id": "53b09192",
   "metadata": {},
   "outputs": [],
   "source": [
    "# Fit the final estimator on the combined probabilities and target values\n",
    "linear_model.fit(combine_X_pred_test, y_train_2)"
   ]
  },
  {
   "cell_type": "code",
   "execution_count": null,
   "id": "5e305f65",
   "metadata": {},
   "outputs": [],
   "source": [
    "# Predict with meta-model\n",
    "y_pred = linear_model.predict(combine_X_pred_test)"
   ]
  },
  {
   "cell_type": "code",
   "execution_count": null,
   "id": "6cc11c9f",
   "metadata": {},
   "outputs": [],
   "source": [
    "# Ensure predictions are non-negative\n",
    "y_pred[y_pred < 0] = 0\n",
    "y_train_2 = y_train_2.clip(lower=0)"
   ]
  },
  {
   "cell_type": "code",
   "execution_count": null,
   "id": "29554666",
   "metadata": {},
   "outputs": [],
   "source": [
    "# Evaluate the model\n",
    "mse = mean_squared_error(y_train_2, y_pred)\n",
    "r2 = r2_score(y_train_2, y_pred)\n",
    "rmse = np.sqrt(mean_squared_error(y_train_2, y_pred))\n",
    "print(f'Mean Squared Error: {mse}')\n",
    "print(f'R2 Score: {r2}')\n",
    "print(f\"Stacking RMSE: {rmse:.2f}\")"
   ]
  },
  {
   "cell_type": "code",
   "execution_count": null,
   "id": "5e3bb19a",
   "metadata": {},
   "outputs": [],
   "source": [
    "# Get feature importances from each base model and display them\n",
    "\n",
    "# Random Forest feature importances\n",
    "rf_importances = rf_model.feature_importances_\n",
    "\n",
    "# XGBoost feature importances\n",
    "xgb_importances = xgb_model.feature_importances_\n",
    "\n",
    "# KNN does not provide feature importances, so skip it\n",
    "\n",
    "# Ridge feature coefficients (absolute value for importance)\n",
    "ridge_importances = np.abs(ridge_model.coef_)\n",
    "\n",
    "# LightGBM feature importances\n",
    "#lgbm_importances = lgbm_model.feature_importances_\n",
    "\n",
    "# Get encoded categorical column names\n",
    "encoded_cat_cols = encoder.get_feature_names_out(cat_col)\n",
    "\n",
    "# Feature names\n",
    "feature_names = num_col + list(encoded_cat_cols)\n",
    "\n",
    "# Create a DataFrame for each model's importances\n",
    "importances_df = pd.DataFrame({\n",
    "    'feature': feature_names,\n",
    "    'RandomForest': rf_importances,\n",
    "    'XGBoost': xgb_importances,\n",
    "    'Ridge': ridge_importances,\n",
    "    #'LightGBM': lgbm_importances\n",
    "})\n",
    "\n",
    "# Show top 15 features by average importance across models\n",
    "importances_df['avg_importance'] = importances_df[['RandomForest', 'XGBoost', 'Ridge']].mean(axis=1)\n",
    "importances_df.sort_values('avg_importance', ascending=False)"
   ]
  }
 ],
 "metadata": {
  "kernelspec": {
   "display_name": ".venv",
   "language": "python",
   "name": "python3"
  },
  "language_info": {
   "codemirror_mode": {
    "name": "ipython",
    "version": 3
   },
   "file_extension": ".py",
   "mimetype": "text/x-python",
   "name": "python",
   "nbconvert_exporter": "python",
   "pygments_lexer": "ipython3",
   "version": "3.11.3"
  }
 },
 "nbformat": 4,
 "nbformat_minor": 5
}
