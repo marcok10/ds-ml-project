{
 "cells": [
  {
   "cell_type": "code",
   "execution_count": 1,
   "id": "8b5cd746",
   "metadata": {},
   "outputs": [],
   "source": [
    "# Import necessary libraries\n",
    "import numpy as np\n",
    "import pandas as pd\n",
    "import matplotlib.pyplot as plt\n",
    "import seaborn as sns\n",
    "from sklearn.ensemble import RandomForestRegressor, AdaBoostRegressor\n",
    "from xgboost import XGBRegressor\n",
    "from sklearn.linear_model import Ridge, LinearRegression\n",
    "from lightgbm import LGBMRegressor\n",
    "from sklearn.model_selection import train_test_split, RandomizedSearchCV, GridSearchCV\n",
    "from sklearn.preprocessing import OneHotEncoder\n",
    "from sklearn.metrics import mean_squared_error, r2_score\n",
    "from sklearn.neighbors import KNeighborsRegressor\n",
    "from sklearn.preprocessing import StandardScaler\n",
    "from catboost import CatBoostRegressor\n",
    "from sklearn.ensemble import GradientBoostingRegressor\n",
    "\n",
    "RSEED = 42"
   ]
  },
  {
   "cell_type": "code",
   "execution_count": 2,
   "id": "c8f4c57e",
   "metadata": {},
   "outputs": [],
   "source": [
    "df_train_prepro = pd.read_csv('data/preprocessed_train_data_with_date_hol_concat.csv')"
   ]
  },
  {
   "cell_type": "code",
   "execution_count": 3,
   "id": "95b68fc8",
   "metadata": {},
   "outputs": [],
   "source": [
    "y = df_train_prepro['target']\n",
    "X = df_train_prepro.drop(columns=['target'])"
   ]
  },
  {
   "cell_type": "code",
   "execution_count": 4,
   "id": "d0bd233d",
   "metadata": {},
   "outputs": [],
   "source": [
    "# Define the categorical features\n",
    "num_col = ['duration','dep_temp', 'dep_precip', 'dep_wind', 'arr_temp',\n",
    "       'arr_precip', 'arr_wind', 'holiday_length']\n",
    "cat_col = ['departure_point', 'arrival_point', 'flight_status', 'aircraft_code','dep_hour',\n",
    "       'dep_day', 'dep_month', 'dep_dayofweek', 'dep_quarter', 'dep_season',\n",
    "       'dep_is_weekend', 'dep_time_of_day', 'arr_hour', 'arr_day', 'arr_month',\n",
    "       'arr_dayofweek', 'arr_quarter', 'arr_season', 'arr_is_weekend',\n",
    "       'arr_time_of_day', 'route', 'is_holiday', 'Country', 'City']"
   ]
  },
  {
   "cell_type": "code",
   "execution_count": 6,
   "id": "9eaf5ecc",
   "metadata": {},
   "outputs": [],
   "source": [
    "# Use sparse output for OneHotEncoder to save memory\n",
    "encoder = OneHotEncoder(handle_unknown='ignore')\n",
    "scaler = StandardScaler()\n",
    "\n",
    "# Fit and transform categorical columns (sparse matrix)\n",
    "X_cat_sparse = encoder.fit_transform(X[cat_col])\n",
    "\n",
    "# Scale only the numerical columns and convert to float32\n",
    "X_num_scaled = scaler.fit_transform(X[num_col]).astype(np.float32)\n",
    "\n",
    "# Convert sparse matrix to float32 and combine with numerical features\n",
    "from scipy import sparse\n",
    "X_encoded_scaled = sparse.hstack([X_num_scaled, X_cat_sparse.astype(np.float32)]).tocsr()\n",
    "\n",
    "# Split the encoded and scaled data\n",
    "X_train_1, X_train_2, y_train_1, y_train_2 = train_test_split(\n",
    "    X_encoded_scaled, y, stratify=y, test_size=0.2, random_state=RSEED\n",
    ")"
   ]
  },
  {
   "cell_type": "code",
   "execution_count": 7,
   "id": "0cc5f68a",
   "metadata": {},
   "outputs": [],
   "source": [
    "# Get indices for the split\n",
    "train_idx, test_idx = train_test_split(\n",
    "    np.arange(len(X)), stratify=y, test_size=0.2, random_state=RSEED\n",
    ")\n",
    "\n",
    "X_train_1_raw = X.iloc[train_idx]\n",
    "X_train_2_raw = X.iloc[test_idx]\n",
    "y_train_1_raw = y.iloc[train_idx]\n",
    "y_train_2_raw = y.iloc[test_idx]\n",
    "\n",
    "# Get categorical column indices for CatBoost\n",
    "cat_features_idx = [X.columns.get_loc(col) for col in cat_col]"
   ]
  },
  {
   "cell_type": "markdown",
   "id": "c793f2bc",
   "metadata": {},
   "source": [
    "XGB RandomisedSearchCV\n",
    "\n",
    "Find the best parameters for XGBRegressor"
   ]
  },
  {
   "cell_type": "code",
   "execution_count": null,
   "id": "bdc3fe57",
   "metadata": {},
   "outputs": [],
   "source": [
    "# Fit model to training data\n",
    "xgb_best = XGBRegressor(objective='reg:squarederror', random_state=42)"
   ]
  },
  {
   "cell_type": "code",
   "execution_count": null,
   "id": "de41bbff",
   "metadata": {},
   "outputs": [],
   "source": [
    "#hyperparameter grid\n",
    "xgb_param_grid = {\n",
    "    'n_estimators': [50, 100, 200, 300],\n",
    "    'max_depth': [3, 4, 5, 6, 8],\n",
    "    'learning_rate': [0.01, 0.05, 0.1, 0.2],\n",
    "    'subsample': [0.6, 0.8],\n",
    "    'colsample_bytree': [0.6, 0.8],\n",
    "    'gamma': [0, 0.1, 0.2, 0.5],\n",
    "    'min_child_weight': [1, 3, 5],\n",
    "    'scale_pos_weight': [1, 2]\n",
    "}"
   ]
  },
  {
   "cell_type": "code",
   "execution_count": null,
   "id": "4d9a9971",
   "metadata": {},
   "outputs": [],
   "source": [
    "xgb_search = GridSearchCV(XGBRegressor(objective='reg:squarederror', random_state=42), xgb_param_grid, cv=3, scoring='neg_root_mean_squared_error', n_jobs=-1)\n",
    "xgb_search.fit(X_train_1, y_train_1)\n",
    "best_xgb = xgb_search.best_estimator_"
   ]
  },
  {
   "cell_type": "code",
   "execution_count": null,
   "id": "0f982054",
   "metadata": {},
   "outputs": [],
   "source": [
    "#hyperparameter grid\n",
    "xgb_param_grid = {\n",
    "    'n_estimators': [50, 100, 200, 300],\n",
    "    'max_depth': [3, 4, 5, 6, 8, 10],\n",
    "    'learning_rate': [0.01, 0.05, 0.1, 0.2, 0.3],\n",
    "    'subsample': [0.6, 0.8, 1.0],\n",
    "    'colsample_bytree': [0.6, 0.8, 1.0],\n",
    "    'gamma': [0, 0.1, 0.2, 0.5, 1],\n",
    "    'min_child_weight': [1, 3, 5, 7],\n",
    "    'scale_pos_weight': [1, 2, 3]\n",
    "}\n",
    "\n",
    "xgb_ransearcv_best = RandomizedSearchCV(estimator=xgb_best, param_distributions=xgb_param_grid, \n",
    "                          n_iter=100, scoring='accuracy', cv=3, \n",
    "                          verbose=1, random_state=42, n_jobs=-1)\n",
    "xgb_ransearcv_best.fit(X_train_1, y_train_1)"
   ]
  },
  {
   "cell_type": "code",
   "execution_count": null,
   "id": "b6df0973",
   "metadata": {},
   "outputs": [],
   "source": [
    "rf_param_grid = {\n",
    "    'n_estimators': [100, 200],\n",
    "    'max_depth': [5, 10, None],\n",
    "    'min_samples_split': [2, 5]\n",
    "}\n",
    "\n",
    "xgb_param_grid = {\n",
    "    'n_estimators': [100, 200],\n",
    "    'max_depth': [3, 5, 7],\n",
    "    'learning_rate': [0.01, 0.1, 0.2]\n",
    "}\n",
    "\n",
    "ridge_param_grid = {\n",
    "    'alpha': [0.1, 1.0, 10.0]\n",
    "}\n",
    "\n",
    "lgbm_param_grid = {\n",
    "    'n_estimators': [100, 200],\n",
    "    'max_depth': [3, 5, 7],\n",
    "    'learning_rate': [0.01, 0.1, 0.2]\n",
    "}"
   ]
  },
  {
   "cell_type": "code",
   "execution_count": null,
   "id": "606c57c4",
   "metadata": {},
   "outputs": [],
   "source": [
    "from sklearn.model_selection import GridSearchCV\n",
    "\n",
    "# Random Forest\n",
    "rf_search = GridSearchCV(RandomForestRegressor(random_state=42), rf_param_grid, cv=3, scoring='neg_root_mean_squared_error', n_jobs=-1)\n",
    "rf_search.fit(X_train_1, y_train_1)\n",
    "best_rf = rf_search.best_estimator_\n",
    "\n",
    "# XGBoost\n",
    "xgb_search = GridSearchCV(XGBRegressor(objective='reg:squarederror', random_state=42), xgb_param_grid, cv=3, scoring='neg_root_mean_squared_error', n_jobs=-1)\n",
    "xgb_search.fit(X_train_1, y_train_1)\n",
    "best_xgb = xgb_search.best_estimator_\n",
    "\n",
    "# Ridge\n",
    "ridge_search = GridSearchCV(Ridge(random_state=42), ridge_param_grid, cv=3, scoring='neg_root_mean_squared_error', n_jobs=-1)\n",
    "ridge_search.fit(X_train_1, y_train_1)\n",
    "best_ridge = ridge_search.best_estimator_\n",
    "\n",
    "# LightGBM\n",
    "lgbm_search = GridSearchCV(LGBMRegressor(random_state=42), lgbm_param_grid, cv=3, scoring='neg_root_mean_squared_error', n_jobs=-1)\n",
    "lgbm_search.fit(X_train_1, y_train_1)\n",
    "best_lgbm = lgbm_search.best_estimator_"
   ]
  },
  {
   "cell_type": "markdown",
   "id": "8cf4ea00",
   "metadata": {},
   "source": [
    "Create Base models + Meta model"
   ]
  },
  {
   "cell_type": "code",
   "execution_count": 8,
   "id": "f6d28f2a",
   "metadata": {},
   "outputs": [],
   "source": [
    "# Base models\n",
    "random_forest = RandomForestRegressor(random_state=42)\n",
    "xgb = XGBRegressor(objective='reg:squarederror', random_state=42)\n",
    "ridge = Ridge(random_state=42)\n",
    "knn = KNeighborsRegressor()\n",
    "lgbm = LGBMRegressor(random_state=42)\n",
    "catboost = CatBoostRegressor(verbose=0, random_state=42)\n",
    "adaboost = AdaBoostRegressor(n_estimators=100, random_state=42)\n",
    "gbr = GradientBoostingRegressor(n_estimators=100, learning_rate=0.1, max_depth=3, random_state=42)\n"
   ]
  },
  {
   "cell_type": "code",
   "execution_count": 9,
   "id": "f985bf5d",
   "metadata": {},
   "outputs": [],
   "source": [
    "# Meta-model to combine all the base models\n",
    "linear_model = LinearRegression()"
   ]
  },
  {
   "cell_type": "code",
   "execution_count": 22,
   "id": "74c99793",
   "metadata": {},
   "outputs": [],
   "source": [
    "# Fit all the base estimators on the 1st half of the train dataset\n",
    "\n",
    "#Fit Random Forest\n",
    "rf_model = random_forest.fit(X_train_1, y_train_1) "
   ]
  },
  {
   "cell_type": "code",
   "execution_count": 10,
   "id": "39ff4be1",
   "metadata": {},
   "outputs": [],
   "source": [
    "#Fit XGBoost\n",
    "xgb_model = xgb.fit(X_train_1, y_train_1)"
   ]
  },
  {
   "cell_type": "code",
   "execution_count": 11,
   "id": "2426c78f",
   "metadata": {},
   "outputs": [],
   "source": [
    "# Fit Ridge Convert sparse matrix to dense for Ridge regression\n",
    "ridge_model = Ridge(random_state=42).fit(X_train_1.toarray(), y_train_1)"
   ]
  },
  {
   "cell_type": "code",
   "execution_count": 12,
   "id": "6d7c34ec",
   "metadata": {},
   "outputs": [],
   "source": [
    "# fit KNN KNeighborsRegressor does not support sparse input, so convert to dense\n",
    "knn_model = knn.fit(X_train_1, y_train_1)"
   ]
  },
  {
   "cell_type": "code",
   "execution_count": 13,
   "id": "0be5d402",
   "metadata": {},
   "outputs": [
    {
     "name": "stdout",
     "output_type": "stream",
     "text": [
      "[LightGBM] [Info] Auto-choosing row-wise multi-threading, the overhead of testing was 0.007330 seconds.\n",
      "You can set `force_row_wise=true` to remove the overhead.\n",
      "And if memory is not enough, you can set `force_col_wise=true`.\n",
      "[LightGBM] [Info] Total Bins 3234\n",
      "[LightGBM] [Info] Number of data points in the train set: 79797, number of used features: 789\n",
      "[LightGBM] [Info] Start training from score 9.881625\n"
     ]
    }
   ],
   "source": [
    "lgbm_model = lgbm.fit(X_train_1, y_train_1)"
   ]
  },
  {
   "cell_type": "code",
   "execution_count": 14,
   "id": "226fcfd6",
   "metadata": {},
   "outputs": [
    {
     "data": {
      "text/plain": [
       "<catboost.core.CatBoostRegressor at 0x249f8979610>"
      ]
     },
     "execution_count": 14,
     "metadata": {},
     "output_type": "execute_result"
    }
   ],
   "source": [
    "# Drop datetime columns that CatBoost cannot handle\n",
    "datetime_cols = ['departure_time', 'arrival_time', 'departure_date', 'arrival_date']\n",
    "X_train_1_raw_catboost = X_train_1_raw.drop(columns=datetime_cols)\n",
    "\n",
    "# Update categorical feature indices for the new dataframe\n",
    "cat_features_idx_catboost = [X_train_1_raw_catboost.columns.get_loc(col) for col in cat_col if col in X_train_1_raw_catboost.columns]\n",
    "\n",
    "catboost.fit(X_train_1_raw_catboost, y_train_1_raw, cat_features=cat_features_idx_catboost)"
   ]
  },
  {
   "cell_type": "code",
   "execution_count": 15,
   "id": "ceca6bb8",
   "metadata": {},
   "outputs": [],
   "source": [
    "# Fit AdaBoost on encoded/scaled training data\n",
    "adaboost_model = adaboost.fit(X_train_1, y_train_1)"
   ]
  },
  {
   "cell_type": "code",
   "execution_count": 16,
   "id": "89c217be",
   "metadata": {},
   "outputs": [],
   "source": [
    "# Fit GradientBoostingRegressor on encoded/scaled training data\n",
    "gbr_model = gbr.fit(X_train_1, y_train_1)"
   ]
  },
  {
   "cell_type": "code",
   "execution_count": 17,
   "id": "23a05331",
   "metadata": {},
   "outputs": [],
   "source": [
    "# Predict the values from the base estimators with the second half of the train dataset\n",
    "#rf_pred = rf_model.predict(X_train_2)\n",
    "xgb_pred = xgb_model.predict(X_train_2)\n",
    "ridge_pred = ridge_model.predict(X_train_2)\n",
    "knn_pred = knn_model.predict(X_train_2)\n",
    "lgbm_pred = lgbm_model.predict(X_train_2)\n",
    "catboost_pred = catboost.predict(X_train_2_raw.drop(columns=datetime_cols))\n",
    "adaboost_pred = adaboost_model.predict(X_train_2)\n",
    "gbr_pred = gbr_model.predict(X_train_2)\n",
    "\n",
    "# Combine base model predictions for meta-model input\n",
    "combine_X_pred_test = pd.concat([\n",
    "\t#pd.DataFrame(rf_pred),\n",
    "\tpd.DataFrame(xgb_pred),\n",
    "\tpd.DataFrame(ridge_pred),\n",
    "    pd.DataFrame(knn_pred),\n",
    "    pd.DataFrame(lgbm_pred),\n",
    "    pd.DataFrame(catboost_pred),\n",
    "    pd.DataFrame(adaboost_pred),\n",
    "    pd.DataFrame(gbr_pred)\n",
    "], axis=1)"
   ]
  },
  {
   "cell_type": "code",
   "execution_count": 18,
   "id": "53b09192",
   "metadata": {},
   "outputs": [
    {
     "data": {
      "text/html": [
       "<style>#sk-container-id-1 {color: black;background-color: white;}#sk-container-id-1 pre{padding: 0;}#sk-container-id-1 div.sk-toggleable {background-color: white;}#sk-container-id-1 label.sk-toggleable__label {cursor: pointer;display: block;width: 100%;margin-bottom: 0;padding: 0.3em;box-sizing: border-box;text-align: center;}#sk-container-id-1 label.sk-toggleable__label-arrow:before {content: \"▸\";float: left;margin-right: 0.25em;color: #696969;}#sk-container-id-1 label.sk-toggleable__label-arrow:hover:before {color: black;}#sk-container-id-1 div.sk-estimator:hover label.sk-toggleable__label-arrow:before {color: black;}#sk-container-id-1 div.sk-toggleable__content {max-height: 0;max-width: 0;overflow: hidden;text-align: left;background-color: #f0f8ff;}#sk-container-id-1 div.sk-toggleable__content pre {margin: 0.2em;color: black;border-radius: 0.25em;background-color: #f0f8ff;}#sk-container-id-1 input.sk-toggleable__control:checked~div.sk-toggleable__content {max-height: 200px;max-width: 100%;overflow: auto;}#sk-container-id-1 input.sk-toggleable__control:checked~label.sk-toggleable__label-arrow:before {content: \"▾\";}#sk-container-id-1 div.sk-estimator input.sk-toggleable__control:checked~label.sk-toggleable__label {background-color: #d4ebff;}#sk-container-id-1 div.sk-label input.sk-toggleable__control:checked~label.sk-toggleable__label {background-color: #d4ebff;}#sk-container-id-1 input.sk-hidden--visually {border: 0;clip: rect(1px 1px 1px 1px);clip: rect(1px, 1px, 1px, 1px);height: 1px;margin: -1px;overflow: hidden;padding: 0;position: absolute;width: 1px;}#sk-container-id-1 div.sk-estimator {font-family: monospace;background-color: #f0f8ff;border: 1px dotted black;border-radius: 0.25em;box-sizing: border-box;margin-bottom: 0.5em;}#sk-container-id-1 div.sk-estimator:hover {background-color: #d4ebff;}#sk-container-id-1 div.sk-parallel-item::after {content: \"\";width: 100%;border-bottom: 1px solid gray;flex-grow: 1;}#sk-container-id-1 div.sk-label:hover label.sk-toggleable__label {background-color: #d4ebff;}#sk-container-id-1 div.sk-serial::before {content: \"\";position: absolute;border-left: 1px solid gray;box-sizing: border-box;top: 0;bottom: 0;left: 50%;z-index: 0;}#sk-container-id-1 div.sk-serial {display: flex;flex-direction: column;align-items: center;background-color: white;padding-right: 0.2em;padding-left: 0.2em;position: relative;}#sk-container-id-1 div.sk-item {position: relative;z-index: 1;}#sk-container-id-1 div.sk-parallel {display: flex;align-items: stretch;justify-content: center;background-color: white;position: relative;}#sk-container-id-1 div.sk-item::before, #sk-container-id-1 div.sk-parallel-item::before {content: \"\";position: absolute;border-left: 1px solid gray;box-sizing: border-box;top: 0;bottom: 0;left: 50%;z-index: -1;}#sk-container-id-1 div.sk-parallel-item {display: flex;flex-direction: column;z-index: 1;position: relative;background-color: white;}#sk-container-id-1 div.sk-parallel-item:first-child::after {align-self: flex-end;width: 50%;}#sk-container-id-1 div.sk-parallel-item:last-child::after {align-self: flex-start;width: 50%;}#sk-container-id-1 div.sk-parallel-item:only-child::after {width: 0;}#sk-container-id-1 div.sk-dashed-wrapped {border: 1px dashed gray;margin: 0 0.4em 0.5em 0.4em;box-sizing: border-box;padding-bottom: 0.4em;background-color: white;}#sk-container-id-1 div.sk-label label {font-family: monospace;font-weight: bold;display: inline-block;line-height: 1.2em;}#sk-container-id-1 div.sk-label-container {text-align: center;}#sk-container-id-1 div.sk-container {/* jupyter's `normalize.less` sets `[hidden] { display: none; }` but bootstrap.min.css set `[hidden] { display: none !important; }` so we also need the `!important` here to be able to override the default hidden behavior on the sphinx rendered scikit-learn.org. See: https://github.com/scikit-learn/scikit-learn/issues/21755 */display: inline-block !important;position: relative;}#sk-container-id-1 div.sk-text-repr-fallback {display: none;}</style><div id=\"sk-container-id-1\" class=\"sk-top-container\"><div class=\"sk-text-repr-fallback\"><pre>LinearRegression()</pre><b>In a Jupyter environment, please rerun this cell to show the HTML representation or trust the notebook. <br />On GitHub, the HTML representation is unable to render, please try loading this page with nbviewer.org.</b></div><div class=\"sk-container\" hidden><div class=\"sk-item\"><div class=\"sk-estimator sk-toggleable\"><input class=\"sk-toggleable__control sk-hidden--visually\" id=\"sk-estimator-id-1\" type=\"checkbox\" checked><label for=\"sk-estimator-id-1\" class=\"sk-toggleable__label sk-toggleable__label-arrow\">LinearRegression</label><div class=\"sk-toggleable__content\"><pre>LinearRegression()</pre></div></div></div></div></div>"
      ],
      "text/plain": [
       "LinearRegression()"
      ]
     },
     "execution_count": 18,
     "metadata": {},
     "output_type": "execute_result"
    }
   ],
   "source": [
    "# Fit the final estimator on the combined probabilities and target values\n",
    "linear_model.fit(combine_X_pred_test, y_train_2)"
   ]
  },
  {
   "cell_type": "code",
   "execution_count": 19,
   "id": "5e305f65",
   "metadata": {},
   "outputs": [],
   "source": [
    "# Predict with meta-model\n",
    "y_pred = linear_model.predict(combine_X_pred_test)"
   ]
  },
  {
   "cell_type": "code",
   "execution_count": 20,
   "id": "6cc11c9f",
   "metadata": {},
   "outputs": [],
   "source": [
    "# Ensure predictions are non-negative\n",
    "y_pred[y_pred < 0] = 0\n",
    "y_train_2 = y_train_2.clip(lower=0)"
   ]
  },
  {
   "cell_type": "code",
   "execution_count": 21,
   "id": "29554666",
   "metadata": {},
   "outputs": [
    {
     "name": "stdout",
     "output_type": "stream",
     "text": [
      "Mean Squared Error: 955.4827524521362\n",
      "R2 Score: 0.2856678893497028\n",
      "Stacking RMSE: 30.91\n"
     ]
    }
   ],
   "source": [
    "# Evaluate the model\n",
    "mse = mean_squared_error(y_train_2, y_pred)\n",
    "r2 = r2_score(y_train_2, y_pred)\n",
    "rmse = np.sqrt(mean_squared_error(y_train_2, y_pred))\n",
    "print(f'Mean Squared Error: {mse}')\n",
    "print(f'R2 Score: {r2}')\n",
    "print(f\"Stacking RMSE: {rmse:.2f}\")"
   ]
  },
  {
   "cell_type": "code",
   "execution_count": null,
   "id": "5e3bb19a",
   "metadata": {},
   "outputs": [],
   "source": [
    "# Get feature importances from each base model and display them\n",
    "\n",
    "# Random Forest feature importances\n",
    "rf_importances = rf_model.feature_importances_\n",
    "\n",
    "# XGBoost feature importances\n",
    "xgb_importances = xgb_model.feature_importances_\n",
    "\n",
    "# KNN does not provide feature importances, so skip it\n",
    "\n",
    "# Ridge feature coefficients (absolute value for importance)\n",
    "ridge_importances = np.abs(ridge_model.coef_)\n",
    "\n",
    "# LightGBM feature importances\n",
    "lgbm_importances = lgbm_model.feature_importances_\n",
    "\n",
    "# Get encoded categorical column names\n",
    "encoded_cat_cols = encoder.get_feature_names_out(cat_col)\n",
    "\n",
    "# Feature names\n",
    "feature_names = num_col + list(encoded_cat_cols)\n",
    "\n",
    "# Create a DataFrame for each model's importances\n",
    "importances_df = pd.DataFrame({\n",
    "    'feature': feature_names,\n",
    "    'RandomForest': rf_importances,\n",
    "    'XGBoost': xgb_importances,\n",
    "    'Ridge': ridge_importances,\n",
    "    'LightGBM': lgbm_importances\n",
    "})\n",
    "\n",
    "# Show top 15 features by average importance across models\n",
    "importances_df['avg_importance'] = importances_df[['RandomForest', 'XGBoost', 'Ridge', 'LightGBM']].mean(axis=1)\n",
    "importances_df.sort_values('avg_importance', ascending=False)"
   ]
  }
 ],
 "metadata": {
  "kernelspec": {
   "display_name": ".venv",
   "language": "python",
   "name": "python3"
  },
  "language_info": {
   "codemirror_mode": {
    "name": "ipython",
    "version": 3
   },
   "file_extension": ".py",
   "mimetype": "text/x-python",
   "name": "python",
   "nbconvert_exporter": "python",
   "pygments_lexer": "ipython3",
   "version": "3.11.3"
  }
 },
 "nbformat": 4,
 "nbformat_minor": 5
}
