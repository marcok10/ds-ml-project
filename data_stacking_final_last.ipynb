{
 "cells": [
  {
   "cell_type": "code",
   "execution_count": 42,
   "id": "8b5cd746",
   "metadata": {},
   "outputs": [],
   "source": [
    "# Import necessary libraries\n",
    "import numpy as np\n",
    "import pandas as pd\n",
    "import matplotlib.pyplot as plt\n",
    "import seaborn as sns\n",
    "from sklearn.ensemble import RandomForestRegressor, AdaBoostRegressor\n",
    "from xgboost import XGBRegressor\n",
    "from sklearn.linear_model import Ridge, LinearRegression\n",
    "from lightgbm import LGBMRegressor\n",
    "from sklearn.model_selection import train_test_split, RandomizedSearchCV, GridSearchCV\n",
    "from sklearn.preprocessing import OneHotEncoder\n",
    "from sklearn.metrics import mean_squared_error, r2_score\n",
    "from sklearn.neighbors import KNeighborsRegressor\n",
    "from sklearn.preprocessing import StandardScaler\n",
    "from catboost import CatBoostRegressor\n",
    "from sklearn.ensemble import GradientBoostingRegressor\n",
    "from sklearn.svm import SVR\n",
    "\n",
    "RSEED = 42"
   ]
  },
  {
   "cell_type": "code",
   "execution_count": null,
   "id": "c8f4c57e",
   "metadata": {},
   "outputs": [
    {
     "data": {
      "application/vnd.microsoft.datawrangler.viewer.v0+json": {
       "columns": [
        {
         "name": "index",
         "rawType": "object",
         "type": "string"
        },
        {
         "name": "0",
         "rawType": "object",
         "type": "unknown"
        }
       ],
       "ref": "b5bc78be-04dd-4dad-aeb4-a92f76c77edc",
       "rows": [
        [
         "departure_point",
         "object"
        ],
        [
         "arrival_point",
         "object"
        ],
        [
         "departure_time",
         "object"
        ],
        [
         "arrival_time",
         "object"
        ],
        [
         "flight_status",
         "object"
        ],
        [
         "aircraft_code",
         "object"
        ],
        [
         "target",
         "float64"
        ],
        [
         "duration",
         "float64"
        ],
        [
         "dep_hour",
         "int64"
        ],
        [
         "dep_day",
         "int64"
        ],
        [
         "dep_month",
         "int64"
        ],
        [
         "dep_dayofweek",
         "int64"
        ],
        [
         "dep_quarter",
         "int64"
        ],
        [
         "dep_season",
         "int64"
        ],
        [
         "dep_is_weekend",
         "int64"
        ],
        [
         "dep_time_of_day",
         "object"
        ],
        [
         "arr_hour",
         "int64"
        ],
        [
         "arr_day",
         "int64"
        ],
        [
         "arr_month",
         "int64"
        ],
        [
         "arr_dayofweek",
         "int64"
        ],
        [
         "arr_quarter",
         "int64"
        ],
        [
         "arr_season",
         "int64"
        ],
        [
         "arr_is_weekend",
         "int64"
        ],
        [
         "arr_time_of_day",
         "object"
        ],
        [
         "route",
         "object"
        ],
        [
         "departure_date",
         "object"
        ],
        [
         "arrival_date",
         "object"
        ],
        [
         "dep_temp",
         "float64"
        ],
        [
         "dep_precip",
         "float64"
        ],
        [
         "dep_wind",
         "float64"
        ],
        [
         "arr_temp",
         "float64"
        ],
        [
         "arr_precip",
         "float64"
        ],
        [
         "arr_wind",
         "float64"
        ],
        [
         "Country",
         "object"
        ],
        [
         "City",
         "object"
        ],
        [
         "is_holiday",
         "int64"
        ],
        [
         "holiday_length",
         "int64"
        ],
        [
         "aircraft_model",
         "object"
        ],
        [
         "num_passenger_year",
         "int64"
        ],
        [
         "distance_km",
         "int64"
        ]
       ],
       "shape": {
        "columns": 1,
        "rows": 40
       }
      },
      "text/plain": [
       "departure_point        object\n",
       "arrival_point          object\n",
       "departure_time         object\n",
       "arrival_time           object\n",
       "flight_status          object\n",
       "aircraft_code          object\n",
       "target                float64\n",
       "duration              float64\n",
       "dep_hour                int64\n",
       "dep_day                 int64\n",
       "dep_month               int64\n",
       "dep_dayofweek           int64\n",
       "dep_quarter             int64\n",
       "dep_season              int64\n",
       "dep_is_weekend          int64\n",
       "dep_time_of_day        object\n",
       "arr_hour                int64\n",
       "arr_day                 int64\n",
       "arr_month               int64\n",
       "arr_dayofweek           int64\n",
       "arr_quarter             int64\n",
       "arr_season              int64\n",
       "arr_is_weekend          int64\n",
       "arr_time_of_day        object\n",
       "route                  object\n",
       "departure_date         object\n",
       "arrival_date           object\n",
       "dep_temp              float64\n",
       "dep_precip            float64\n",
       "dep_wind              float64\n",
       "arr_temp              float64\n",
       "arr_precip            float64\n",
       "arr_wind              float64\n",
       "Country                object\n",
       "City                   object\n",
       "is_holiday              int64\n",
       "holiday_length          int64\n",
       "aircraft_model         object\n",
       "num_passenger_year      int64\n",
       "distance_km             int64\n",
       "dtype: object"
      ]
     },
     "execution_count": 2,
     "metadata": {},
     "output_type": "execute_result"
    }
   ],
   "source": [
    "df_train_prepro = pd.read_csv('data/data_with_distance.csv')\n",
    "df_train_prepro.dtypes"
   ]
  },
  {
   "cell_type": "code",
   "execution_count": 3,
   "id": "95b68fc8",
   "metadata": {},
   "outputs": [],
   "source": [
    "y = df_train_prepro['target']\n",
    "X = df_train_prepro.drop(columns=['target'])"
   ]
  },
  {
   "cell_type": "code",
   "execution_count": 4,
   "id": "d0bd233d",
   "metadata": {},
   "outputs": [],
   "source": [
    "# Define the categorical features\n",
    "num_col = ['duration','dep_temp', 'dep_precip', 'dep_wind', 'arr_temp',\n",
    "       'arr_precip', 'arr_wind', 'holiday_length', 'num_passenger_year', 'distance_km']\n",
    "cat_col = ['departure_point', 'arrival_point', 'flight_status', 'aircraft_code','dep_hour',\n",
    "       'dep_day', 'dep_month', 'dep_dayofweek', 'dep_quarter', 'dep_season',\n",
    "       'dep_is_weekend', 'dep_time_of_day', 'arr_hour', 'arr_day', 'arr_month',\n",
    "       'arr_dayofweek', 'arr_quarter', 'arr_season', 'arr_is_weekend',\n",
    "       'arr_time_of_day', 'route', 'is_holiday', 'Country', 'City', 'aircraft_model']"
   ]
  },
  {
   "cell_type": "code",
   "execution_count": 5,
   "id": "9eaf5ecc",
   "metadata": {},
   "outputs": [],
   "source": [
    "# Use sparse output for OneHotEncoder to save memory\n",
    "encoder = OneHotEncoder(handle_unknown='ignore')\n",
    "scaler = StandardScaler()\n",
    "\n",
    "# Fit and transform categorical columns (sparse matrix)\n",
    "X_cat_sparse = encoder.fit_transform(X[cat_col])\n",
    "\n",
    "# Scale only the numerical columns and convert to float32\n",
    "X_num_scaled = scaler.fit_transform(X[num_col]).astype(np.float32)\n",
    "\n",
    "# Convert sparse matrix to float32 and combine with numerical features\n",
    "from scipy import sparse\n",
    "X_encoded_scaled = sparse.hstack([X_num_scaled, X_cat_sparse.astype(np.float32)]).tocsr()\n",
    "\n",
    "# Split the encoded and scaled data\n",
    "X_train_1, X_train_2, y_train_1, y_train_2 = train_test_split(\n",
    "    X_encoded_scaled, y, stratify=y, test_size=0.2, random_state=RSEED\n",
    ")"
   ]
  },
  {
   "cell_type": "code",
   "execution_count": 6,
   "id": "0cc5f68a",
   "metadata": {},
   "outputs": [],
   "source": [
    "# Get indices for the split\n",
    "train_idx, test_idx = train_test_split(\n",
    "    np.arange(len(X)), stratify=y, test_size=0.2, random_state=RSEED\n",
    ")\n",
    "\n",
    "X_train_1_raw = X.iloc[train_idx]\n",
    "X_train_2_raw = X.iloc[test_idx]\n",
    "y_train_1_raw = y.iloc[train_idx]\n",
    "y_train_2_raw = y.iloc[test_idx]\n",
    "\n",
    "# Get categorical column indices for CatBoost\n",
    "cat_features_idx = [X.columns.get_loc(col) for col in cat_col]"
   ]
  },
  {
   "cell_type": "markdown",
   "id": "8cf4ea00",
   "metadata": {},
   "source": [
    "Create Base models + Meta model"
   ]
  },
  {
   "cell_type": "code",
   "execution_count": null,
   "id": "f6d28f2a",
   "metadata": {},
   "outputs": [],
   "source": [
    "# Base models\n",
    "random_forest = RandomForestRegressor(random_state=RSEED)\n",
    "xgb = XGBRegressor(objective='reg:squarederror', random_state=RSEED)\n",
    "ridge = Ridge(random_state=RSEED)\n",
    "knn = KNeighborsRegressor()\n",
    "lgbm = LGBMRegressor(random_state=RSEED)\n",
    "catboost = CatBoostRegressor(verbose=0, random_state=RSEED)\n",
    "adaboost = AdaBoostRegressor(n_estimators=100, random_state=RSEED)\n",
    "gbr = GradientBoostingRegressor(n_estimators=100, learning_rate=0.1, max_depth=3, random_state=RSEED)\n",
    "svr = SVR()"
   ]
  },
  {
   "cell_type": "code",
   "execution_count": 45,
   "id": "f985bf5d",
   "metadata": {},
   "outputs": [],
   "source": [
    "# Meta-model to combine all the base models\n",
    "#linear_model = LinearRegression()\n",
    "meta_xgb = XGBRegressor(objective='reg:squarederror', random_state=42)"
   ]
  },
  {
   "cell_type": "code",
   "execution_count": 55,
   "id": "74c99793",
   "metadata": {},
   "outputs": [],
   "source": [
    "# Fit all the base estimators on the 1st half of the train dataset\n",
    "\n",
    "#Fit Random Forest\n",
    "rf_model = random_forest.fit(X_train_1, y_train_1) "
   ]
  },
  {
   "cell_type": "code",
   "execution_count": 9,
   "id": "39ff4be1",
   "metadata": {},
   "outputs": [],
   "source": [
    "#Fit XGBoost\n",
    "xgb_model = xgb.fit(X_train_1, y_train_1)"
   ]
  },
  {
   "cell_type": "code",
   "execution_count": 10,
   "id": "2426c78f",
   "metadata": {},
   "outputs": [],
   "source": [
    "# Fit Ridge Convert sparse matrix to dense for Ridge regression\n",
    "ridge_model = Ridge(random_state=42).fit(X_train_1.toarray(), y_train_1)"
   ]
  },
  {
   "cell_type": "code",
   "execution_count": 11,
   "id": "6d7c34ec",
   "metadata": {},
   "outputs": [],
   "source": [
    "# fit KNN KNeighborsRegressor does not support sparse input, so convert to dense\n",
    "knn_model = knn.fit(X_train_1, y_train_1)"
   ]
  },
  {
   "cell_type": "code",
   "execution_count": null,
   "id": "0be5d402",
   "metadata": {},
   "outputs": [
    {
     "name": "stdout",
     "output_type": "stream",
     "text": [
      "[LightGBM] [Info] Auto-choosing row-wise multi-threading, the overhead of testing was 0.009401 seconds.\n",
      "You can set `force_row_wise=true` to remove the overhead.\n",
      "And if memory is not enough, you can set `force_col_wise=true`.\n",
      "[LightGBM] [Info] Total Bins 3680\n",
      "[LightGBM] [Info] Number of data points in the train set: 79797, number of used features: 804\n",
      "[LightGBM] [Info] Start training from score 9.881625\n"
     ]
    }
   ],
   "source": [
    "# Fit LightGBM\n",
    "lgbm_model = lgbm.fit(X_train_1, y_train_1)"
   ]
  },
  {
   "cell_type": "code",
   "execution_count": 49,
   "id": "226fcfd6",
   "metadata": {},
   "outputs": [],
   "source": [
    "# Drop datetime columns that CatBoost cannot handle\n",
    "datetime_cols = ['departure_time', 'arrival_time', 'departure_date', 'arrival_date']\n",
    "X_train_1_raw_catboost = X_train_1_raw.drop(columns=datetime_cols)\n",
    "\n",
    "# Update categorical feature indices for the new dataframe\n",
    "cat_features_idx_catboost = [X_train_1_raw_catboost.columns.get_loc(col) for col in cat_col if col in X_train_1_raw_catboost.columns]\n",
    "\n",
    "catboost_model = catboost.fit(X_train_1_raw_catboost, y_train_1_raw, cat_features=cat_features_idx_catboost)"
   ]
  },
  {
   "cell_type": "code",
   "execution_count": 14,
   "id": "ceca6bb8",
   "metadata": {},
   "outputs": [],
   "source": [
    "# Fit AdaBoost on encoded/scaled training data\n",
    "adaboost_model = adaboost.fit(X_train_1, y_train_1)"
   ]
  },
  {
   "cell_type": "code",
   "execution_count": 15,
   "id": "89c217be",
   "metadata": {},
   "outputs": [],
   "source": [
    "# Fit GradientBoostingRegressor on encoded/scaled training data\n",
    "gbr_model = gbr.fit(X_train_1, y_train_1)"
   ]
  },
  {
   "cell_type": "code",
   "execution_count": null,
   "id": "c4ca5c73",
   "metadata": {},
   "outputs": [],
   "source": [
    "# Fit support vector regression - SVR does not support sparse input, so convert to dense\n",
    "svr_model = svr.fit(X_train_1.toarray(), y_train_1)"
   ]
  },
  {
   "cell_type": "code",
   "execution_count": 56,
   "id": "23a05331",
   "metadata": {},
   "outputs": [],
   "source": [
    "# Predict the values from the base estimators with the second half of the train dataset\n",
    "rf_pred = rf_model.predict(X_train_2)\n",
    "xgb_pred = xgb_model.predict(X_train_2)\n",
    "ridge_pred = ridge_model.predict(X_train_2)\n",
    "knn_pred = knn_model.predict(X_train_2)\n",
    "lgbm_pred = lgbm_model.predict(X_train_2)\n",
    "catboost_pred = catboost_model.predict(X_train_2_raw.drop(columns=datetime_cols))\n",
    "adaboost_pred = adaboost_model.predict(X_train_2)\n",
    "gbr_pred = gbr_model.predict(X_train_2)\n",
    "svr_pred = svr_model.predict(X_train_2.toarray())\n",
    "\n",
    "# Combine base model predictions for meta-model input\n",
    "combine_X_pred_test = pd.concat([\n",
    "\tpd.DataFrame(rf_pred),\n",
    "\tpd.DataFrame(xgb_pred),\n",
    "\tpd.DataFrame(ridge_pred),\n",
    "    pd.DataFrame(knn_pred),\n",
    "    pd.DataFrame(lgbm_pred),\n",
    "    pd.DataFrame(catboost_pred),\n",
    "    pd.DataFrame(adaboost_pred),\n",
    "    pd.DataFrame(gbr_pred),\n",
    "    pd.DataFrame(svr_pred)\n",
    "], axis=1)"
   ]
  },
  {
   "cell_type": "code",
   "execution_count": 57,
   "id": "53b09192",
   "metadata": {},
   "outputs": [
    {
     "data": {
      "text/html": [
       "<style>#sk-container-id-6 {color: black;background-color: white;}#sk-container-id-6 pre{padding: 0;}#sk-container-id-6 div.sk-toggleable {background-color: white;}#sk-container-id-6 label.sk-toggleable__label {cursor: pointer;display: block;width: 100%;margin-bottom: 0;padding: 0.3em;box-sizing: border-box;text-align: center;}#sk-container-id-6 label.sk-toggleable__label-arrow:before {content: \"▸\";float: left;margin-right: 0.25em;color: #696969;}#sk-container-id-6 label.sk-toggleable__label-arrow:hover:before {color: black;}#sk-container-id-6 div.sk-estimator:hover label.sk-toggleable__label-arrow:before {color: black;}#sk-container-id-6 div.sk-toggleable__content {max-height: 0;max-width: 0;overflow: hidden;text-align: left;background-color: #f0f8ff;}#sk-container-id-6 div.sk-toggleable__content pre {margin: 0.2em;color: black;border-radius: 0.25em;background-color: #f0f8ff;}#sk-container-id-6 input.sk-toggleable__control:checked~div.sk-toggleable__content {max-height: 200px;max-width: 100%;overflow: auto;}#sk-container-id-6 input.sk-toggleable__control:checked~label.sk-toggleable__label-arrow:before {content: \"▾\";}#sk-container-id-6 div.sk-estimator input.sk-toggleable__control:checked~label.sk-toggleable__label {background-color: #d4ebff;}#sk-container-id-6 div.sk-label input.sk-toggleable__control:checked~label.sk-toggleable__label {background-color: #d4ebff;}#sk-container-id-6 input.sk-hidden--visually {border: 0;clip: rect(1px 1px 1px 1px);clip: rect(1px, 1px, 1px, 1px);height: 1px;margin: -1px;overflow: hidden;padding: 0;position: absolute;width: 1px;}#sk-container-id-6 div.sk-estimator {font-family: monospace;background-color: #f0f8ff;border: 1px dotted black;border-radius: 0.25em;box-sizing: border-box;margin-bottom: 0.5em;}#sk-container-id-6 div.sk-estimator:hover {background-color: #d4ebff;}#sk-container-id-6 div.sk-parallel-item::after {content: \"\";width: 100%;border-bottom: 1px solid gray;flex-grow: 1;}#sk-container-id-6 div.sk-label:hover label.sk-toggleable__label {background-color: #d4ebff;}#sk-container-id-6 div.sk-serial::before {content: \"\";position: absolute;border-left: 1px solid gray;box-sizing: border-box;top: 0;bottom: 0;left: 50%;z-index: 0;}#sk-container-id-6 div.sk-serial {display: flex;flex-direction: column;align-items: center;background-color: white;padding-right: 0.2em;padding-left: 0.2em;position: relative;}#sk-container-id-6 div.sk-item {position: relative;z-index: 1;}#sk-container-id-6 div.sk-parallel {display: flex;align-items: stretch;justify-content: center;background-color: white;position: relative;}#sk-container-id-6 div.sk-item::before, #sk-container-id-6 div.sk-parallel-item::before {content: \"\";position: absolute;border-left: 1px solid gray;box-sizing: border-box;top: 0;bottom: 0;left: 50%;z-index: -1;}#sk-container-id-6 div.sk-parallel-item {display: flex;flex-direction: column;z-index: 1;position: relative;background-color: white;}#sk-container-id-6 div.sk-parallel-item:first-child::after {align-self: flex-end;width: 50%;}#sk-container-id-6 div.sk-parallel-item:last-child::after {align-self: flex-start;width: 50%;}#sk-container-id-6 div.sk-parallel-item:only-child::after {width: 0;}#sk-container-id-6 div.sk-dashed-wrapped {border: 1px dashed gray;margin: 0 0.4em 0.5em 0.4em;box-sizing: border-box;padding-bottom: 0.4em;background-color: white;}#sk-container-id-6 div.sk-label label {font-family: monospace;font-weight: bold;display: inline-block;line-height: 1.2em;}#sk-container-id-6 div.sk-label-container {text-align: center;}#sk-container-id-6 div.sk-container {/* jupyter's `normalize.less` sets `[hidden] { display: none; }` but bootstrap.min.css set `[hidden] { display: none !important; }` so we also need the `!important` here to be able to override the default hidden behavior on the sphinx rendered scikit-learn.org. See: https://github.com/scikit-learn/scikit-learn/issues/21755 */display: inline-block !important;position: relative;}#sk-container-id-6 div.sk-text-repr-fallback {display: none;}</style><div id=\"sk-container-id-6\" class=\"sk-top-container\"><div class=\"sk-text-repr-fallback\"><pre>XGBRegressor(base_score=None, booster=None, callbacks=None,\n",
       "             colsample_bylevel=None, colsample_bynode=None,\n",
       "             colsample_bytree=None, early_stopping_rounds=None,\n",
       "             enable_categorical=False, eval_metric=None, feature_types=None,\n",
       "             gamma=None, gpu_id=None, grow_policy=None, importance_type=None,\n",
       "             interaction_constraints=None, learning_rate=None, max_bin=None,\n",
       "             max_cat_threshold=None, max_cat_to_onehot=None,\n",
       "             max_delta_step=None, max_depth=None, max_leaves=None,\n",
       "             min_child_weight=None, missing=nan, monotone_constraints=None,\n",
       "             n_estimators=100, n_jobs=None, num_parallel_tree=None,\n",
       "             predictor=None, random_state=42, ...)</pre><b>In a Jupyter environment, please rerun this cell to show the HTML representation or trust the notebook. <br />On GitHub, the HTML representation is unable to render, please try loading this page with nbviewer.org.</b></div><div class=\"sk-container\" hidden><div class=\"sk-item\"><div class=\"sk-estimator sk-toggleable\"><input class=\"sk-toggleable__control sk-hidden--visually\" id=\"sk-estimator-id-6\" type=\"checkbox\" checked><label for=\"sk-estimator-id-6\" class=\"sk-toggleable__label sk-toggleable__label-arrow\">XGBRegressor</label><div class=\"sk-toggleable__content\"><pre>XGBRegressor(base_score=None, booster=None, callbacks=None,\n",
       "             colsample_bylevel=None, colsample_bynode=None,\n",
       "             colsample_bytree=None, early_stopping_rounds=None,\n",
       "             enable_categorical=False, eval_metric=None, feature_types=None,\n",
       "             gamma=None, gpu_id=None, grow_policy=None, importance_type=None,\n",
       "             interaction_constraints=None, learning_rate=None, max_bin=None,\n",
       "             max_cat_threshold=None, max_cat_to_onehot=None,\n",
       "             max_delta_step=None, max_depth=None, max_leaves=None,\n",
       "             min_child_weight=None, missing=nan, monotone_constraints=None,\n",
       "             n_estimators=100, n_jobs=None, num_parallel_tree=None,\n",
       "             predictor=None, random_state=42, ...)</pre></div></div></div></div></div>"
      ],
      "text/plain": [
       "XGBRegressor(base_score=None, booster=None, callbacks=None,\n",
       "             colsample_bylevel=None, colsample_bynode=None,\n",
       "             colsample_bytree=None, early_stopping_rounds=None,\n",
       "             enable_categorical=False, eval_metric=None, feature_types=None,\n",
       "             gamma=None, gpu_id=None, grow_policy=None, importance_type=None,\n",
       "             interaction_constraints=None, learning_rate=None, max_bin=None,\n",
       "             max_cat_threshold=None, max_cat_to_onehot=None,\n",
       "             max_delta_step=None, max_depth=None, max_leaves=None,\n",
       "             min_child_weight=None, missing=nan, monotone_constraints=None,\n",
       "             n_estimators=100, n_jobs=None, num_parallel_tree=None,\n",
       "             predictor=None, random_state=42, ...)"
      ]
     },
     "execution_count": 57,
     "metadata": {},
     "output_type": "execute_result"
    }
   ],
   "source": [
    "# Fit the final estimator on the combined probabilities and target values\n",
    "\n",
    "# Ensure unique column names for stacking features\n",
    "combine_X_pred_test.columns = [f'base_model_{i}' for i in range(combine_X_pred_test.shape[1])]\n",
    "\n",
    "#linear_model.fit(combine_X_pred_test, y_train_2)\n",
    "meta_xgb.fit(combine_X_pred_test, y_train_2)"
   ]
  },
  {
   "cell_type": "code",
   "execution_count": 58,
   "id": "5e305f65",
   "metadata": {},
   "outputs": [],
   "source": [
    "# Predict with meta-model\n",
    "#y_pred = linear_model.predict(combine_X_pred_test)\n",
    "y_pred = meta_xgb.predict(combine_X_pred_test)"
   ]
  },
  {
   "cell_type": "code",
   "execution_count": 59,
   "id": "6cc11c9f",
   "metadata": {},
   "outputs": [],
   "source": [
    "# Ensure predictions are non-negative\n",
    "y_pred[y_pred < 0] = 0\n",
    "y_train_2 = y_train_2.clip(lower=0)"
   ]
  },
  {
   "cell_type": "code",
   "execution_count": 60,
   "id": "29554666",
   "metadata": {},
   "outputs": [
    {
     "name": "stdout",
     "output_type": "stream",
     "text": [
      "Mean Squared Error: 442.10936673682323\n",
      "R2 Score: 0.6694729274088058\n",
      "Stacking RMSE: 21.03\n"
     ]
    }
   ],
   "source": [
    "# Evaluate the model\n",
    "mse = mean_squared_error(y_train_2, y_pred)\n",
    "r2 = r2_score(y_train_2, y_pred)\n",
    "rmse = np.sqrt(mean_squared_error(y_train_2, y_pred))\n",
    "print(f'Mean Squared Error: {mse}')\n",
    "print(f'R2 Score: {r2}')\n",
    "print(f\"Stacking RMSE: {rmse:.2f}\")"
   ]
  },
  {
   "cell_type": "code",
   "execution_count": 67,
   "id": "791311ee",
   "metadata": {},
   "outputs": [
    {
     "name": "stdout",
     "output_type": "stream",
     "text": [
      "RF RMSE: 32.56811761138045\n",
      "XGB RMSE: 33.054362511146095\n",
      "Ridge RMSE: 33.78760614440644\n",
      "KNN RMSE: 35.12305457112201\n",
      "LGBM RMSE: 33.02512061324591\n",
      "CatBoost RMSE: 31.019297727488464\n",
      "AdaBoost RMSE: 35.97175375380947\n",
      "GBR RMSE: 34.140939340766465\n",
      "SVR RMSE: 34.89037931383889\n"
     ]
    }
   ],
   "source": [
    "rf_pred[rf_pred < 0] = 0\n",
    "xgb_pred[xgb_pred < 0] = 0\n",
    "ridge_pred[ridge_pred < 0] = 0\n",
    "knn_pred[knn_pred < 0] = 0\n",
    "lgbm_pred[lgbm_pred < 0] = 0\n",
    "catboost_pred[catboost_pred < 0] = 0\n",
    "adaboost_pred[adaboost_pred < 0] = 0\n",
    "gbr_pred[gbr_pred < 0] = 0\n",
    "svr_pred[svr_pred < 0] = 0\n",
    "print(f\"RF RMSE: {np.sqrt(mean_squared_error(y_train_2, rf_pred))}\")\n",
    "print(f\"XGB RMSE: {np.sqrt(mean_squared_error(y_train_2, xgb_pred))}\")\n",
    "print(f\"Ridge RMSE: {np.sqrt(mean_squared_error(y_train_2, ridge_pred))}\")\n",
    "print(f\"KNN RMSE: {np.sqrt(mean_squared_error(y_train_2, knn_pred))}\")\n",
    "print(f\"LGBM RMSE: {np.sqrt(mean_squared_error(y_train_2, lgbm_pred))}\")\n",
    "print(f\"CatBoost RMSE: {np.sqrt(mean_squared_error(y_train_2, catboost_pred))}\")\n",
    "print(f\"AdaBoost RMSE: {np.sqrt(mean_squared_error(y_train_2, adaboost_pred))}\")\n",
    "print(f\"GBR RMSE: {np.sqrt(mean_squared_error(y_train_2, gbr_pred))}\")\n",
    "print(f\"SVR RMSE: {np.sqrt(mean_squared_error(y_train_2, svr_pred))}\")\n"
   ]
  },
  {
   "cell_type": "code",
   "execution_count": 62,
   "id": "5e3bb19a",
   "metadata": {},
   "outputs": [
    {
     "data": {
      "application/vnd.microsoft.datawrangler.viewer.v0+json": {
       "columns": [
        {
         "name": "index",
         "rawType": "int64",
         "type": "integer"
        },
        {
         "name": "feature",
         "rawType": "object",
         "type": "string"
        },
        {
         "name": "RandomForest",
         "rawType": "float64",
         "type": "float"
        },
        {
         "name": "XGBoost",
         "rawType": "float32",
         "type": "float"
        },
        {
         "name": "Ridge",
         "rawType": "float32",
         "type": "float"
        },
        {
         "name": "LightGBM",
         "rawType": "int32",
         "type": "integer"
        },
        {
         "name": "AdaBoost",
         "rawType": "float64",
         "type": "float"
        },
        {
         "name": "GradientBoosting",
         "rawType": "float64",
         "type": "float"
        },
        {
         "name": "avg_importance",
         "rawType": "float64",
         "type": "float"
        }
       ],
       "ref": "b1b6692c-986b-43f9-8cd0-de35081a3398",
       "rows": [
        [
         "8",
         "num_passenger_year",
         "0.04243372254434031",
         "0.003453287",
         "39.687557",
         "218",
         "0.043368974029065636",
         "0.06773615115596973",
         "42.974091559208595"
        ],
        [
         "1",
         "dep_temp",
         "0.05369037429214062",
         "0.00044570555",
         "0.5392528",
         "153",
         "0.00010920869717306243",
         "0.004198531409672047",
         "25.59961610626287"
        ],
        [
         "4",
         "arr_temp",
         "0.055668883810559684",
         "0.0006964813",
         "0.4083816",
         "135",
         "0.00013107464035700002",
         "0.0025308831515586947",
         "22.577901489005537"
        ],
        [
         "6",
         "arr_wind",
         "0.058380535199368325",
         "0.00055768865",
         "1.2477725",
         "121",
         "0.0008061273558271543",
         "0.0024000073279377286",
         "20.384986135624256"
        ],
        [
         "3",
         "dep_wind",
         "0.05569804472896551",
         "0.0004846774",
         "1.1385658",
         "114",
         "0.002644480858015105",
         "0.0013866876540065314",
         "19.19979661156388"
        ],
        [
         "9",
         "distance_km",
         "0.01594416444420778",
         "0.008805099",
         "2.6620984",
         "110",
         "0.006824474437948772",
         "0.15684773860858048",
         "18.808419980696584"
        ],
        [
         "0",
         "duration",
         "0.03914773323542145",
         "0.0024126144",
         "0.72023654",
         "102",
         "0.052568970447754736",
         "0.04755549091125856",
         "17.143653558141292"
        ],
        [
         "726",
         "route_GAE → JED",
         "3.0190795716443854e-05",
         "0.0004012491",
         "79.171104",
         "0",
         "0.0",
         "0.0",
         "13.195255978507541"
        ],
        [
         "259",
         "arrival_point_VNO",
         "5.608247935755791e-05",
         "0.00085161725",
         "75.64397",
         "0",
         "0.0",
         "0.0",
         "12.607479062422827"
        ],
        [
         "37",
         "departure_point_CDG",
         "0.0003077376701165857",
         "0.0015168556",
         "72.926895",
         "2",
         "0.0",
         "0.0",
         "12.488119955804388"
        ],
        [
         "241",
         "arrival_point_RTM",
         "6.726990791871559e-05",
         "0.0006505698",
         "66.70256",
         "0",
         "0.0",
         "0.0",
         "11.117213044084862"
        ],
        [
         "1221",
         "Country_Algeria",
         "0.0015001918480912315",
         "0.006564632",
         "44.09113",
         "21",
         "0.0",
         "0.005560779434271232",
         "10.850792484386504"
        ],
        [
         "1371",
         "City_Paris",
         "0.0006798917986066872",
         "0.0036225638",
         "57.604286",
         "7",
         "0.0",
         "0.0",
         "10.768098108239153"
        ],
        [
         "1068",
         "route_TLS → NBE",
         "1.8491428451356536e-05",
         "0.0003646662",
         "61.827805",
         "0",
         "0.0",
         "0.0",
         "10.304697953841938"
        ],
        [
         "1108",
         "route_TUN → BRQ",
         "3.506815067360514e-05",
         "0.00028685626",
         "61.4931",
         "0",
         "0.0",
         "0.0",
         "10.248903522842651"
        ],
        [
         "1084",
         "route_TOE → NCE",
         "2.7716232420062316e-05",
         "0.00035963894",
         "60.974915",
         "0",
         "0.0",
         "0.0",
         "10.1625503176595"
        ],
        [
         "268",
         "flight_status_SCH",
         "0.12059264715832593",
         "0.2478629",
         "25.763544",
         "33",
         "0.5209842244066804",
         "0.2498743909333346",
         "9.98380970840064"
        ],
        [
         "1047",
         "route_SXB → ORY",
         "3.282458528341678e-05",
         "0.000309209",
         "57.593975",
         "0",
         "0.0",
         "0.0",
         "9.599052850119005"
        ],
        [
         "1023",
         "route_PRG → VNO",
         "2.1056908595866554e-05",
         "0.0",
         "55.43694",
         "0",
         "0.0",
         "0.0",
         "9.239493382735091"
        ],
        [
         "1067",
         "route_TLS → MIR",
         "4.60321956987371e-06",
         "0.00024674536",
         "55.02808",
         "0",
         "0.0",
         "0.0",
         "9.171388555858575"
        ],
        [
         "631",
         "route_DJE → ATH",
         "2.1436842508530283e-05",
         "0.0004599181",
         "53.596622",
         "0",
         "0.0",
         "0.0",
         "8.932850636999259"
        ],
        [
         "710",
         "route_FCO → PMO",
         "6.272347251792083e-05",
         "0.00026934737",
         "53.145885",
         "0",
         "0.0",
         "0.0",
         "8.857702923061177"
        ],
        [
         "657",
         "route_DJE → MAD",
         "2.7971992894713534e-05",
         "0.0",
         "51.76191",
         "0",
         "0.0",
         "0.0",
         "8.626989576142696"
        ],
        [
         "575",
         "route_BRQ → TUN",
         "7.5513513303618055e-06",
         "0.00026387486",
         "51.44815",
         "0",
         "0.0",
         "0.0",
         "8.57473701016209"
        ],
        [
         "670",
         "route_DJE → RTM",
         "3.809637298240335e-05",
         "0.0",
         "50.78852",
         "0",
         "0.0",
         "0.0",
         "8.464759818226877"
        ],
        [
         "983",
         "route_ORY → GVA",
         "8.90407203631043e-06",
         "0.00023940906",
         "50.74314",
         "0",
         "0.0",
         "0.0",
         "8.45723158124061"
        ],
        [
         "1138",
         "route_TUN → IEV",
         "3.909049732402574e-05",
         "0.0",
         "50.6265",
         "0",
         "0.0",
         "0.0",
         "8.437756377753786"
        ],
        [
         "537",
         "route_ATH → MIR",
         "1.3989084321390137e-05",
         "0.0",
         "50.285564",
         "0",
         "0.0",
         "0.0",
         "8.380929735281958"
        ],
        [
         "2",
         "dep_precip",
         "0.013462959433387291",
         "0.0007707458",
         "0.794616",
         "49",
         "0.0",
         "0.002847549017778139",
         "8.301949539702187"
        ],
        [
         "824",
         "route_MED → TBJ",
         "7.503269916530412e-06",
         "0.0",
         "49.57226",
         "0",
         "0.0",
         "0.0",
         "8.262044885595442"
        ],
        [
         "57",
         "departure_point_FRA",
         "0.00011987189568706044",
         "0.0006782718",
         "49.428333",
         "0",
         "0.0",
         "0.0",
         "8.238188571029719"
        ],
        [
         "1321",
         "City_Frankfurt",
         "0.00012742193917669004",
         "0.0",
         "49.384476",
         "0",
         "0.0",
         "0.0",
         "8.230767188324497"
        ],
        [
         "194",
         "arrival_point_IEV",
         "4.258834864671941e-05",
         "0.00051138754",
         "48.655605",
         "0",
         "0.0",
         "0.0",
         "8.109359882008077"
        ],
        [
         "762",
         "route_JED → CAI",
         "1.1221606290278626e-06",
         "0.0",
         "48.351032",
         "0",
         "0.0",
         "0.0",
         "8.058505563206785"
        ],
        [
         "1102",
         "route_TUN → BEG",
         "9.56228192386806e-05",
         "0.0006017453",
         "43.6093",
         "3",
         "0.0",
         "0.0",
         "7.768332679033488"
        ],
        [
         "754",
         "route_HBE → JED",
         "6.744962876037477e-06",
         "0.0",
         "46.383224",
         "0",
         "0.0",
         "0.0",
         "7.730538538711261"
        ],
        [
         "273",
         "aircraft_code_5M 343SUN",
         "0.00012951666347680598",
         "0.0010090629",
         "39.339767",
         "7",
         "0.0",
         "0.00018561901347700937",
         "7.723515275765922"
        ],
        [
         "555",
         "route_BKO → NBE",
         "1.7874651761169474e-05",
         "0.00023836753",
         "45.80973",
         "0",
         "0.0",
         "0.0",
         "7.634997795327983"
        ],
        [
         "239",
         "arrival_point_PSA",
         "1.9294576923559437e-05",
         "0.0003510417",
         "45.213326",
         "0",
         "0.0",
         "0.0",
         "7.535615972794354"
        ],
        [
         "871",
         "route_MIR → PSA",
         "2.5133427665809567e-05",
         "0.0",
         "45.213287",
         "0",
         "0.0",
         "0.0",
         "7.535552081157214"
        ],
        [
         "544",
         "route_BEG → BEG",
         "4.4963435713040324e-05",
         "0.00036871945",
         "45.07611",
         "0",
         "0.0",
         "0.0",
         "7.512754087122386"
        ],
        [
         "267",
         "flight_status_RTR",
         "0.00013602957969427562",
         "0.0044875415",
         "33.790302",
         "11",
         "0.005132443004546022",
         "0.003936600138983949",
         "7.4673324818064595"
        ],
        [
         "812",
         "route_LYS → TUN",
         "0.0009305872701457632",
         "0.004156864",
         "26.992653",
         "17",
         "0.0",
         "0.0035507310332889646",
         "7.333548512525399"
        ],
        [
         "1099",
         "route_TUN → ATH",
         "5.823174628750738e-06",
         "0.0",
         "43.757133",
         "0",
         "0.0",
         "0.0",
         "7.292856551176892"
        ],
        [
         "570",
         "route_BRQ → BRQ",
         "8.808787734762615e-08",
         "0.0",
         "42.758965",
         "0",
         "0.0",
         "0.0",
         "7.126494104443683"
        ],
        [
         "1400",
         "aircraft_model_Airbus A318",
         "0.004904698390906161",
         "0.009610862",
         "7.670056",
         "35",
         "0.00905039603101428",
         "0.009416213351440788",
         "7.117173005925776"
        ],
        [
         "265",
         "flight_status_DEL",
         "0.0006372702309577463",
         "0.0007641156",
         "28.448797",
         "14",
         "0.0",
         "0.0008664126647155238",
         "7.075177504074156"
        ],
        [
         "1174",
         "route_TUN → OUD",
         "2.3645503200374745e-05",
         "0.00024820896",
         "42.399498",
         "0",
         "0.0",
         "0.0",
         "7.066628306717532"
        ],
        [
         "1014",
         "route_PMO → NBE",
         "2.7665825665868152e-05",
         "0.0",
         "42.236164",
         "0",
         "0.0",
         "0.0",
         "7.03936529314054"
        ],
        [
         "67",
         "departure_point_IST",
         "0.00017583244526543754",
         "0.0026964094",
         "36.22362",
         "6",
         "0.0",
         "0.0003157786188961291",
         "7.0378015648047025"
        ]
       ],
       "shape": {
        "columns": 8,
        "rows": 1414
       }
      },
      "text/html": [
       "<div>\n",
       "<style scoped>\n",
       "    .dataframe tbody tr th:only-of-type {\n",
       "        vertical-align: middle;\n",
       "    }\n",
       "\n",
       "    .dataframe tbody tr th {\n",
       "        vertical-align: top;\n",
       "    }\n",
       "\n",
       "    .dataframe thead th {\n",
       "        text-align: right;\n",
       "    }\n",
       "</style>\n",
       "<table border=\"1\" class=\"dataframe\">\n",
       "  <thead>\n",
       "    <tr style=\"text-align: right;\">\n",
       "      <th></th>\n",
       "      <th>feature</th>\n",
       "      <th>RandomForest</th>\n",
       "      <th>XGBoost</th>\n",
       "      <th>Ridge</th>\n",
       "      <th>LightGBM</th>\n",
       "      <th>AdaBoost</th>\n",
       "      <th>GradientBoosting</th>\n",
       "      <th>avg_importance</th>\n",
       "    </tr>\n",
       "  </thead>\n",
       "  <tbody>\n",
       "    <tr>\n",
       "      <th>8</th>\n",
       "      <td>num_passenger_year</td>\n",
       "      <td>0.042434</td>\n",
       "      <td>0.003453</td>\n",
       "      <td>39.687557</td>\n",
       "      <td>218</td>\n",
       "      <td>0.043369</td>\n",
       "      <td>0.067736</td>\n",
       "      <td>42.974092</td>\n",
       "    </tr>\n",
       "    <tr>\n",
       "      <th>1</th>\n",
       "      <td>dep_temp</td>\n",
       "      <td>0.053690</td>\n",
       "      <td>0.000446</td>\n",
       "      <td>0.539253</td>\n",
       "      <td>153</td>\n",
       "      <td>0.000109</td>\n",
       "      <td>0.004199</td>\n",
       "      <td>25.599616</td>\n",
       "    </tr>\n",
       "    <tr>\n",
       "      <th>4</th>\n",
       "      <td>arr_temp</td>\n",
       "      <td>0.055669</td>\n",
       "      <td>0.000696</td>\n",
       "      <td>0.408382</td>\n",
       "      <td>135</td>\n",
       "      <td>0.000131</td>\n",
       "      <td>0.002531</td>\n",
       "      <td>22.577901</td>\n",
       "    </tr>\n",
       "    <tr>\n",
       "      <th>6</th>\n",
       "      <td>arr_wind</td>\n",
       "      <td>0.058381</td>\n",
       "      <td>0.000558</td>\n",
       "      <td>1.247772</td>\n",
       "      <td>121</td>\n",
       "      <td>0.000806</td>\n",
       "      <td>0.002400</td>\n",
       "      <td>20.384986</td>\n",
       "    </tr>\n",
       "    <tr>\n",
       "      <th>3</th>\n",
       "      <td>dep_wind</td>\n",
       "      <td>0.055698</td>\n",
       "      <td>0.000485</td>\n",
       "      <td>1.138566</td>\n",
       "      <td>114</td>\n",
       "      <td>0.002644</td>\n",
       "      <td>0.001387</td>\n",
       "      <td>19.199797</td>\n",
       "    </tr>\n",
       "    <tr>\n",
       "      <th>...</th>\n",
       "      <td>...</td>\n",
       "      <td>...</td>\n",
       "      <td>...</td>\n",
       "      <td>...</td>\n",
       "      <td>...</td>\n",
       "      <td>...</td>\n",
       "      <td>...</td>\n",
       "      <td>...</td>\n",
       "    </tr>\n",
       "    <tr>\n",
       "      <th>1093</th>\n",
       "      <td>route_TUN → AAE</td>\n",
       "      <td>0.000000</td>\n",
       "      <td>0.000000</td>\n",
       "      <td>0.000000</td>\n",
       "      <td>0</td>\n",
       "      <td>0.000000</td>\n",
       "      <td>0.000000</td>\n",
       "      <td>0.000000</td>\n",
       "    </tr>\n",
       "    <tr>\n",
       "      <th>1069</th>\n",
       "      <td>route_TLS → NCE</td>\n",
       "      <td>0.000000</td>\n",
       "      <td>0.000000</td>\n",
       "      <td>0.000000</td>\n",
       "      <td>0</td>\n",
       "      <td>0.000000</td>\n",
       "      <td>0.000000</td>\n",
       "      <td>0.000000</td>\n",
       "    </tr>\n",
       "    <tr>\n",
       "      <th>1059</th>\n",
       "      <td>route_TBJ → JED</td>\n",
       "      <td>0.000000</td>\n",
       "      <td>0.000000</td>\n",
       "      <td>0.000000</td>\n",
       "      <td>0</td>\n",
       "      <td>0.000000</td>\n",
       "      <td>0.000000</td>\n",
       "      <td>0.000000</td>\n",
       "    </tr>\n",
       "    <tr>\n",
       "      <th>1041</th>\n",
       "      <td>route_SKX → TUN</td>\n",
       "      <td>0.000000</td>\n",
       "      <td>0.000000</td>\n",
       "      <td>0.000000</td>\n",
       "      <td>0</td>\n",
       "      <td>0.000000</td>\n",
       "      <td>0.000000</td>\n",
       "      <td>0.000000</td>\n",
       "    </tr>\n",
       "    <tr>\n",
       "      <th>707</th>\n",
       "      <td>route_FCO → MIR</td>\n",
       "      <td>0.000000</td>\n",
       "      <td>0.000000</td>\n",
       "      <td>0.000000</td>\n",
       "      <td>0</td>\n",
       "      <td>0.000000</td>\n",
       "      <td>0.000000</td>\n",
       "      <td>0.000000</td>\n",
       "    </tr>\n",
       "  </tbody>\n",
       "</table>\n",
       "<p>1414 rows × 8 columns</p>\n",
       "</div>"
      ],
      "text/plain": [
       "                 feature  RandomForest   XGBoost      Ridge  LightGBM   \n",
       "8     num_passenger_year      0.042434  0.003453  39.687557       218  \\\n",
       "1               dep_temp      0.053690  0.000446   0.539253       153   \n",
       "4               arr_temp      0.055669  0.000696   0.408382       135   \n",
       "6               arr_wind      0.058381  0.000558   1.247772       121   \n",
       "3               dep_wind      0.055698  0.000485   1.138566       114   \n",
       "...                  ...           ...       ...        ...       ...   \n",
       "1093     route_TUN → AAE      0.000000  0.000000   0.000000         0   \n",
       "1069     route_TLS → NCE      0.000000  0.000000   0.000000         0   \n",
       "1059     route_TBJ → JED      0.000000  0.000000   0.000000         0   \n",
       "1041     route_SKX → TUN      0.000000  0.000000   0.000000         0   \n",
       "707      route_FCO → MIR      0.000000  0.000000   0.000000         0   \n",
       "\n",
       "      AdaBoost  GradientBoosting  avg_importance  \n",
       "8     0.043369          0.067736       42.974092  \n",
       "1     0.000109          0.004199       25.599616  \n",
       "4     0.000131          0.002531       22.577901  \n",
       "6     0.000806          0.002400       20.384986  \n",
       "3     0.002644          0.001387       19.199797  \n",
       "...        ...               ...             ...  \n",
       "1093  0.000000          0.000000        0.000000  \n",
       "1069  0.000000          0.000000        0.000000  \n",
       "1059  0.000000          0.000000        0.000000  \n",
       "1041  0.000000          0.000000        0.000000  \n",
       "707   0.000000          0.000000        0.000000  \n",
       "\n",
       "[1414 rows x 8 columns]"
      ]
     },
     "execution_count": 62,
     "metadata": {},
     "output_type": "execute_result"
    }
   ],
   "source": [
    "# Get feature importances from each base model and display them\n",
    "\n",
    "# Random Forest feature importances\n",
    "rf_importances = rf_model.feature_importances_\n",
    "\n",
    "# XGBoost feature importances\n",
    "xgb_importances = xgb_model.feature_importances_\n",
    "\n",
    "# KNN does not provide feature importances, so skip it\n",
    "\n",
    "# Ridge feature coefficients (absolute value for importance)\n",
    "ridge_importances = np.abs(ridge_model.coef_)\n",
    "\n",
    "# LightGBM feature importances\n",
    "lgbm_importances = lgbm_model.feature_importances_\n",
    "\n",
    "# CatBoost feature importances\n",
    "catboost_importances = catboost.get_feature_importance()\n",
    "\n",
    "# AdaBoost feature importances (using the base estimator's feature importances)\n",
    "adaboost_importances = adaboost_model.feature_importances_\n",
    "\n",
    "# Gradient Boosting feature importances\n",
    "gbr_importances = gbr_model.feature_importances_\n",
    "\n",
    "# Get encoded categorical column names\n",
    "encoded_cat_cols = encoder.get_feature_names_out(cat_col)\n",
    "\n",
    "# Feature names\n",
    "feature_names = num_col + list(encoded_cat_cols)\n",
    "\n",
    "# Create a DataFrame for each model's importances\n",
    "importances_df = pd.DataFrame({\n",
    "    'feature': feature_names,\n",
    "    'RandomForest': rf_importances,\n",
    "    'XGBoost': xgb_importances,\n",
    "    'Ridge': ridge_importances,\n",
    "    'LightGBM': lgbm_importances,\n",
    "    #'CatBoost': catboost_importances,\n",
    "    'AdaBoost': adaboost_importances,\n",
    "    'GradientBoosting': gbr_importances\n",
    "})\n",
    "\n",
    "# Show top 15 features by average importance across models\n",
    "importances_df['avg_importance'] = importances_df[[\n",
    "    'RandomForest',\n",
    "    'XGBoost', \n",
    "    'Ridge', \n",
    "    'LightGBM',\n",
    "    #'CatBoost',\n",
    "    'AdaBoost',\n",
    "    'GradientBoosting'\n",
    "    ]].mean(axis=1)\n",
    "importances_df.sort_values('avg_importance', ascending=False)"
   ]
  },
  {
   "cell_type": "markdown",
   "id": "35235cbf",
   "metadata": {},
   "source": [
    "Further work - HYPERPARAMETERS - XGB RandomisedSearchCV\n",
    "\n",
    "Find the best parameters for XGBRegressor"
   ]
  },
  {
   "cell_type": "code",
   "execution_count": null,
   "id": "d6e4ad9b",
   "metadata": {},
   "outputs": [],
   "source": [
    "# Fit model to training data\n",
    "xgb_best = XGBRegressor(objective='reg:squarederror', random_state=42)\n",
    "\n",
    "#hyperparameter grid\n",
    "xgb_param_grid = {\n",
    "    'n_estimators': [50, 100, 200, 300],\n",
    "    'max_depth': [3, 4, 5, 6, 8],\n",
    "    'learning_rate': [0.01, 0.05, 0.1, 0.2],\n",
    "    'subsample': [0.6, 0.8],\n",
    "    'colsample_bytree': [0.6, 0.8],\n",
    "    'gamma': [0, 0.1, 0.2, 0.5],\n",
    "    'min_child_weight': [1, 3, 5],\n",
    "    'scale_pos_weight': [1, 2]\n",
    "}\n",
    "\n",
    "xgb_search = GridSearchCV(\n",
    "    XGBRegressor(objective='reg:squarederror', random_state=42), \n",
    "    xgb_param_grid, \n",
    "    cv=3, \n",
    "    scoring='neg_root_mean_squared_error', \n",
    "    n_jobs=-1)\n",
    "xgb_search.fit(X_train_1, y_train_1)\n",
    "best_xgb = xgb_search.best_estimator_\n",
    "\n",
    "xgb_ransearcv_best = RandomizedSearchCV(estimator=xgb_best, param_distributions=xgb_param_grid, \n",
    "                          n_iter=100, scoring='accuracy', cv=3, \n",
    "                          verbose=1, random_state=42, n_jobs=-1)\n",
    "xgb_ransearcv_best.fit(X_train_1, y_train_1)"
   ]
  },
  {
   "cell_type": "code",
   "execution_count": null,
   "id": "24e30a8c",
   "metadata": {},
   "outputs": [],
   "source": [
    "from sklearn.model_selection import GridSearchCV\n",
    "\n",
    "rf_param_grid = {\n",
    "    'n_estimators': [100, 200],\n",
    "    'max_depth': [5, 10, None],\n",
    "    'min_samples_split': [2, 5]\n",
    "}\n",
    "\n",
    "xgb_param_grid = {\n",
    "    'n_estimators': [100, 200],\n",
    "    'max_depth': [3, 5, 7],\n",
    "    'learning_rate': [0.01, 0.1, 0.2]\n",
    "}\n",
    "\n",
    "ridge_param_grid = {\n",
    "    'alpha': [0.1, 1.0, 10.0]\n",
    "}\n",
    "\n",
    "lgbm_param_grid = {\n",
    "    'n_estimators': [100, 200],\n",
    "    'max_depth': [3, 5, 7],\n",
    "    'learning_rate': [0.01, 0.1, 0.2]\n",
    "}\n",
    "\n",
    "# Random Forest\n",
    "rf_search = GridSearchCV(RandomForestRegressor(random_state=42), rf_param_grid, cv=3, scoring='neg_root_mean_squared_error', n_jobs=-1)\n",
    "rf_search.fit(X_train_1, y_train_1)\n",
    "best_rf = rf_search.best_estimator_\n",
    "\n",
    "# XGBoost\n",
    "xgb_search = GridSearchCV(XGBRegressor(objective='reg:squarederror', random_state=42), xgb_param_grid, cv=3, scoring='neg_root_mean_squared_error', n_jobs=-1)\n",
    "xgb_search.fit(X_train_1, y_train_1)\n",
    "best_xgb = xgb_search.best_estimator_\n",
    "\n",
    "# Ridge\n",
    "ridge_search = GridSearchCV(Ridge(random_state=42), ridge_param_grid, cv=3, scoring='neg_root_mean_squared_error', n_jobs=-1)\n",
    "ridge_search.fit(X_train_1, y_train_1)\n",
    "best_ridge = ridge_search.best_estimator_\n",
    "\n",
    "# LightGBM\n",
    "lgbm_search = GridSearchCV(LGBMRegressor(random_state=42), lgbm_param_grid, cv=3, scoring='neg_root_mean_squared_error', n_jobs=-1)\n",
    "lgbm_search.fit(X_train_1, y_train_1)\n",
    "best_lgbm = lgbm_search.best_estimator_"
   ]
  }
 ],
 "metadata": {
  "kernelspec": {
   "display_name": ".venv",
   "language": "python",
   "name": "python3"
  },
  "language_info": {
   "codemirror_mode": {
    "name": "ipython",
    "version": 3
   },
   "file_extension": ".py",
   "mimetype": "text/x-python",
   "name": "python",
   "nbconvert_exporter": "python",
   "pygments_lexer": "ipython3",
   "version": "3.11.3"
  }
 },
 "nbformat": 4,
 "nbformat_minor": 5
}
