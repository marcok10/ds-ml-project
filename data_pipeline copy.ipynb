{
 "cells": [
  {
   "cell_type": "code",
   "execution_count": 1,
   "id": "bcb04ac1",
   "metadata": {},
   "outputs": [],
   "source": [
    "#import necessary libraries\n",
    "import pandas as pd\n",
    "import numpy as np\n",
    "import matplotlib.pyplot as plt\n",
    "import seaborn as sns\n",
    "import warnings\n",
    "warnings.filterwarnings(\"ignore\")\n",
    "\n",
    "#impore pipeline libraries\n",
    "from sklearn.pipeline import Pipeline\n",
    "from sklearn.compose import ColumnTransformer\n",
    "from sklearn.preprocessing import OneHotEncoder\n",
    "from sklearn.model_selection import train_test_split, GridSearchCV, RandomizedSearchCV\n",
    "from sklearn.metrics import mean_squared_error\n",
    "from xgboost import XGBRegressor"
   ]
  },
  {
   "cell_type": "code",
   "execution_count": 12,
   "id": "e3fcfc33",
   "metadata": {},
   "outputs": [],
   "source": [
    "# Load the dataset\n",
    "df = pd.read_csv('data/preprocessed_train_data.csv')\n",
    "df_real_test = pd.read_csv('data/preprocessed_test_data.csv')"
   ]
  },
  {
   "cell_type": "code",
   "execution_count": 3,
   "id": "9da7d327",
   "metadata": {},
   "outputs": [],
   "source": [
    "y = df['target']\n",
    "X = df.drop(columns=['target'])\n",
    "\n",
    "X_train, X_test, y_train, y_test = train_test_split(\n",
    "X, y, test_size=0.2, random_state=42, stratify=y)"
   ]
  },
  {
   "cell_type": "code",
   "execution_count": 4,
   "id": "f17bdf7a",
   "metadata": {},
   "outputs": [],
   "source": [
    "def flight_delay_pipline():\n",
    "    # Define the categorical features\n",
    "    num_col = ['duration']\n",
    "    cat_col = ['departure_point', 'arrival_point', 'flight_status', 'aircraft_code']\n",
    "\n",
    "    # Create the column transformer\n",
    "    preprocessor = ColumnTransformer(\n",
    "        transformers=[\n",
    "            ('num', 'passthrough', num_col),\n",
    "            ('cat', OneHotEncoder(handle_unknown='ignore'), cat_col)\n",
    "        ])\n",
    "\n",
    "    model = XGBRegressor(objective='reg:squarederror', random_state=42)\n",
    "\n",
    "    pipeline = Pipeline(steps=[\n",
    "        ('preprocessor', preprocessor),\n",
    "        ('regressor', model)\n",
    "    ])\n",
    "\n",
    "    return pipeline\n",
    "\n",
    "def hyperparameter():\n",
    "    param_distributions = {\n",
    "    'regressor__n_estimators': [50, 100, 200],\n",
    "    'regressor__max_depth': [3, 4, 5, 6],\n",
    "    'regressor__learning_rate': [0.01, 0.05, 0.1, 0.2],\n",
    "    'regressor__subsample': [0.6, 0.8, 1.0],\n",
    "    'regressor__colsample_bytree': [0.6, 0.8, 1.0]}\n",
    "\n",
    "    return param_distributions\n",
    "\n",
    "def RandomizedSearch_function(X_train, y_train):\n",
    "    pipeline = flight_delay_pipline()\n",
    "    param_distributions = hyperparameter()\n",
    "\n",
    "    random_search = RandomizedSearchCV(\n",
    "        pipeline,\n",
    "        param_distributions=param_distributions,\n",
    "        n_iter=20,\n",
    "        cv=5,\n",
    "        scoring='neg_mean_squared_error',\n",
    "        verbose=1,\n",
    "        n_jobs=-1,\n",
    "        random_state=42)\n",
    "        \n",
    "    random_search.fit(X_train, y_train)\n",
    "\n",
    "    return random_search"
   ]
  },
  {
   "cell_type": "code",
   "execution_count": 5,
   "id": "e1cdfea9",
   "metadata": {},
   "outputs": [
    {
     "name": "stdout",
     "output_type": "stream",
     "text": [
      "Fitting 5 folds for each of 20 candidates, totalling 100 fits\n",
      "Best Params: {'regressor__subsample': 1.0, 'regressor__n_estimators': 100, 'regressor__max_depth': 5, 'regressor__learning_rate': 0.2, 'regressor__colsample_bytree': 0.8}\n",
      "Test RMSE: 35.32\n"
     ]
    }
   ],
   "source": [
    "# Best pipeline\n",
    "random_search = RandomizedSearch_function(X_train, y_train)\n",
    "best_pipeline = random_search.best_estimator_\n",
    "\n",
    "# Predict and evaluate\n",
    "y_pred = best_pipeline.predict(X_test)\n",
    "\n",
    "y_pred[y_pred < 0] = 0\n",
    "y_test = y_test.clip(lower=0)\n",
    "\n",
    "rmse = np.sqrt(mean_squared_error(y_test, y_pred))\n",
    "\n",
    "print(f\"Best Params: {random_search.best_params_}\")\n",
    "print(f\"Test RMSE: {rmse:.2f}\")"
   ]
  },
  {
   "cell_type": "code",
   "execution_count": 6,
   "id": "f450c2e5",
   "metadata": {},
   "outputs": [
    {
     "data": {
      "text/html": [
       "<style>#sk-container-id-1 {color: black;background-color: white;}#sk-container-id-1 pre{padding: 0;}#sk-container-id-1 div.sk-toggleable {background-color: white;}#sk-container-id-1 label.sk-toggleable__label {cursor: pointer;display: block;width: 100%;margin-bottom: 0;padding: 0.3em;box-sizing: border-box;text-align: center;}#sk-container-id-1 label.sk-toggleable__label-arrow:before {content: \"▸\";float: left;margin-right: 0.25em;color: #696969;}#sk-container-id-1 label.sk-toggleable__label-arrow:hover:before {color: black;}#sk-container-id-1 div.sk-estimator:hover label.sk-toggleable__label-arrow:before {color: black;}#sk-container-id-1 div.sk-toggleable__content {max-height: 0;max-width: 0;overflow: hidden;text-align: left;background-color: #f0f8ff;}#sk-container-id-1 div.sk-toggleable__content pre {margin: 0.2em;color: black;border-radius: 0.25em;background-color: #f0f8ff;}#sk-container-id-1 input.sk-toggleable__control:checked~div.sk-toggleable__content {max-height: 200px;max-width: 100%;overflow: auto;}#sk-container-id-1 input.sk-toggleable__control:checked~label.sk-toggleable__label-arrow:before {content: \"▾\";}#sk-container-id-1 div.sk-estimator input.sk-toggleable__control:checked~label.sk-toggleable__label {background-color: #d4ebff;}#sk-container-id-1 div.sk-label input.sk-toggleable__control:checked~label.sk-toggleable__label {background-color: #d4ebff;}#sk-container-id-1 input.sk-hidden--visually {border: 0;clip: rect(1px 1px 1px 1px);clip: rect(1px, 1px, 1px, 1px);height: 1px;margin: -1px;overflow: hidden;padding: 0;position: absolute;width: 1px;}#sk-container-id-1 div.sk-estimator {font-family: monospace;background-color: #f0f8ff;border: 1px dotted black;border-radius: 0.25em;box-sizing: border-box;margin-bottom: 0.5em;}#sk-container-id-1 div.sk-estimator:hover {background-color: #d4ebff;}#sk-container-id-1 div.sk-parallel-item::after {content: \"\";width: 100%;border-bottom: 1px solid gray;flex-grow: 1;}#sk-container-id-1 div.sk-label:hover label.sk-toggleable__label {background-color: #d4ebff;}#sk-container-id-1 div.sk-serial::before {content: \"\";position: absolute;border-left: 1px solid gray;box-sizing: border-box;top: 0;bottom: 0;left: 50%;z-index: 0;}#sk-container-id-1 div.sk-serial {display: flex;flex-direction: column;align-items: center;background-color: white;padding-right: 0.2em;padding-left: 0.2em;position: relative;}#sk-container-id-1 div.sk-item {position: relative;z-index: 1;}#sk-container-id-1 div.sk-parallel {display: flex;align-items: stretch;justify-content: center;background-color: white;position: relative;}#sk-container-id-1 div.sk-item::before, #sk-container-id-1 div.sk-parallel-item::before {content: \"\";position: absolute;border-left: 1px solid gray;box-sizing: border-box;top: 0;bottom: 0;left: 50%;z-index: -1;}#sk-container-id-1 div.sk-parallel-item {display: flex;flex-direction: column;z-index: 1;position: relative;background-color: white;}#sk-container-id-1 div.sk-parallel-item:first-child::after {align-self: flex-end;width: 50%;}#sk-container-id-1 div.sk-parallel-item:last-child::after {align-self: flex-start;width: 50%;}#sk-container-id-1 div.sk-parallel-item:only-child::after {width: 0;}#sk-container-id-1 div.sk-dashed-wrapped {border: 1px dashed gray;margin: 0 0.4em 0.5em 0.4em;box-sizing: border-box;padding-bottom: 0.4em;background-color: white;}#sk-container-id-1 div.sk-label label {font-family: monospace;font-weight: bold;display: inline-block;line-height: 1.2em;}#sk-container-id-1 div.sk-label-container {text-align: center;}#sk-container-id-1 div.sk-container {/* jupyter's `normalize.less` sets `[hidden] { display: none; }` but bootstrap.min.css set `[hidden] { display: none !important; }` so we also need the `!important` here to be able to override the default hidden behavior on the sphinx rendered scikit-learn.org. See: https://github.com/scikit-learn/scikit-learn/issues/21755 */display: inline-block !important;position: relative;}#sk-container-id-1 div.sk-text-repr-fallback {display: none;}</style><div id=\"sk-container-id-1\" class=\"sk-top-container\"><div class=\"sk-text-repr-fallback\"><pre>Pipeline(steps=[(&#x27;preprocessor&#x27;,\n",
       "                 ColumnTransformer(transformers=[(&#x27;num&#x27;, &#x27;passthrough&#x27;,\n",
       "                                                  [&#x27;duration&#x27;]),\n",
       "                                                 (&#x27;cat&#x27;,\n",
       "                                                  OneHotEncoder(handle_unknown=&#x27;ignore&#x27;),\n",
       "                                                  [&#x27;departure_point&#x27;,\n",
       "                                                   &#x27;arrival_point&#x27;,\n",
       "                                                   &#x27;flight_status&#x27;,\n",
       "                                                   &#x27;aircraft_code&#x27;])])),\n",
       "                (&#x27;regressor&#x27;,\n",
       "                 XGBRegressor(base_score=None, booster=None, callbacks=None,\n",
       "                              colsample_bylevel=None, colsample_bynode=None,\n",
       "                              colsample_bytree=0...\n",
       "                              feature_types=None, gamma=None, gpu_id=None,\n",
       "                              grow_policy=None, importance_type=None,\n",
       "                              interaction_constraints=None, learning_rate=0.2,\n",
       "                              max_bin=None, max_cat_threshold=None,\n",
       "                              max_cat_to_onehot=None, max_delta_step=None,\n",
       "                              max_depth=5, max_leaves=None,\n",
       "                              min_child_weight=None, missing=nan,\n",
       "                              monotone_constraints=None, n_estimators=100,\n",
       "                              n_jobs=None, num_parallel_tree=None,\n",
       "                              predictor=None, random_state=42, ...))])</pre><b>In a Jupyter environment, please rerun this cell to show the HTML representation or trust the notebook. <br />On GitHub, the HTML representation is unable to render, please try loading this page with nbviewer.org.</b></div><div class=\"sk-container\" hidden><div class=\"sk-item sk-dashed-wrapped\"><div class=\"sk-label-container\"><div class=\"sk-label sk-toggleable\"><input class=\"sk-toggleable__control sk-hidden--visually\" id=\"sk-estimator-id-1\" type=\"checkbox\" ><label for=\"sk-estimator-id-1\" class=\"sk-toggleable__label sk-toggleable__label-arrow\">Pipeline</label><div class=\"sk-toggleable__content\"><pre>Pipeline(steps=[(&#x27;preprocessor&#x27;,\n",
       "                 ColumnTransformer(transformers=[(&#x27;num&#x27;, &#x27;passthrough&#x27;,\n",
       "                                                  [&#x27;duration&#x27;]),\n",
       "                                                 (&#x27;cat&#x27;,\n",
       "                                                  OneHotEncoder(handle_unknown=&#x27;ignore&#x27;),\n",
       "                                                  [&#x27;departure_point&#x27;,\n",
       "                                                   &#x27;arrival_point&#x27;,\n",
       "                                                   &#x27;flight_status&#x27;,\n",
       "                                                   &#x27;aircraft_code&#x27;])])),\n",
       "                (&#x27;regressor&#x27;,\n",
       "                 XGBRegressor(base_score=None, booster=None, callbacks=None,\n",
       "                              colsample_bylevel=None, colsample_bynode=None,\n",
       "                              colsample_bytree=0...\n",
       "                              feature_types=None, gamma=None, gpu_id=None,\n",
       "                              grow_policy=None, importance_type=None,\n",
       "                              interaction_constraints=None, learning_rate=0.2,\n",
       "                              max_bin=None, max_cat_threshold=None,\n",
       "                              max_cat_to_onehot=None, max_delta_step=None,\n",
       "                              max_depth=5, max_leaves=None,\n",
       "                              min_child_weight=None, missing=nan,\n",
       "                              monotone_constraints=None, n_estimators=100,\n",
       "                              n_jobs=None, num_parallel_tree=None,\n",
       "                              predictor=None, random_state=42, ...))])</pre></div></div></div><div class=\"sk-serial\"><div class=\"sk-item sk-dashed-wrapped\"><div class=\"sk-label-container\"><div class=\"sk-label sk-toggleable\"><input class=\"sk-toggleable__control sk-hidden--visually\" id=\"sk-estimator-id-2\" type=\"checkbox\" ><label for=\"sk-estimator-id-2\" class=\"sk-toggleable__label sk-toggleable__label-arrow\">preprocessor: ColumnTransformer</label><div class=\"sk-toggleable__content\"><pre>ColumnTransformer(transformers=[(&#x27;num&#x27;, &#x27;passthrough&#x27;, [&#x27;duration&#x27;]),\n",
       "                                (&#x27;cat&#x27;, OneHotEncoder(handle_unknown=&#x27;ignore&#x27;),\n",
       "                                 [&#x27;departure_point&#x27;, &#x27;arrival_point&#x27;,\n",
       "                                  &#x27;flight_status&#x27;, &#x27;aircraft_code&#x27;])])</pre></div></div></div><div class=\"sk-parallel\"><div class=\"sk-parallel-item\"><div class=\"sk-item\"><div class=\"sk-label-container\"><div class=\"sk-label sk-toggleable\"><input class=\"sk-toggleable__control sk-hidden--visually\" id=\"sk-estimator-id-3\" type=\"checkbox\" ><label for=\"sk-estimator-id-3\" class=\"sk-toggleable__label sk-toggleable__label-arrow\">num</label><div class=\"sk-toggleable__content\"><pre>[&#x27;duration&#x27;]</pre></div></div></div><div class=\"sk-serial\"><div class=\"sk-item\"><div class=\"sk-estimator sk-toggleable\"><input class=\"sk-toggleable__control sk-hidden--visually\" id=\"sk-estimator-id-4\" type=\"checkbox\" ><label for=\"sk-estimator-id-4\" class=\"sk-toggleable__label sk-toggleable__label-arrow\">passthrough</label><div class=\"sk-toggleable__content\"><pre>passthrough</pre></div></div></div></div></div></div><div class=\"sk-parallel-item\"><div class=\"sk-item\"><div class=\"sk-label-container\"><div class=\"sk-label sk-toggleable\"><input class=\"sk-toggleable__control sk-hidden--visually\" id=\"sk-estimator-id-5\" type=\"checkbox\" ><label for=\"sk-estimator-id-5\" class=\"sk-toggleable__label sk-toggleable__label-arrow\">cat</label><div class=\"sk-toggleable__content\"><pre>[&#x27;departure_point&#x27;, &#x27;arrival_point&#x27;, &#x27;flight_status&#x27;, &#x27;aircraft_code&#x27;]</pre></div></div></div><div class=\"sk-serial\"><div class=\"sk-item\"><div class=\"sk-estimator sk-toggleable\"><input class=\"sk-toggleable__control sk-hidden--visually\" id=\"sk-estimator-id-6\" type=\"checkbox\" ><label for=\"sk-estimator-id-6\" class=\"sk-toggleable__label sk-toggleable__label-arrow\">OneHotEncoder</label><div class=\"sk-toggleable__content\"><pre>OneHotEncoder(handle_unknown=&#x27;ignore&#x27;)</pre></div></div></div></div></div></div></div></div><div class=\"sk-item\"><div class=\"sk-estimator sk-toggleable\"><input class=\"sk-toggleable__control sk-hidden--visually\" id=\"sk-estimator-id-7\" type=\"checkbox\" ><label for=\"sk-estimator-id-7\" class=\"sk-toggleable__label sk-toggleable__label-arrow\">XGBRegressor</label><div class=\"sk-toggleable__content\"><pre>XGBRegressor(base_score=None, booster=None, callbacks=None,\n",
       "             colsample_bylevel=None, colsample_bynode=None,\n",
       "             colsample_bytree=0.8, early_stopping_rounds=None,\n",
       "             enable_categorical=False, eval_metric=None, feature_types=None,\n",
       "             gamma=None, gpu_id=None, grow_policy=None, importance_type=None,\n",
       "             interaction_constraints=None, learning_rate=0.2, max_bin=None,\n",
       "             max_cat_threshold=None, max_cat_to_onehot=None,\n",
       "             max_delta_step=None, max_depth=5, max_leaves=None,\n",
       "             min_child_weight=None, missing=nan, monotone_constraints=None,\n",
       "             n_estimators=100, n_jobs=None, num_parallel_tree=None,\n",
       "             predictor=None, random_state=42, ...)</pre></div></div></div></div></div></div></div>"
      ],
      "text/plain": [
       "Pipeline(steps=[('preprocessor',\n",
       "                 ColumnTransformer(transformers=[('num', 'passthrough',\n",
       "                                                  ['duration']),\n",
       "                                                 ('cat',\n",
       "                                                  OneHotEncoder(handle_unknown='ignore'),\n",
       "                                                  ['departure_point',\n",
       "                                                   'arrival_point',\n",
       "                                                   'flight_status',\n",
       "                                                   'aircraft_code'])])),\n",
       "                ('regressor',\n",
       "                 XGBRegressor(base_score=None, booster=None, callbacks=None,\n",
       "                              colsample_bylevel=None, colsample_bynode=None,\n",
       "                              colsample_bytree=0...\n",
       "                              feature_types=None, gamma=None, gpu_id=None,\n",
       "                              grow_policy=None, importance_type=None,\n",
       "                              interaction_constraints=None, learning_rate=0.2,\n",
       "                              max_bin=None, max_cat_threshold=None,\n",
       "                              max_cat_to_onehot=None, max_delta_step=None,\n",
       "                              max_depth=5, max_leaves=None,\n",
       "                              min_child_weight=None, missing=nan,\n",
       "                              monotone_constraints=None, n_estimators=100,\n",
       "                              n_jobs=None, num_parallel_tree=None,\n",
       "                              predictor=None, random_state=42, ...))])"
      ]
     },
     "execution_count": 6,
     "metadata": {},
     "output_type": "execute_result"
    }
   ],
   "source": [
    "best_pipeline"
   ]
  },
  {
   "cell_type": "code",
   "execution_count": 7,
   "id": "5b760a7a",
   "metadata": {},
   "outputs": [],
   "source": [
    "\n",
    "y_pred_real_test = best_pipeline.predict(df_real_test)"
   ]
  },
  {
   "cell_type": "code",
   "execution_count": 8,
   "id": "1eefa232",
   "metadata": {},
   "outputs": [],
   "source": [
    "y_pred_real_test[y_pred_real_test < 0] = 0\n"
   ]
  },
  {
   "cell_type": "code",
   "execution_count": 9,
   "id": "a8fb9c4e",
   "metadata": {},
   "outputs": [
    {
     "data": {
      "application/vnd.microsoft.datawrangler.viewer.v0+json": {
       "columns": [
        {
         "name": "index",
         "rawType": "int64",
         "type": "integer"
        },
        {
         "name": "Unnamed: 0",
         "rawType": "int64",
         "type": "integer"
        },
        {
         "name": "id",
         "rawType": "object",
         "type": "string"
        },
        {
         "name": "departure_point",
         "rawType": "object",
         "type": "string"
        },
        {
         "name": "arrival_point",
         "rawType": "object",
         "type": "string"
        },
        {
         "name": "departure_time",
         "rawType": "object",
         "type": "string"
        },
        {
         "name": "arrival_time",
         "rawType": "object",
         "type": "string"
        },
        {
         "name": "flight_status",
         "rawType": "object",
         "type": "string"
        },
        {
         "name": "aircraft_code",
         "rawType": "object",
         "type": "string"
        },
        {
         "name": "duration",
         "rawType": "float64",
         "type": "float"
        }
       ],
       "ref": "856aa9ed-04d8-4a20-9f33-8b364c55db13",
       "rows": [
        [
         "0",
         "0",
         "test_id_0",
         "DJE",
         "TUN",
         "2016-05-04 06:40:00",
         "2016-05-04 07:30:00",
         "ATA",
         "TU 32AIMF",
         "3000.0"
        ],
        [
         "1",
         "1",
         "test_id_1",
         "TUN",
         "BKO",
         "2016-05-05 15:20:00",
         "2016-05-05 20:05:00",
         "ATA",
         "TU 320IMW",
         "17100.0"
        ],
        [
         "2",
         "2",
         "test_id_2",
         "FRA",
         "TUN",
         "2016-05-06 10:00:00",
         "2016-05-06 12:25:00",
         "ATA",
         "TU 32AIMC",
         "8700.0"
        ],
        [
         "3",
         "3",
         "test_id_3",
         "BEY",
         "TUN",
         "2016-05-11 09:40:00",
         "2016-05-11 13:10:00",
         "ATA",
         "TU 31BIMO",
         "12600.0"
        ],
        [
         "4",
         "4",
         "test_id_4",
         "ORY",
         "MIR",
         "2016-05-11 09:50:00",
         "2016-05-11 12:35:00",
         "ATA",
         "TU 736IOQ",
         "9900.0"
        ],
        [
         "5",
         "5",
         "test_id_5",
         "CDG",
         "SFA",
         "2016-05-11 11:10:00",
         "2016-05-11 12:40:00",
         "DEP",
         "TU CR9ISA",
         "5400.0"
        ],
        [
         "6",
         "6",
         "test_id_6",
         "BCN",
         "TUN",
         "2016-05-11 10:40:00",
         "2016-05-11 12:15:00",
         "ATA",
         "TU 32AIMF",
         "5700.0"
        ],
        [
         "7",
         "7",
         "test_id_7",
         "CMN",
         "TUN",
         "2016-05-11 10:35:00",
         "2016-05-11 13:00:00",
         "ATA",
         "TU 32AIMN",
         "8700.0"
        ],
        [
         "8",
         "8",
         "test_id_8",
         "LYS",
         "TUN",
         "2016-05-11 10:40:00",
         "2016-05-11 12:35:00",
         "ATA",
         "TU 320IMS",
         "6900.0"
        ],
        [
         "9",
         "9",
         "test_id_9",
         "FRA",
         "TUN",
         "2016-05-11 10:30:00",
         "2016-05-11 12:55:00",
         "ATA",
         "TU 32AIMC",
         "8700.0"
        ],
        [
         "10",
         "10",
         "test_id_10",
         "ORN",
         "TUN",
         "2016-05-23 16:00:00",
         "2016-05-23 17:40:00",
         "ATA",
         "TU 320IMW",
         "6000.0"
        ],
        [
         "11",
         "11",
         "test_id_11",
         "TUN",
         "NCE",
         "2016-05-27 14:15:00",
         "2016-05-27 15:45:00",
         "ATA",
         "TU 32AIMN",
         "5400.0"
        ],
        [
         "12",
         "12",
         "test_id_12",
         "LIS",
         "TUN",
         "2016-05-28 18:20:00",
         "2016-05-28 21:00:00",
         "ATA",
         "TU 31BIMQ",
         "9600.0"
        ],
        [
         "13",
         "13",
         "test_id_13",
         "NBE",
         "TUN",
         "2016-05-28 18:45:00",
         "2016-05-28 19:20:00",
         "ATA",
         "TU 736ION",
         "2100.0"
        ],
        [
         "14",
         "14",
         "test_id_14",
         "TUN",
         "ORY",
         "2016-05-28 18:20:00",
         "2016-05-28 20:40:00",
         "ATA",
         "TU 32AIML",
         "8400.0"
        ],
        [
         "15",
         "15",
         "test_id_15",
         "FRA",
         "NBE",
         "2016-05-28 17:45:00",
         "2016-05-28 20:10:00",
         "ATA",
         "TU 32AIMF",
         "8700.0"
        ],
        [
         "16",
         "16",
         "test_id_16",
         "SFA",
         "TUN",
         "2016-05-01 06:25:00",
         "2016-05-01 07:05:00",
         "ATA",
         "TU 320IMR",
         "2400.0"
        ],
        [
         "17",
         "17",
         "test_id_17",
         "TUN",
         "BLQ",
         "2016-05-01 08:30:00",
         "2016-05-01 10:10:00",
         "ATA",
         "TU 320IMR",
         "6000.0"
        ],
        [
         "18",
         "18",
         "test_id_18",
         "TUN",
         "ORY",
         "2016-05-01 06:50:00",
         "2016-05-01 09:10:00",
         "ATA",
         "TU 32AIMP",
         "8400.0"
        ],
        [
         "19",
         "19",
         "test_id_19",
         "MXP",
         "TUN",
         "2016-05-02 10:35:00",
         "2016-05-02 12:25:00",
         "ATA",
         "TU 320IMT",
         "6600.0"
        ],
        [
         "20",
         "20",
         "test_id_20",
         "LYS",
         "TUN",
         "2016-05-02 10:40:00",
         "2016-05-02 12:35:00",
         "ATA",
         "TU 32AIMD",
         "6900.0"
        ],
        [
         "21",
         "21",
         "test_id_21",
         "TUN",
         "MRS",
         "2016-05-02 11:25:00",
         "2016-05-02 13:00:00",
         "ATA",
         "TU 32AIMM",
         "5700.0"
        ],
        [
         "22",
         "22",
         "test_id_22",
         "DJE",
         "TUN",
         "2016-05-02 11:55:00",
         "2016-05-02 12:45:00",
         "ATA",
         "TU 736IOQ",
         "3000.0"
        ],
        [
         "23",
         "23",
         "test_id_23",
         "TUN",
         "LGW",
         "2016-05-02 12:30:00",
         "2016-05-02 15:10:00",
         "ATA",
         "TU 320IMW",
         "9600.0"
        ],
        [
         "24",
         "24",
         "test_id_24",
         "NCE",
         "MIR",
         "2016-05-02 14:30:00",
         "2016-05-02 16:10:00",
         "ATA",
         "TU 736IOR",
         "6000.0"
        ],
        [
         "25",
         "25",
         "test_id_25",
         "TUN",
         "ALG",
         "2016-05-02 13:45:00",
         "2016-05-02 15:05:00",
         "ATA",
         "TU 320IMR",
         "4800.0"
        ],
        [
         "26",
         "26",
         "test_id_26",
         "TUN",
         "LIS",
         "2016-05-02 14:35:00",
         "2016-05-02 17:30:00",
         "ATA",
         "TU 320IMV",
         "10500.0"
        ],
        [
         "27",
         "27",
         "test_id_27",
         "MXP",
         "TUN",
         "2016-05-02 15:05:00",
         "2016-05-02 16:55:00",
         "ATA",
         "TU 32AIMC",
         "6600.0"
        ],
        [
         "28",
         "28",
         "test_id_28",
         "TUN",
         "DJE",
         "2016-05-02 19:55:00",
         "2016-05-02 20:50:00",
         "ATA",
         "TU 736IOQ",
         "3300.0"
        ],
        [
         "29",
         "29",
         "test_id_29",
         "MED",
         "TUN",
         "2016-05-03 00:45:00",
         "2016-05-03 05:25:00",
         "ATA",
         "TU 332IFM",
         "16800.0"
        ],
        [
         "30",
         "30",
         "test_id_30",
         "DJE",
         "MIR",
         "2016-05-03 05:50:00",
         "2016-05-03 06:30:00",
         "ATA",
         "TU 32AIMF",
         "2400.0"
        ],
        [
         "31",
         "31",
         "test_id_31",
         "TUN",
         "ZRH",
         "2016-05-03 06:10:00",
         "2016-05-03 08:15:00",
         "ATA",
         "TU 736IOQ",
         "7500.0"
        ],
        [
         "32",
         "32",
         "test_id_32",
         "ORY",
         "TUN",
         "2016-05-03 06:00:00",
         "2016-05-03 08:25:00",
         "ATA",
         "TU 32AIMC",
         "8700.0"
        ],
        [
         "33",
         "33",
         "test_id_33",
         "TUN",
         "AMS",
         "2016-05-03 05:55:00",
         "2016-05-03 08:45:00",
         "ATA",
         "TU 736IOR",
         "10200.0"
        ],
        [
         "34",
         "34",
         "test_id_34",
         "TUN",
         "MRS",
         "2016-05-03 06:25:00",
         "2016-05-03 08:00:00",
         "ATA",
         "TU 32AIMM",
         "5700.0"
        ],
        [
         "35",
         "35",
         "test_id_35",
         "TUN",
         "BEG",
         "2016-05-03 06:15:00",
         "2016-05-03 08:25:00",
         "ATA",
         "TU 31AIMK",
         "7800.0"
        ],
        [
         "36",
         "36",
         "test_id_36",
         "TUN",
         "DJE",
         "2016-05-03 12:10:00",
         "2016-05-03 13:05:00",
         "ATA",
         "TU 736IOQ",
         "3300.0"
        ],
        [
         "37",
         "37",
         "test_id_37",
         "TUN",
         "MXP",
         "2016-05-03 12:30:00",
         "2016-05-03 14:15:00",
         "ATA",
         "TU 32AIMM",
         "6300.0"
        ],
        [
         "38",
         "38",
         "test_id_38",
         "LHR",
         "TUN",
         "2016-05-03 16:55:00",
         "2016-05-03 19:55:00",
         "ATA",
         "TU 32AIMC",
         "10800.0"
        ],
        [
         "39",
         "39",
         "test_id_39",
         "TUN",
         "JED",
         "2016-05-03 18:55:00",
         "2016-05-03 23:10:00",
         "ATA",
         "TU 332IFM",
         "15300.0"
        ],
        [
         "40",
         "40",
         "test_id_40",
         "CMN",
         "TUN",
         "2016-05-03 19:35:00",
         "2016-05-03 21:55:00",
         "ATA",
         "TU 31BIMQ",
         "8400.0"
        ],
        [
         "41",
         "41",
         "test_id_41",
         "IST",
         "TUN",
         "2016-05-03 19:35:00",
         "2016-05-03 22:20:00",
         "ATA",
         "TU 320IMT",
         "9900.0"
        ],
        [
         "42",
         "42",
         "test_id_42",
         "OUA",
         "ABJ",
         "2016-05-03 20:25:00",
         "2016-05-03 21:50:00",
         "ATA",
         "TU 320IMV",
         "5100.0"
        ],
        [
         "43",
         "43",
         "test_id_43",
         "JED",
         "TUN",
         "2016-05-04 00:30:00",
         "2016-05-04 05:25:00",
         "ATA",
         "TU 332IFM",
         "17700.0"
        ],
        [
         "44",
         "44",
         "test_id_44",
         "DKR",
         "TUN",
         "2016-05-03 23:25:00",
         "2016-05-04 04:05:00",
         "ATA",
         "TU 320IMS",
         "16800.0"
        ],
        [
         "45",
         "45",
         "test_id_45",
         "TUN",
         "BRU",
         "2016-05-04 07:30:00",
         "2016-05-04 10:05:00",
         "ATA",
         "TU 32AIMP",
         "9300.0"
        ],
        [
         "46",
         "46",
         "test_id_46",
         "BRU",
         "TUN",
         "2016-05-04 11:00:00",
         "2016-05-04 13:40:00",
         "ATA",
         "TU 32AIMP",
         "9600.0"
        ],
        [
         "47",
         "47",
         "test_id_47",
         "TUN",
         "MXP",
         "2016-05-04 12:30:00",
         "2016-05-04 14:15:00",
         "ATA",
         "TU 320IMR",
         "6300.0"
        ],
        [
         "48",
         "48",
         "test_id_48",
         "TUN",
         "ORY",
         "2016-05-04 12:25:00",
         "2016-05-04 14:45:00",
         "ATA",
         "TU 320IMT",
         "8400.0"
        ],
        [
         "49",
         "49",
         "test_id_49",
         "JED",
         "TUN",
         "2016-05-04 23:50:00",
         "2016-05-05 04:50:00",
         "ATA",
         "TU 320IMR",
         "18000.0"
        ]
       ],
       "shape": {
        "columns": 9,
        "rows": 9333
       }
      },
      "text/html": [
       "<div>\n",
       "<style scoped>\n",
       "    .dataframe tbody tr th:only-of-type {\n",
       "        vertical-align: middle;\n",
       "    }\n",
       "\n",
       "    .dataframe tbody tr th {\n",
       "        vertical-align: top;\n",
       "    }\n",
       "\n",
       "    .dataframe thead th {\n",
       "        text-align: right;\n",
       "    }\n",
       "</style>\n",
       "<table border=\"1\" class=\"dataframe\">\n",
       "  <thead>\n",
       "    <tr style=\"text-align: right;\">\n",
       "      <th></th>\n",
       "      <th>Unnamed: 0</th>\n",
       "      <th>id</th>\n",
       "      <th>departure_point</th>\n",
       "      <th>arrival_point</th>\n",
       "      <th>departure_time</th>\n",
       "      <th>arrival_time</th>\n",
       "      <th>flight_status</th>\n",
       "      <th>aircraft_code</th>\n",
       "      <th>duration</th>\n",
       "    </tr>\n",
       "  </thead>\n",
       "  <tbody>\n",
       "    <tr>\n",
       "      <th>0</th>\n",
       "      <td>0</td>\n",
       "      <td>test_id_0</td>\n",
       "      <td>DJE</td>\n",
       "      <td>TUN</td>\n",
       "      <td>2016-05-04 06:40:00</td>\n",
       "      <td>2016-05-04 07:30:00</td>\n",
       "      <td>ATA</td>\n",
       "      <td>TU 32AIMF</td>\n",
       "      <td>3000.0</td>\n",
       "    </tr>\n",
       "    <tr>\n",
       "      <th>1</th>\n",
       "      <td>1</td>\n",
       "      <td>test_id_1</td>\n",
       "      <td>TUN</td>\n",
       "      <td>BKO</td>\n",
       "      <td>2016-05-05 15:20:00</td>\n",
       "      <td>2016-05-05 20:05:00</td>\n",
       "      <td>ATA</td>\n",
       "      <td>TU 320IMW</td>\n",
       "      <td>17100.0</td>\n",
       "    </tr>\n",
       "    <tr>\n",
       "      <th>2</th>\n",
       "      <td>2</td>\n",
       "      <td>test_id_2</td>\n",
       "      <td>FRA</td>\n",
       "      <td>TUN</td>\n",
       "      <td>2016-05-06 10:00:00</td>\n",
       "      <td>2016-05-06 12:25:00</td>\n",
       "      <td>ATA</td>\n",
       "      <td>TU 32AIMC</td>\n",
       "      <td>8700.0</td>\n",
       "    </tr>\n",
       "    <tr>\n",
       "      <th>3</th>\n",
       "      <td>3</td>\n",
       "      <td>test_id_3</td>\n",
       "      <td>BEY</td>\n",
       "      <td>TUN</td>\n",
       "      <td>2016-05-11 09:40:00</td>\n",
       "      <td>2016-05-11 13:10:00</td>\n",
       "      <td>ATA</td>\n",
       "      <td>TU 31BIMO</td>\n",
       "      <td>12600.0</td>\n",
       "    </tr>\n",
       "    <tr>\n",
       "      <th>4</th>\n",
       "      <td>4</td>\n",
       "      <td>test_id_4</td>\n",
       "      <td>ORY</td>\n",
       "      <td>MIR</td>\n",
       "      <td>2016-05-11 09:50:00</td>\n",
       "      <td>2016-05-11 12:35:00</td>\n",
       "      <td>ATA</td>\n",
       "      <td>TU 736IOQ</td>\n",
       "      <td>9900.0</td>\n",
       "    </tr>\n",
       "    <tr>\n",
       "      <th>...</th>\n",
       "      <td>...</td>\n",
       "      <td>...</td>\n",
       "      <td>...</td>\n",
       "      <td>...</td>\n",
       "      <td>...</td>\n",
       "      <td>...</td>\n",
       "      <td>...</td>\n",
       "      <td>...</td>\n",
       "      <td>...</td>\n",
       "    </tr>\n",
       "    <tr>\n",
       "      <th>9328</th>\n",
       "      <td>9328</td>\n",
       "      <td>test_id_9328</td>\n",
       "      <td>TUN</td>\n",
       "      <td>NCE</td>\n",
       "      <td>2018-09-12 14:15:00</td>\n",
       "      <td>2018-09-12 15:45:00</td>\n",
       "      <td>ATA</td>\n",
       "      <td>TU 320IMV</td>\n",
       "      <td>5400.0</td>\n",
       "    </tr>\n",
       "    <tr>\n",
       "      <th>9329</th>\n",
       "      <td>9329</td>\n",
       "      <td>test_id_9329</td>\n",
       "      <td>TUN</td>\n",
       "      <td>TUN</td>\n",
       "      <td>2018-09-27 22:00:00</td>\n",
       "      <td>2018-09-28 01:00:00</td>\n",
       "      <td>SCH</td>\n",
       "      <td>TU 32AIMG</td>\n",
       "      <td>10800.0</td>\n",
       "    </tr>\n",
       "    <tr>\n",
       "      <th>9330</th>\n",
       "      <td>9330</td>\n",
       "      <td>test_id_9330</td>\n",
       "      <td>SJJ</td>\n",
       "      <td>TUN</td>\n",
       "      <td>2018-09-03 09:20:00</td>\n",
       "      <td>2018-09-03 11:10:00</td>\n",
       "      <td>SCH</td>\n",
       "      <td>TU CR9ISA</td>\n",
       "      <td>6600.0</td>\n",
       "    </tr>\n",
       "    <tr>\n",
       "      <th>9331</th>\n",
       "      <td>9331</td>\n",
       "      <td>test_id_9331</td>\n",
       "      <td>TUN</td>\n",
       "      <td>DJE</td>\n",
       "      <td>2018-09-15 14:30:00</td>\n",
       "      <td>2018-09-15 15:30:00</td>\n",
       "      <td>SCH</td>\n",
       "      <td>UG AT7LBD</td>\n",
       "      <td>3600.0</td>\n",
       "    </tr>\n",
       "    <tr>\n",
       "      <th>9332</th>\n",
       "      <td>9332</td>\n",
       "      <td>test_id_9332</td>\n",
       "      <td>DJE</td>\n",
       "      <td>TUN</td>\n",
       "      <td>2018-09-19 16:15:00</td>\n",
       "      <td>2018-09-19 17:15:00</td>\n",
       "      <td>SCH</td>\n",
       "      <td>UG AT7LBD</td>\n",
       "      <td>3600.0</td>\n",
       "    </tr>\n",
       "  </tbody>\n",
       "</table>\n",
       "<p>9333 rows × 9 columns</p>\n",
       "</div>"
      ],
      "text/plain": [
       "      Unnamed: 0            id departure_point arrival_point   \n",
       "0              0     test_id_0             DJE           TUN  \\\n",
       "1              1     test_id_1             TUN           BKO   \n",
       "2              2     test_id_2             FRA           TUN   \n",
       "3              3     test_id_3             BEY           TUN   \n",
       "4              4     test_id_4             ORY           MIR   \n",
       "...          ...           ...             ...           ...   \n",
       "9328        9328  test_id_9328             TUN           NCE   \n",
       "9329        9329  test_id_9329             TUN           TUN   \n",
       "9330        9330  test_id_9330             SJJ           TUN   \n",
       "9331        9331  test_id_9331             TUN           DJE   \n",
       "9332        9332  test_id_9332             DJE           TUN   \n",
       "\n",
       "           departure_time         arrival_time flight_status aircraft_code   \n",
       "0     2016-05-04 06:40:00  2016-05-04 07:30:00           ATA     TU 32AIMF  \\\n",
       "1     2016-05-05 15:20:00  2016-05-05 20:05:00           ATA     TU 320IMW   \n",
       "2     2016-05-06 10:00:00  2016-05-06 12:25:00           ATA     TU 32AIMC   \n",
       "3     2016-05-11 09:40:00  2016-05-11 13:10:00           ATA     TU 31BIMO   \n",
       "4     2016-05-11 09:50:00  2016-05-11 12:35:00           ATA     TU 736IOQ   \n",
       "...                   ...                  ...           ...           ...   \n",
       "9328  2018-09-12 14:15:00  2018-09-12 15:45:00           ATA     TU 320IMV   \n",
       "9329  2018-09-27 22:00:00  2018-09-28 01:00:00           SCH     TU 32AIMG   \n",
       "9330  2018-09-03 09:20:00  2018-09-03 11:10:00           SCH     TU CR9ISA   \n",
       "9331  2018-09-15 14:30:00  2018-09-15 15:30:00           SCH     UG AT7LBD   \n",
       "9332  2018-09-19 16:15:00  2018-09-19 17:15:00           SCH     UG AT7LBD   \n",
       "\n",
       "      duration  \n",
       "0       3000.0  \n",
       "1      17100.0  \n",
       "2       8700.0  \n",
       "3      12600.0  \n",
       "4       9900.0  \n",
       "...        ...  \n",
       "9328    5400.0  \n",
       "9329   10800.0  \n",
       "9330    6600.0  \n",
       "9331    3600.0  \n",
       "9332    3600.0  \n",
       "\n",
       "[9333 rows x 9 columns]"
      ]
     },
     "execution_count": 9,
     "metadata": {},
     "output_type": "execute_result"
    }
   ],
   "source": [
    "df_real_test"
   ]
  },
  {
   "cell_type": "code",
   "execution_count": 10,
   "id": "9341ef4d",
   "metadata": {},
   "outputs": [
    {
     "data": {
      "text/plain": [
       "array([ 0.      , 45.49862 , 22.199095, ...,  0.      ,  0.      ,\n",
       "        0.      ], dtype=float32)"
      ]
     },
     "execution_count": 10,
     "metadata": {},
     "output_type": "execute_result"
    }
   ],
   "source": [
    "y_pred_real_test"
   ]
  },
  {
   "cell_type": "code",
   "execution_count": 14,
   "id": "45bb5f75",
   "metadata": {},
   "outputs": [
    {
     "data": {
      "application/vnd.microsoft.datawrangler.viewer.v0+json": {
       "columns": [
        {
         "name": "index",
         "rawType": "int64",
         "type": "integer"
        },
        {
         "name": "id",
         "rawType": "object",
         "type": "string"
        },
        {
         "name": "prediction",
         "rawType": "float32",
         "type": "float"
        }
       ],
       "ref": "50df5dd6-4531-4d9c-9018-affc60c76397",
       "rows": [
        [
         "0",
         "test_id_0",
         "0.0"
        ],
        [
         "1",
         "test_id_1",
         "45.49862"
        ],
        [
         "2",
         "test_id_2",
         "22.199095"
        ],
        [
         "3",
         "test_id_3",
         "6.1670756"
        ],
        [
         "4",
         "test_id_4",
         "14.571519"
        ],
        [
         "5",
         "test_id_5",
         "0.0"
        ],
        [
         "6",
         "test_id_6",
         "26.398409"
        ],
        [
         "7",
         "test_id_7",
         "11.699851"
        ],
        [
         "8",
         "test_id_8",
         "35.765545"
        ],
        [
         "9",
         "test_id_9",
         "22.199095"
        ],
        [
         "10",
         "test_id_10",
         "34.859173"
        ],
        [
         "11",
         "test_id_11",
         "21.008364"
        ],
        [
         "12",
         "test_id_12",
         "8.77901"
        ],
        [
         "13",
         "test_id_13",
         "0.0"
        ],
        [
         "14",
         "test_id_14",
         "21.566395"
        ],
        [
         "15",
         "test_id_15",
         "20.188988"
        ],
        [
         "16",
         "test_id_16",
         "0.0"
        ],
        [
         "17",
         "test_id_17",
         "16.470848"
        ],
        [
         "18",
         "test_id_18",
         "21.566395"
        ],
        [
         "19",
         "test_id_19",
         "23.264463"
        ],
        [
         "20",
         "test_id_20",
         "41.700737"
        ],
        [
         "21",
         "test_id_21",
         "21.104446"
        ],
        [
         "22",
         "test_id_22",
         "0.0"
        ],
        [
         "23",
         "test_id_23",
         "18.779957"
        ],
        [
         "24",
         "test_id_24",
         "2.194223"
        ],
        [
         "25",
         "test_id_25",
         "19.73534"
        ],
        [
         "26",
         "test_id_26",
         "26.262383"
        ],
        [
         "27",
         "test_id_27",
         "22.199095"
        ],
        [
         "28",
         "test_id_28",
         "1.8649037"
        ],
        [
         "29",
         "test_id_29",
         "15.512024"
        ],
        [
         "30",
         "test_id_30",
         "0.0"
        ],
        [
         "31",
         "test_id_31",
         "16.295439"
        ],
        [
         "32",
         "test_id_32",
         "24.905048"
        ],
        [
         "33",
         "test_id_33",
         "17.176147"
        ],
        [
         "34",
         "test_id_34",
         "21.104446"
        ],
        [
         "35",
         "test_id_35",
         "11.331686"
        ],
        [
         "36",
         "test_id_36",
         "1.8649037"
        ],
        [
         "37",
         "test_id_37",
         "19.702497"
        ],
        [
         "38",
         "test_id_38",
         "32.445156"
        ],
        [
         "39",
         "test_id_39",
         "40.470215"
        ],
        [
         "40",
         "test_id_40",
         "0.0"
        ],
        [
         "41",
         "test_id_41",
         "23.264463"
        ],
        [
         "42",
         "test_id_42",
         "24.510113"
        ],
        [
         "43",
         "test_id_43",
         "47.61239"
        ],
        [
         "44",
         "test_id_44",
         "56.647182"
        ],
        [
         "45",
         "test_id_45",
         "10.913909"
        ],
        [
         "46",
         "test_id_46",
         "19.096062"
        ],
        [
         "47",
         "test_id_47",
         "19.702497"
        ],
        [
         "48",
         "test_id_48",
         "22.631763"
        ],
        [
         "49",
         "test_id_49",
         "39.444557"
        ]
       ],
       "shape": {
        "columns": 2,
        "rows": 9333
       }
      },
      "text/html": [
       "<div>\n",
       "<style scoped>\n",
       "    .dataframe tbody tr th:only-of-type {\n",
       "        vertical-align: middle;\n",
       "    }\n",
       "\n",
       "    .dataframe tbody tr th {\n",
       "        vertical-align: top;\n",
       "    }\n",
       "\n",
       "    .dataframe thead th {\n",
       "        text-align: right;\n",
       "    }\n",
       "</style>\n",
       "<table border=\"1\" class=\"dataframe\">\n",
       "  <thead>\n",
       "    <tr style=\"text-align: right;\">\n",
       "      <th></th>\n",
       "      <th>id</th>\n",
       "      <th>prediction</th>\n",
       "    </tr>\n",
       "  </thead>\n",
       "  <tbody>\n",
       "    <tr>\n",
       "      <th>0</th>\n",
       "      <td>test_id_0</td>\n",
       "      <td>0.000000</td>\n",
       "    </tr>\n",
       "    <tr>\n",
       "      <th>1</th>\n",
       "      <td>test_id_1</td>\n",
       "      <td>45.498619</td>\n",
       "    </tr>\n",
       "    <tr>\n",
       "      <th>2</th>\n",
       "      <td>test_id_2</td>\n",
       "      <td>22.199095</td>\n",
       "    </tr>\n",
       "    <tr>\n",
       "      <th>3</th>\n",
       "      <td>test_id_3</td>\n",
       "      <td>6.167076</td>\n",
       "    </tr>\n",
       "    <tr>\n",
       "      <th>4</th>\n",
       "      <td>test_id_4</td>\n",
       "      <td>14.571519</td>\n",
       "    </tr>\n",
       "    <tr>\n",
       "      <th>...</th>\n",
       "      <td>...</td>\n",
       "      <td>...</td>\n",
       "    </tr>\n",
       "    <tr>\n",
       "      <th>9328</th>\n",
       "      <td>test_id_9328</td>\n",
       "      <td>20.543535</td>\n",
       "    </tr>\n",
       "    <tr>\n",
       "      <th>9329</th>\n",
       "      <td>test_id_9329</td>\n",
       "      <td>0.000000</td>\n",
       "    </tr>\n",
       "    <tr>\n",
       "      <th>9330</th>\n",
       "      <td>test_id_9330</td>\n",
       "      <td>0.000000</td>\n",
       "    </tr>\n",
       "    <tr>\n",
       "      <th>9331</th>\n",
       "      <td>test_id_9331</td>\n",
       "      <td>0.000000</td>\n",
       "    </tr>\n",
       "    <tr>\n",
       "      <th>9332</th>\n",
       "      <td>test_id_9332</td>\n",
       "      <td>0.000000</td>\n",
       "    </tr>\n",
       "  </tbody>\n",
       "</table>\n",
       "<p>9333 rows × 2 columns</p>\n",
       "</div>"
      ],
      "text/plain": [
       "                id  prediction\n",
       "0        test_id_0    0.000000\n",
       "1        test_id_1   45.498619\n",
       "2        test_id_2   22.199095\n",
       "3        test_id_3    6.167076\n",
       "4        test_id_4   14.571519\n",
       "...            ...         ...\n",
       "9328  test_id_9328   20.543535\n",
       "9329  test_id_9329    0.000000\n",
       "9330  test_id_9330    0.000000\n",
       "9331  test_id_9331    0.000000\n",
       "9332  test_id_9332    0.000000\n",
       "\n",
       "[9333 rows x 2 columns]"
      ]
     },
     "execution_count": 14,
     "metadata": {},
     "output_type": "execute_result"
    }
   ],
   "source": [
    "df_pred_real_test"
   ]
  },
  {
   "cell_type": "code",
   "execution_count": null,
   "id": "20875f74",
   "metadata": {},
   "outputs": [],
   "source": [
    "df_pred_real_test = pd.DataFrame({\n",
    "    'id': df_real_test['id'],\n",
    "    'prediction': y_pred_real_test\n",
    "})"
   ]
  },
  {
   "cell_type": "code",
   "execution_count": 15,
   "id": "8422b794",
   "metadata": {},
   "outputs": [
    {
     "data": {
      "application/vnd.microsoft.datawrangler.viewer.v0+json": {
       "columns": [
        {
         "name": "index",
         "rawType": "int64",
         "type": "integer"
        },
        {
         "name": "id",
         "rawType": "object",
         "type": "string"
        },
        {
         "name": "prediction",
         "rawType": "float32",
         "type": "float"
        }
       ],
       "ref": "6a6e992d-d5ce-436d-bc81-840356ca97c6",
       "rows": [
        [
         "0",
         "test_id_0",
         "0.0"
        ],
        [
         "1",
         "test_id_1",
         "45.49862"
        ],
        [
         "2",
         "test_id_2",
         "22.199095"
        ],
        [
         "3",
         "test_id_3",
         "6.1670756"
        ],
        [
         "4",
         "test_id_4",
         "14.571519"
        ]
       ],
       "shape": {
        "columns": 2,
        "rows": 5
       }
      },
      "text/html": [
       "<div>\n",
       "<style scoped>\n",
       "    .dataframe tbody tr th:only-of-type {\n",
       "        vertical-align: middle;\n",
       "    }\n",
       "\n",
       "    .dataframe tbody tr th {\n",
       "        vertical-align: top;\n",
       "    }\n",
       "\n",
       "    .dataframe thead th {\n",
       "        text-align: right;\n",
       "    }\n",
       "</style>\n",
       "<table border=\"1\" class=\"dataframe\">\n",
       "  <thead>\n",
       "    <tr style=\"text-align: right;\">\n",
       "      <th></th>\n",
       "      <th>id</th>\n",
       "      <th>prediction</th>\n",
       "    </tr>\n",
       "  </thead>\n",
       "  <tbody>\n",
       "    <tr>\n",
       "      <th>0</th>\n",
       "      <td>test_id_0</td>\n",
       "      <td>0.000000</td>\n",
       "    </tr>\n",
       "    <tr>\n",
       "      <th>1</th>\n",
       "      <td>test_id_1</td>\n",
       "      <td>45.498619</td>\n",
       "    </tr>\n",
       "    <tr>\n",
       "      <th>2</th>\n",
       "      <td>test_id_2</td>\n",
       "      <td>22.199095</td>\n",
       "    </tr>\n",
       "    <tr>\n",
       "      <th>3</th>\n",
       "      <td>test_id_3</td>\n",
       "      <td>6.167076</td>\n",
       "    </tr>\n",
       "    <tr>\n",
       "      <th>4</th>\n",
       "      <td>test_id_4</td>\n",
       "      <td>14.571519</td>\n",
       "    </tr>\n",
       "  </tbody>\n",
       "</table>\n",
       "</div>"
      ],
      "text/plain": [
       "          id  prediction\n",
       "0  test_id_0    0.000000\n",
       "1  test_id_1   45.498619\n",
       "2  test_id_2   22.199095\n",
       "3  test_id_3    6.167076\n",
       "4  test_id_4   14.571519"
      ]
     },
     "execution_count": 15,
     "metadata": {},
     "output_type": "execute_result"
    }
   ],
   "source": [
    "df_pred_real_test.head()"
   ]
  },
  {
   "cell_type": "code",
   "execution_count": 17,
   "id": "353c7b11",
   "metadata": {},
   "outputs": [
    {
     "data": {
      "application/vnd.microsoft.datawrangler.viewer.v0+json": {
       "columns": [
        {
         "name": "index",
         "rawType": "object",
         "type": "string"
        },
        {
         "name": "prediction",
         "rawType": "float64",
         "type": "float"
        }
       ],
       "ref": "1eaec155-a20b-4f9a-90e7-6b586cc8840e",
       "rows": [
        [
         "count",
         "9333.0"
        ],
        [
         "mean",
         "16.240577697753906"
        ],
        [
         "std",
         "13.792313575744629"
        ],
        [
         "min",
         "0.0"
        ],
        [
         "25%",
         "0.0"
        ],
        [
         "50%",
         "18.565937042236328"
        ],
        [
         "75%",
         "24.06483268737793"
        ],
        [
         "max",
         "79.54063415527344"
        ]
       ],
       "shape": {
        "columns": 1,
        "rows": 8
       }
      },
      "text/html": [
       "<div>\n",
       "<style scoped>\n",
       "    .dataframe tbody tr th:only-of-type {\n",
       "        vertical-align: middle;\n",
       "    }\n",
       "\n",
       "    .dataframe tbody tr th {\n",
       "        vertical-align: top;\n",
       "    }\n",
       "\n",
       "    .dataframe thead th {\n",
       "        text-align: right;\n",
       "    }\n",
       "</style>\n",
       "<table border=\"1\" class=\"dataframe\">\n",
       "  <thead>\n",
       "    <tr style=\"text-align: right;\">\n",
       "      <th></th>\n",
       "      <th>prediction</th>\n",
       "    </tr>\n",
       "  </thead>\n",
       "  <tbody>\n",
       "    <tr>\n",
       "      <th>count</th>\n",
       "      <td>9333.000000</td>\n",
       "    </tr>\n",
       "    <tr>\n",
       "      <th>mean</th>\n",
       "      <td>16.240578</td>\n",
       "    </tr>\n",
       "    <tr>\n",
       "      <th>std</th>\n",
       "      <td>13.792314</td>\n",
       "    </tr>\n",
       "    <tr>\n",
       "      <th>min</th>\n",
       "      <td>0.000000</td>\n",
       "    </tr>\n",
       "    <tr>\n",
       "      <th>25%</th>\n",
       "      <td>0.000000</td>\n",
       "    </tr>\n",
       "    <tr>\n",
       "      <th>50%</th>\n",
       "      <td>18.565937</td>\n",
       "    </tr>\n",
       "    <tr>\n",
       "      <th>75%</th>\n",
       "      <td>24.064833</td>\n",
       "    </tr>\n",
       "    <tr>\n",
       "      <th>max</th>\n",
       "      <td>79.540634</td>\n",
       "    </tr>\n",
       "  </tbody>\n",
       "</table>\n",
       "</div>"
      ],
      "text/plain": [
       "        prediction\n",
       "count  9333.000000\n",
       "mean     16.240578\n",
       "std      13.792314\n",
       "min       0.000000\n",
       "25%       0.000000\n",
       "50%      18.565937\n",
       "75%      24.064833\n",
       "max      79.540634"
      ]
     },
     "execution_count": 17,
     "metadata": {},
     "output_type": "execute_result"
    }
   ],
   "source": [
    "df_pred_real_test.describe()"
   ]
  },
  {
   "cell_type": "code",
   "execution_count": null,
   "id": "4964de30",
   "metadata": {},
   "outputs": [],
   "source": []
  }
 ],
 "metadata": {
  "kernelspec": {
   "display_name": ".venv",
   "language": "python",
   "name": "python3"
  },
  "language_info": {
   "codemirror_mode": {
    "name": "ipython",
    "version": 3
   },
   "file_extension": ".py",
   "mimetype": "text/x-python",
   "name": "python",
   "nbconvert_exporter": "python",
   "pygments_lexer": "ipython3",
   "version": "3.11.3"
  }
 },
 "nbformat": 4,
 "nbformat_minor": 5
}
