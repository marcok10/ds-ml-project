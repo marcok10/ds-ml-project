{
 "cells": [
  {
   "cell_type": "code",
   "execution_count": 1,
   "id": "7505f2f4",
   "metadata": {},
   "outputs": [],
   "source": [
    "# Import necessary libraries\n",
    "import numpy as np\n",
    "import pandas as pd\n",
    "import matplotlib.pyplot as plt\n",
    "import seaborn as sns"
   ]
  },
  {
   "cell_type": "code",
   "execution_count": 2,
   "id": "5fb39aa3",
   "metadata": {},
   "outputs": [],
   "source": [
    "df_train_prepro = pd.read_csv('data/preprocessed_train_data_with_date_hol_concat.csv')\n",
    "df_aircraft_model = pd.read_csv('data/full_aircraft_model_mapping_CORRECTED.csv')\n",
    "df_passenger = pd.read_csv('data/passenger_data.csv')"
   ]
  },
  {
   "cell_type": "markdown",
   "id": "946b7b7b",
   "metadata": {},
   "source": [
    "# Map aircraft model to main df"
   ]
  },
  {
   "cell_type": "code",
   "execution_count": 3,
   "id": "1c03e306",
   "metadata": {},
   "outputs": [],
   "source": [
    "# Map aircraft_model to df_train_prepro using aircraft_code\n",
    "df_train_prepro['aircraft_model'] = df_train_prepro['aircraft_code'].map(\n",
    "    df_aircraft_model.set_index('aircraft_code')['aircraft_model']\n",
    ")"
   ]
  },
  {
   "cell_type": "markdown",
   "id": "4fe54628",
   "metadata": {},
   "source": [
    "# Map Passenger data to main df"
   ]
  },
  {
   "cell_type": "code",
   "execution_count": 4,
   "id": "ca529acc",
   "metadata": {},
   "outputs": [],
   "source": [
    "# Ensure departure_date is datetime\n",
    "df_train_prepro['departure_date'] = pd.to_datetime(df_train_prepro['departure_date'])\n",
    "\n",
    "# Extract year from departure_date\n",
    "df_train_prepro['year'] = df_train_prepro['departure_date'].dt.year\n",
    "\n",
    "# Melt df_passenger to long format for easy merging\n",
    "df_passenger_long = df_passenger.melt(\n",
    "    id_vars=['IATA_Code'],\n",
    "    value_vars=['2016 Passengers', '2017 Passengers', '2018 Passengers'],\n",
    "    var_name='year_col',\n",
    "    value_name='num_passenger_year'\n",
    ")\n",
    "df_passenger_long['year'] = df_passenger_long['year_col'].str.extract(r'(\\d{4})').astype(int)\n",
    "\n",
    "# Merge passenger info into flight data (use 'departure_point' instead of 'IATA_Code')\n",
    "df_train_prepro = df_train_prepro.merge(\n",
    "    df_passenger_long[['IATA_Code', 'year', 'num_passenger_year']],\n",
    "    left_on=['departure_point', 'year'],\n",
    "    right_on=['IATA_Code', 'year'],\n",
    "    how='left'\n",
    ")\n",
    "\n",
    "# Drop the temporary columns if you don't need them\n",
    "df_train_prepro = df_train_prepro.drop(columns=['year', 'IATA_Code'])"
   ]
  },
  {
   "cell_type": "markdown",
   "id": "4ae9857f",
   "metadata": {},
   "source": [
    "# Map Distance km data to main df"
   ]
  },
  {
   "cell_type": "code",
   "execution_count": 5,
   "id": "b68752ff",
   "metadata": {},
   "outputs": [],
   "source": [
    "import airportsdata\n",
    "\n",
    "# Load the airports database (IATA codes)\n",
    "airports = airportsdata.load('IATA')\n",
    "\n",
    "def get_lat_lon(iata):\n",
    "    info = airports.get(iata)\n",
    "    if info:\n",
    "        return pd.Series({'lat': info['lat'], 'lon': info['lon']})\n",
    "    else:\n",
    "        return pd.Series({'lat': None, 'lon': None})\n",
    "\n",
    "# Populate departure coordinates\n",
    "dep_coords = df_train_prepro['departure_point'].apply(get_lat_lon)\n",
    "df_train_prepro['dep_lat'] = dep_coords['lat']\n",
    "df_train_prepro['dep_long'] = dep_coords['lon']\n",
    "\n",
    "# Populate arrival coordinates\n",
    "arr_coords = df_train_prepro['arrival_point'].apply(get_lat_lon)\n",
    "df_train_prepro['arr_lat'] = arr_coords['lat']\n",
    "df_train_prepro['arr_long'] = arr_coords['lon']\n",
    "\n",
    "# Fill SXF manually if still missing\n",
    "sxf_lat, sxf_long = 52.380001, 13.522500\n",
    "df_train_prepro.loc[df_train_prepro['departure_point'] == 'SXF', ['dep_lat', 'dep_long']] = [sxf_lat, sxf_long]\n",
    "df_train_prepro.loc[df_train_prepro['arrival_point'] == 'SXF', ['arr_lat', 'arr_long']] = [sxf_lat, sxf_long]"
   ]
  },
  {
   "cell_type": "code",
   "execution_count": 11,
   "id": "5dc6c82f",
   "metadata": {},
   "outputs": [],
   "source": [
    "# Haversine formula to calculate distance in km\n",
    "def haversine(lat1, lon1, lat2, lon2):\n",
    "    R = 6371  # Earth radius in kilometers\n",
    "    lat1, lon1, lat2, lon2 = map(np.radians, [lat1, lon1, lat2, lon2])\n",
    "    dlat = lat2 - lat1\n",
    "    dlon = lon2 - lon1\n",
    "    a = np.sin(dlat/2)**2 + np.cos(lat1) * np.cos(lat2) * np.sin(dlon/2)**2\n",
    "    c = 2 * np.arcsin(np.sqrt(a))\n",
    "    return R * c\n",
    "\n",
    "# Calculate the distance for each row\n",
    "df_train_prepro['distance_km'] = haversine(\n",
    "    df_train_prepro['dep_lat'],\n",
    "    df_train_prepro['dep_long'],\n",
    "    df_train_prepro['arr_lat'],\n",
    "    df_train_prepro['arr_long']\n",
    ")\n",
    "\n",
    "df_train_prepro['distance_km'] = (df_train_prepro['distance_km'].round(2) * 100).fillna(0).astype(int)"
   ]
  }
 ],
 "metadata": {
  "kernelspec": {
   "display_name": ".venv",
   "language": "python",
   "name": "python3"
  },
  "language_info": {
   "codemirror_mode": {
    "name": "ipython",
    "version": 3
   },
   "file_extension": ".py",
   "mimetype": "text/x-python",
   "name": "python",
   "nbconvert_exporter": "python",
   "pygments_lexer": "ipython3",
   "version": "3.11.3"
  }
 },
 "nbformat": 4,
 "nbformat_minor": 5
}
