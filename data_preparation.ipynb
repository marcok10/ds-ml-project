{
 "cells": [
  {
   "cell_type": "code",
   "execution_count": 1,
   "id": "7891c150",
   "metadata": {},
   "outputs": [],
   "source": [
    "import pandas as pd\n",
    "import numpy as np\n",
    "import matplotlib.pyplot as plt\n",
    "import seaborn as sns\n",
    "import warnings\n",
    "warnings.filterwarnings(\"ignore\")"
   ]
  },
  {
   "cell_type": "code",
   "execution_count": 2,
   "id": "79cbae7c",
   "metadata": {},
   "outputs": [],
   "source": [
    "def load_csv_file(filename):\n",
    "    return pd.read_csv(filename)\n",
    "fd_train = load_csv_file(\"data/Train.csv\")\n",
    "fd_test =  load_csv_file(\"data/Test.csv\")"
   ]
  },
  {
   "cell_type": "code",
   "execution_count": 3,
   "id": "17e1684c",
   "metadata": {},
   "outputs": [],
   "source": [
    "def get_commmon_columns():\n",
    "    return ['id', 'date', 'flight_id', 'departure_point', 'arrival_point', 'departure_time', 'arrival_time', 'flight_status', 'aircraft_code']\n",
    "\n",
    "def rename_colums(fd_train, extra_columns):\n",
    "    columns = get_commmon_columns() + extra_columns\n",
    "    fd_train.columns = columns\n",
    "    return fd_train\n",
    "\n",
    "fd_train = rename_colums(fd_train, [\"target\"])\n",
    "fd_test = rename_colums(fd_test,[])"
   ]
  },
  {
   "cell_type": "code",
   "execution_count": 4,
   "id": "43899b32",
   "metadata": {},
   "outputs": [],
   "source": [
    "def add_column_duration(fd_train):\n",
    "    fd_train['departure_time'] = pd.to_datetime(fd_train['departure_time'], format='%Y-%m-%d %H:%M:%S', errors='coerce')\n",
    "    fd_train['arrival_time'] = pd.to_datetime(fd_train['arrival_time'], format='%Y-%m-%d %H.%M.%S', errors='coerce')\n",
    "    fd_train['duration'] = (pd.to_datetime(fd_train['arrival_time']) - pd.to_datetime(fd_train['departure_time'])).dt.total_seconds()\n",
    "    return fd_train"
   ]
  },
  {
   "cell_type": "code",
   "execution_count": 6,
   "id": "023915f5",
   "metadata": {},
   "outputs": [],
   "source": [
    "def prepared_train_data(final_df):\n",
    "    final_df = add_column_duration(fd_train)\n",
    "    ## Select records which has less than 20hrs long duration\n",
    "    ## Filter records which have delay(target) between 1minute to 3hrs\n",
    "    final_df = fd_train[fd_train[\"duration\"] < 68400]\n",
    "    df_non_zeros_without_outliers = final_df[(final_df['target'] > 0) & (final_df['target'] < 165)]\n",
    "    all_zeros = final_df[final_df['target'] == 0]\n",
    "\n",
    "    # Create a copy of all_zeros and assign random negative values between -1 and -165 to 'target'\n",
    "    all_zeros_negative = all_zeros.copy()\n",
    "    positive_targets = df_non_zeros_without_outliers[df_non_zeros_without_outliers['target'] > 0]['target'].values\n",
    "\n",
    "    all_zeros_negative['target'] = -np.random.choice(positive_targets, size=len(all_zeros_negative), replace=True)\n",
    "    all_zeros_pos_neg = pd.concat([all_zeros_negative, df_non_zeros_without_outliers], axis=0, ignore_index=True)\n",
    "    all_zeros_pos_neg.drop([\"id\", \"flight_id\", \"date\"], inplace=True, axis=1)\n",
    "    return all_zeros_pos_neg\n"
   ]
  },
  {
   "cell_type": "code",
   "execution_count": 7,
   "id": "10f1b67d",
   "metadata": {},
   "outputs": [
    {
     "data": {
      "application/vnd.microsoft.datawrangler.viewer.v0+json": {
       "columns": [
        {
         "name": "index",
         "rawType": "int64",
         "type": "integer"
        },
        {
         "name": "departure_point",
         "rawType": "object",
         "type": "string"
        },
        {
         "name": "arrival_point",
         "rawType": "object",
         "type": "string"
        },
        {
         "name": "departure_time",
         "rawType": "datetime64[ns]",
         "type": "datetime"
        },
        {
         "name": "arrival_time",
         "rawType": "datetime64[ns]",
         "type": "datetime"
        },
        {
         "name": "flight_status",
         "rawType": "object",
         "type": "string"
        },
        {
         "name": "aircraft_code",
         "rawType": "object",
         "type": "string"
        },
        {
         "name": "target",
         "rawType": "float64",
         "type": "float"
        },
        {
         "name": "duration",
         "rawType": "float64",
         "type": "float"
        }
       ],
       "ref": "a617804d-3a08-4ebc-b36a-789366fcbe42",
       "rows": [
        [
         "0",
         "TUN",
         "IST",
         "2016-01-16 04:10:00",
         "2016-01-16 06:45:00",
         "ATA",
         "TU 32AIMN",
         "-25.0",
         "9300.0"
        ],
        [
         "1",
         "DJE",
         "NTE",
         "2016-01-17 14:10:00",
         "2016-01-17 17:00:00",
         "ATA",
         "TU 736IOK",
         "-33.0",
         "10200.0"
        ],
        [
         "2",
         "TUN",
         "MED",
         "2016-01-20 19:40:00",
         "2016-01-21 00:00:00",
         "ATA",
         "TU 320IMR",
         "-14.0",
         "15600.0"
        ],
        [
         "3",
         "IST",
         "TUN",
         "2016-01-21 20:10:00",
         "2016-01-21 23:00:00",
         "ATA",
         "TU 320IMU",
         "-35.0",
         "10200.0"
        ],
        [
         "4",
         "CMN",
         "TUN",
         "2016-01-22 17:45:00",
         "2016-01-22 20:10:00",
         "ATA",
         "TU 320IMR",
         "-20.0",
         "8700.0"
        ]
       ],
       "shape": {
        "columns": 8,
        "rows": 5
       }
      },
      "text/html": [
       "<div>\n",
       "<style scoped>\n",
       "    .dataframe tbody tr th:only-of-type {\n",
       "        vertical-align: middle;\n",
       "    }\n",
       "\n",
       "    .dataframe tbody tr th {\n",
       "        vertical-align: top;\n",
       "    }\n",
       "\n",
       "    .dataframe thead th {\n",
       "        text-align: right;\n",
       "    }\n",
       "</style>\n",
       "<table border=\"1\" class=\"dataframe\">\n",
       "  <thead>\n",
       "    <tr style=\"text-align: right;\">\n",
       "      <th></th>\n",
       "      <th>departure_point</th>\n",
       "      <th>arrival_point</th>\n",
       "      <th>departure_time</th>\n",
       "      <th>arrival_time</th>\n",
       "      <th>flight_status</th>\n",
       "      <th>aircraft_code</th>\n",
       "      <th>target</th>\n",
       "      <th>duration</th>\n",
       "    </tr>\n",
       "  </thead>\n",
       "  <tbody>\n",
       "    <tr>\n",
       "      <th>0</th>\n",
       "      <td>TUN</td>\n",
       "      <td>IST</td>\n",
       "      <td>2016-01-16 04:10:00</td>\n",
       "      <td>2016-01-16 06:45:00</td>\n",
       "      <td>ATA</td>\n",
       "      <td>TU 32AIMN</td>\n",
       "      <td>-25.0</td>\n",
       "      <td>9300.0</td>\n",
       "    </tr>\n",
       "    <tr>\n",
       "      <th>1</th>\n",
       "      <td>DJE</td>\n",
       "      <td>NTE</td>\n",
       "      <td>2016-01-17 14:10:00</td>\n",
       "      <td>2016-01-17 17:00:00</td>\n",
       "      <td>ATA</td>\n",
       "      <td>TU 736IOK</td>\n",
       "      <td>-33.0</td>\n",
       "      <td>10200.0</td>\n",
       "    </tr>\n",
       "    <tr>\n",
       "      <th>2</th>\n",
       "      <td>TUN</td>\n",
       "      <td>MED</td>\n",
       "      <td>2016-01-20 19:40:00</td>\n",
       "      <td>2016-01-21 00:00:00</td>\n",
       "      <td>ATA</td>\n",
       "      <td>TU 320IMR</td>\n",
       "      <td>-14.0</td>\n",
       "      <td>15600.0</td>\n",
       "    </tr>\n",
       "    <tr>\n",
       "      <th>3</th>\n",
       "      <td>IST</td>\n",
       "      <td>TUN</td>\n",
       "      <td>2016-01-21 20:10:00</td>\n",
       "      <td>2016-01-21 23:00:00</td>\n",
       "      <td>ATA</td>\n",
       "      <td>TU 320IMU</td>\n",
       "      <td>-35.0</td>\n",
       "      <td>10200.0</td>\n",
       "    </tr>\n",
       "    <tr>\n",
       "      <th>4</th>\n",
       "      <td>CMN</td>\n",
       "      <td>TUN</td>\n",
       "      <td>2016-01-22 17:45:00</td>\n",
       "      <td>2016-01-22 20:10:00</td>\n",
       "      <td>ATA</td>\n",
       "      <td>TU 320IMR</td>\n",
       "      <td>-20.0</td>\n",
       "      <td>8700.0</td>\n",
       "    </tr>\n",
       "  </tbody>\n",
       "</table>\n",
       "</div>"
      ],
      "text/plain": [
       "  departure_point arrival_point      departure_time        arrival_time   \n",
       "0             TUN           IST 2016-01-16 04:10:00 2016-01-16 06:45:00  \\\n",
       "1             DJE           NTE 2016-01-17 14:10:00 2016-01-17 17:00:00   \n",
       "2             TUN           MED 2016-01-20 19:40:00 2016-01-21 00:00:00   \n",
       "3             IST           TUN 2016-01-21 20:10:00 2016-01-21 23:00:00   \n",
       "4             CMN           TUN 2016-01-22 17:45:00 2016-01-22 20:10:00   \n",
       "\n",
       "  flight_status aircraft_code  target  duration  \n",
       "0           ATA     TU 32AIMN   -25.0    9300.0  \n",
       "1           ATA     TU 736IOK   -33.0   10200.0  \n",
       "2           ATA     TU 320IMR   -14.0   15600.0  \n",
       "3           ATA     TU 320IMU   -35.0   10200.0  \n",
       "4           ATA     TU 320IMR   -20.0    8700.0  "
      ]
     },
     "execution_count": 7,
     "metadata": {},
     "output_type": "execute_result"
    }
   ],
   "source": [
    "df = prepared_train_data(fd_train)\n",
    "df.head()"
   ]
  },
  {
   "cell_type": "code",
   "execution_count": 8,
   "id": "5d3ce3e3",
   "metadata": {},
   "outputs": [],
   "source": [
    "df.to_csv(\"data/preprocessed_train_data.csv\")"
   ]
  },
  {
   "cell_type": "code",
   "execution_count": 9,
   "id": "c9f64162",
   "metadata": {},
   "outputs": [],
   "source": [
    "def prepared_test_data(final_test_df):\n",
    "    final_test_df.drop([\"flight_id\", \"date\"], inplace=True, axis=1)\n",
    "    return final_test_df"
   ]
  },
  {
   "cell_type": "code",
   "execution_count": 9,
   "id": "0c3534e4",
   "metadata": {},
   "outputs": [
    {
     "data": {
      "text/plain": [
       "<Axes: xlabel='target', ylabel='Density'>"
      ]
     },
     "execution_count": 9,
     "metadata": {},
     "output_type": "execute_result"
    },
    {
     "data": {
      "image/png": "[encoded data removed]",
      "text/plain": [
       "<Figure size 640x480 with 1 Axes>"
      ]
     },
     "metadata": {},
     "output_type": "display_data"
    }
   ],
   "source": [
    "sns.distplot(df[\"target\"], kde=True)"
   ]
  },
  {
   "cell_type": "code",
   "execution_count": 10,
   "id": "6ffe8322",
   "metadata": {},
   "outputs": [
    {
     "data": {
      "application/vnd.microsoft.datawrangler.viewer.v0+json": {
       "columns": [
        {
         "name": "index",
         "rawType": "int64",
         "type": "integer"
        },
        {
         "name": "departure_point",
         "rawType": "object",
         "type": "string"
        },
        {
         "name": "arrival_point",
         "rawType": "object",
         "type": "string"
        },
        {
         "name": "departure_time",
         "rawType": "datetime64[ns]",
         "type": "datetime"
        },
        {
         "name": "arrival_time",
         "rawType": "datetime64[ns]",
         "type": "datetime"
        },
        {
         "name": "flight_status",
         "rawType": "object",
         "type": "string"
        },
        {
         "name": "aircraft_code",
         "rawType": "object",
         "type": "string"
        },
        {
         "name": "target",
         "rawType": "float64",
         "type": "float"
        },
        {
         "name": "duration",
         "rawType": "float64",
         "type": "float"
        }
       ],
       "ref": "5cf7f9d1-6ffa-4bee-b551-245a5db02eed",
       "rows": [
        [
         "0",
         "TUN",
         "IST",
         "2016-01-16 04:10:00",
         "2016-01-16 06:45:00",
         "ATA",
         "TU 32AIMN",
         "-9.0",
         "9300.0"
        ],
        [
         "1",
         "DJE",
         "NTE",
         "2016-01-17 14:10:00",
         "2016-01-17 17:00:00",
         "ATA",
         "TU 736IOK",
         "-27.0",
         "10200.0"
        ],
        [
         "2",
         "TUN",
         "MED",
         "2016-01-20 19:40:00",
         "2016-01-21 00:00:00",
         "ATA",
         "TU 320IMR",
         "-50.0",
         "15600.0"
        ],
        [
         "3",
         "IST",
         "TUN",
         "2016-01-21 20:10:00",
         "2016-01-21 23:00:00",
         "ATA",
         "TU 320IMU",
         "-18.0",
         "10200.0"
        ],
        [
         "4",
         "CMN",
         "TUN",
         "2016-01-22 17:45:00",
         "2016-01-22 20:10:00",
         "ATA",
         "TU 320IMR",
         "-23.0",
         "8700.0"
        ]
       ],
       "shape": {
        "columns": 8,
        "rows": 5
       }
      },
      "text/html": [
       "<div>\n",
       "<style scoped>\n",
       "    .dataframe tbody tr th:only-of-type {\n",
       "        vertical-align: middle;\n",
       "    }\n",
       "\n",
       "    .dataframe tbody tr th {\n",
       "        vertical-align: top;\n",
       "    }\n",
       "\n",
       "    .dataframe thead th {\n",
       "        text-align: right;\n",
       "    }\n",
       "</style>\n",
       "<table border=\"1\" class=\"dataframe\">\n",
       "  <thead>\n",
       "    <tr style=\"text-align: right;\">\n",
       "      <th></th>\n",
       "      <th>departure_point</th>\n",
       "      <th>arrival_point</th>\n",
       "      <th>departure_time</th>\n",
       "      <th>arrival_time</th>\n",
       "      <th>flight_status</th>\n",
       "      <th>aircraft_code</th>\n",
       "      <th>target</th>\n",
       "      <th>duration</th>\n",
       "    </tr>\n",
       "  </thead>\n",
       "  <tbody>\n",
       "    <tr>\n",
       "      <th>0</th>\n",
       "      <td>TUN</td>\n",
       "      <td>IST</td>\n",
       "      <td>2016-01-16 04:10:00</td>\n",
       "      <td>2016-01-16 06:45:00</td>\n",
       "      <td>ATA</td>\n",
       "      <td>TU 32AIMN</td>\n",
       "      <td>-9.0</td>\n",
       "      <td>9300.0</td>\n",
       "    </tr>\n",
       "    <tr>\n",
       "      <th>1</th>\n",
       "      <td>DJE</td>\n",
       "      <td>NTE</td>\n",
       "      <td>2016-01-17 14:10:00</td>\n",
       "      <td>2016-01-17 17:00:00</td>\n",
       "      <td>ATA</td>\n",
       "      <td>TU 736IOK</td>\n",
       "      <td>-27.0</td>\n",
       "      <td>10200.0</td>\n",
       "    </tr>\n",
       "    <tr>\n",
       "      <th>2</th>\n",
       "      <td>TUN</td>\n",
       "      <td>MED</td>\n",
       "      <td>2016-01-20 19:40:00</td>\n",
       "      <td>2016-01-21 00:00:00</td>\n",
       "      <td>ATA</td>\n",
       "      <td>TU 320IMR</td>\n",
       "      <td>-50.0</td>\n",
       "      <td>15600.0</td>\n",
       "    </tr>\n",
       "    <tr>\n",
       "      <th>3</th>\n",
       "      <td>IST</td>\n",
       "      <td>TUN</td>\n",
       "      <td>2016-01-21 20:10:00</td>\n",
       "      <td>2016-01-21 23:00:00</td>\n",
       "      <td>ATA</td>\n",
       "      <td>TU 320IMU</td>\n",
       "      <td>-18.0</td>\n",
       "      <td>10200.0</td>\n",
       "    </tr>\n",
       "    <tr>\n",
       "      <th>4</th>\n",
       "      <td>CMN</td>\n",
       "      <td>TUN</td>\n",
       "      <td>2016-01-22 17:45:00</td>\n",
       "      <td>2016-01-22 20:10:00</td>\n",
       "      <td>ATA</td>\n",
       "      <td>TU 320IMR</td>\n",
       "      <td>-23.0</td>\n",
       "      <td>8700.0</td>\n",
       "    </tr>\n",
       "  </tbody>\n",
       "</table>\n",
       "</div>"
      ],
      "text/plain": [
       "  departure_point arrival_point      departure_time        arrival_time   \n",
       "0             TUN           IST 2016-01-16 04:10:00 2016-01-16 06:45:00  \\\n",
       "1             DJE           NTE 2016-01-17 14:10:00 2016-01-17 17:00:00   \n",
       "2             TUN           MED 2016-01-20 19:40:00 2016-01-21 00:00:00   \n",
       "3             IST           TUN 2016-01-21 20:10:00 2016-01-21 23:00:00   \n",
       "4             CMN           TUN 2016-01-22 17:45:00 2016-01-22 20:10:00   \n",
       "\n",
       "  flight_status aircraft_code  target  duration  \n",
       "0           ATA     TU 32AIMN    -9.0    9300.0  \n",
       "1           ATA     TU 736IOK   -27.0   10200.0  \n",
       "2           ATA     TU 320IMR   -50.0   15600.0  \n",
       "3           ATA     TU 320IMU   -18.0   10200.0  \n",
       "4           ATA     TU 320IMR   -23.0    8700.0  "
      ]
     },
     "execution_count": 10,
     "metadata": {},
     "output_type": "execute_result"
    }
   ],
   "source": [
    "fd = prepared_train_data(fd_train)\n",
    "fd.head()"
   ]
  },
  {
   "cell_type": "code",
   "execution_count": 11,
   "id": "90874907",
   "metadata": {},
   "outputs": [],
   "source": [
    "df_test = prepared_test_data(fd_test)\n",
    "final_df = add_column_duration(df_test)\n",
    "\n",
    "final_df.to_csv(\"data/preprocessed_test_data.csv\")"
   ]
  }
 ],
 "metadata": {
  "kernelspec": {
   "display_name": ".venv",
   "language": "python",
   "name": "python3"
  },
  "language_info": {
   "codemirror_mode": {
    "name": "ipython",
    "version": 3
   },
   "file_extension": ".py",
   "mimetype": "text/x-python",
   "name": "python",
   "nbconvert_exporter": "python",
   "pygments_lexer": "ipython3",
   "version": "3.11.3"
  }
 },
 "nbformat": 4,
 "nbformat_minor": 5
}
