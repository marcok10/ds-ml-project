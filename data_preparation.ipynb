{
 "cells": [
  {
   "cell_type": "code",
   "execution_count": 22,
   "id": "7891c150",
   "metadata": {},
   "outputs": [],
   "source": [
    "import pandas as pd\n",
    "import numpy as np\n",
    "import matplotlib.pyplot as plt\n",
    "import seaborn as sns\n",
    "import warnings\n",
    "warnings.filterwarnings(\"ignore\")"
   ]
  },
  {
   "cell_type": "code",
   "execution_count": 7,
   "id": "79cbae7c",
   "metadata": {},
   "outputs": [],
   "source": [
    "def load_csv_file(filename):\n",
    "    return pd.read_csv(filename)\n",
    "fd_train = load_csv_file(\"data/Train.csv\")\n",
    "fd_test =  load_csv_file(\"data/Test.csv\")"
   ]
  },
  {
   "cell_type": "code",
   "execution_count": 9,
   "id": "17e1684c",
   "metadata": {},
   "outputs": [],
   "source": [
    "def get_commmon_columns():\n",
    "    return ['id', 'date', 'flight_id', 'departure_point', 'arrival_point', 'departure_time', 'arrival_time', 'flight_status', 'aircraft_code']\n",
    "\n",
    "def rename_colums(fd_train, extra_columns):\n",
    "    columns = get_commmon_columns() + extra_columns\n",
    "    fd_train.columns = columns\n",
    "    return fd_train\n",
    "\n",
    "fd_train = rename_colums(fd_train, [\"target\"])\n",
    "fd_test = rename_colums(fd_test,[])"
   ]
  },
  {
   "cell_type": "code",
   "execution_count": 15,
   "id": "43899b32",
   "metadata": {},
   "outputs": [],
   "source": [
    "def add_column_duration(fd_train):\n",
    "    fd_train['departure_time'] = pd.to_datetime(fd_train['departure_time'], format='%Y-%m-%d %H:%M:%S', errors='coerce')\n",
    "    fd_train['arrival_time'] = pd.to_datetime(fd_train['arrival_time'], format='%Y-%m-%d %H.%M.%S', errors='coerce')\n",
    "    fd_train['duration'] = (pd.to_datetime(fd_train['arrival_time']) - pd.to_datetime(fd_train['departure_time'])).dt.total_seconds()\n",
    "    return fd_train\n"
   ]
  },
  {
   "cell_type": "code",
   "execution_count": 16,
   "id": "5dc8ce04",
   "metadata": {},
   "outputs": [
    {
     "name": "stdout",
     "output_type": "stream",
     "text": [
      "           id        date flight_id departure_point arrival_point   \n",
      "0  train_id_0  2016-01-03  TU 0712              CMN           TUN  \\\n",
      "1  train_id_1  2016-01-13  TU 0757              MXP           TUN   \n",
      "2  train_id_2  2016-01-16  TU 0214              TUN           IST   \n",
      "3  train_id_3  2016-01-17  TU 0480              DJE           NTE   \n",
      "4  train_id_4  2016-01-17  TU 0338              TUN           ALG   \n",
      "5  train_id_5  2016-01-17  TU 0283              TLS           TUN   \n",
      "6  train_id_6  2016-01-18  TU 0514              TUN           BCN   \n",
      "7  train_id_7  2016-01-18  TU 0716              TUN           ORY   \n",
      "8  train_id_8  2016-01-18  TU 0752              TUN           FCO   \n",
      "9  train_id_9  2016-01-18  TU 0996              TUN           NCE   \n",
      "\n",
      "       departure_time        arrival_time flight_status aircraft_code  target   \n",
      "0 2016-01-03 10:30:00 2016-01-03 12:55:00           ATA     TU 32AIMN   260.0  \\\n",
      "1 2016-01-13 15:05:00 2016-01-13 16:55:00           ATA     TU 31BIMO    20.0   \n",
      "2 2016-01-16 04:10:00 2016-01-16 06:45:00           ATA     TU 32AIMN     0.0   \n",
      "3 2016-01-17 14:10:00 2016-01-17 17:00:00           ATA     TU 736IOK     0.0   \n",
      "4 2016-01-17 14:30:00 2016-01-17 15:50:00           ATA     TU 320IMU    22.0   \n",
      "5 2016-01-17 16:20:00 2016-01-17 18:15:00           ATA     TU 736IOP    53.0   \n",
      "6 2016-01-18 07:15:00 2016-01-18 09:00:00           ATA     TU 32AIMH    10.0   \n",
      "7 2016-01-18 07:35:00 2016-01-18 09:55:00           ATA     TU 32AIMI    15.0   \n",
      "8 2016-01-18 07:40:00 2016-01-18 09:00:00           ATA     TU 32AIMC    16.0   \n",
      "9 2016-01-18 07:45:00 2016-01-18 09:15:00           ATA     TU 31AIMK    21.0   \n",
      "\n",
      "   duration  \n",
      "0    8700.0  \n",
      "1    6600.0  \n",
      "2    9300.0  \n",
      "3   10200.0  \n",
      "4    4800.0  \n",
      "5    6900.0  \n",
      "6    6300.0  \n",
      "7    8400.0  \n",
      "8    4800.0  \n",
      "9    5400.0  \n"
     ]
    }
   ],
   "source": [
    "fd_train = add_column_duration(fd_train)\n",
    "print(fd_train[:10])"
   ]
  },
  {
   "cell_type": "code",
   "execution_count": null,
   "id": "023915f5",
   "metadata": {},
   "outputs": [],
   "source": [
    "def prepared_train_data(final_df):\n",
    "    ## Select records which has less than 20hrs long duration\n",
    "    ## Filter records which have delay(target) between 1minute to 3hrs\n",
    "    final_df = fd_train[fd_train[\"duration\"] < 68400]\n",
    "    df_non_zeros_without_outliers = final_df[(final_df['target'] > 0) & (final_df['target'] < 165)]\n",
    "    all_zeros = final_df[final_df['target'] == 0]\n",
    "\n",
    "    # Create a copy of all_zeros and assign random negative values between -1 and -165 to 'target'\n",
    "    all_zeros_negative = all_zeros.copy()\n",
    "    positive_targets = df_non_zeros_without_outliers[df_non_zeros_without_outliers['target'] > 0]['target'].values\n",
    "\n",
    "    all_zeros_negative['target'] = -np.random.choice(positive_targets, size=len(all_zeros_negative), replace=True)\n",
    "    all_zeros_pos_neg = pd.concat([all_zeros_negative, df_non_zeros_without_outliers], axis=0, ignore_index=True)\n",
    "    all_zeros_pos_neg.drop([\"id\", \"flight_id\", \"date\"], inplace=True)\n",
    "    return all_zeros_pos_neg\n"
   ]
  },
  {
   "cell_type": "code",
   "execution_count": 26,
   "id": "10f1b67d",
   "metadata": {},
   "outputs": [
    {
     "data": {
      "application/vnd.microsoft.datawrangler.viewer.v0+json": {
       "columns": [
        {
         "name": "index",
         "rawType": "object",
         "type": "string"
        },
        {
         "name": "departure_time",
         "rawType": "object",
         "type": "unknown"
        },
        {
         "name": "arrival_time",
         "rawType": "object",
         "type": "unknown"
        },
        {
         "name": "target",
         "rawType": "float64",
         "type": "float"
        },
        {
         "name": "duration",
         "rawType": "float64",
         "type": "float"
        }
       ],
       "ref": "b7e1eff2-2ef3-4997-bfa3-9bb9d910b2d0",
       "rows": [
        [
         "count",
         "99747",
         "99747",
         "99747.0",
         "99747.0"
        ],
        [
         "mean",
         "2017-07-09 22:01:16.100935424",
         "2017-07-10 00:19:38.484164864",
         "9.995528687579576",
         "8302.383229570814"
        ],
        [
         "min",
         "2016-01-01 00:15:00",
         "2016-01-01 04:30:00",
         "-164.0",
         "600.0"
        ],
        [
         "25%",
         "2016-10-03 07:30:00",
         "2016-10-03 09:25:00",
         "-17.0",
         "5700.0"
        ],
        [
         "50%",
         "2017-07-24 20:15:00",
         "2017-07-24 23:45:00",
         "11.0",
         "8400.0"
        ],
        [
         "75%",
         "2018-04-05 10:15:00",
         "2018-04-05 12:32:30",
         "35.0",
         "9900.0"
        ],
        [
         "max",
         "2018-12-31 23:10:00",
         "2019-01-01 03:50:00",
         "164.0",
         "67740.0"
        ],
        [
         "std",
         null,
         null,
         "55.458112027183006",
         "4671.150033437082"
        ]
       ],
       "shape": {
        "columns": 4,
        "rows": 8
       }
      },
      "text/html": [
       "<div>\n",
       "<style scoped>\n",
       "    .dataframe tbody tr th:only-of-type {\n",
       "        vertical-align: middle;\n",
       "    }\n",
       "\n",
       "    .dataframe tbody tr th {\n",
       "        vertical-align: top;\n",
       "    }\n",
       "\n",
       "    .dataframe thead th {\n",
       "        text-align: right;\n",
       "    }\n",
       "</style>\n",
       "<table border=\"1\" class=\"dataframe\">\n",
       "  <thead>\n",
       "    <tr style=\"text-align: right;\">\n",
       "      <th></th>\n",
       "      <th>departure_time</th>\n",
       "      <th>arrival_time</th>\n",
       "      <th>target</th>\n",
       "      <th>duration</th>\n",
       "    </tr>\n",
       "  </thead>\n",
       "  <tbody>\n",
       "    <tr>\n",
       "      <th>count</th>\n",
       "      <td>99747</td>\n",
       "      <td>99747</td>\n",
       "      <td>99747.000000</td>\n",
       "      <td>99747.000000</td>\n",
       "    </tr>\n",
       "    <tr>\n",
       "      <th>mean</th>\n",
       "      <td>2017-07-09 22:01:16.100935424</td>\n",
       "      <td>2017-07-10 00:19:38.484164864</td>\n",
       "      <td>9.995529</td>\n",
       "      <td>8302.383230</td>\n",
       "    </tr>\n",
       "    <tr>\n",
       "      <th>min</th>\n",
       "      <td>2016-01-01 00:15:00</td>\n",
       "      <td>2016-01-01 04:30:00</td>\n",
       "      <td>-164.000000</td>\n",
       "      <td>600.000000</td>\n",
       "    </tr>\n",
       "    <tr>\n",
       "      <th>25%</th>\n",
       "      <td>2016-10-03 07:30:00</td>\n",
       "      <td>2016-10-03 09:25:00</td>\n",
       "      <td>-17.000000</td>\n",
       "      <td>5700.000000</td>\n",
       "    </tr>\n",
       "    <tr>\n",
       "      <th>50%</th>\n",
       "      <td>2017-07-24 20:15:00</td>\n",
       "      <td>2017-07-24 23:45:00</td>\n",
       "      <td>11.000000</td>\n",
       "      <td>8400.000000</td>\n",
       "    </tr>\n",
       "    <tr>\n",
       "      <th>75%</th>\n",
       "      <td>2018-04-05 10:15:00</td>\n",
       "      <td>2018-04-05 12:32:30</td>\n",
       "      <td>35.000000</td>\n",
       "      <td>9900.000000</td>\n",
       "    </tr>\n",
       "    <tr>\n",
       "      <th>max</th>\n",
       "      <td>2018-12-31 23:10:00</td>\n",
       "      <td>2019-01-01 03:50:00</td>\n",
       "      <td>164.000000</td>\n",
       "      <td>67740.000000</td>\n",
       "    </tr>\n",
       "    <tr>\n",
       "      <th>std</th>\n",
       "      <td>NaN</td>\n",
       "      <td>NaN</td>\n",
       "      <td>55.458112</td>\n",
       "      <td>4671.150033</td>\n",
       "    </tr>\n",
       "  </tbody>\n",
       "</table>\n",
       "</div>"
      ],
      "text/plain": [
       "                      departure_time                   arrival_time   \n",
       "count                          99747                          99747  \\\n",
       "mean   2017-07-09 22:01:16.100935424  2017-07-10 00:19:38.484164864   \n",
       "min              2016-01-01 00:15:00            2016-01-01 04:30:00   \n",
       "25%              2016-10-03 07:30:00            2016-10-03 09:25:00   \n",
       "50%              2017-07-24 20:15:00            2017-07-24 23:45:00   \n",
       "75%              2018-04-05 10:15:00            2018-04-05 12:32:30   \n",
       "max              2018-12-31 23:10:00            2019-01-01 03:50:00   \n",
       "std                              NaN                            NaN   \n",
       "\n",
       "             target      duration  \n",
       "count  99747.000000  99747.000000  \n",
       "mean       9.995529   8302.383230  \n",
       "min     -164.000000    600.000000  \n",
       "25%      -17.000000   5700.000000  \n",
       "50%       11.000000   8400.000000  \n",
       "75%       35.000000   9900.000000  \n",
       "max      164.000000  67740.000000  \n",
       "std       55.458112   4671.150033  "
      ]
     },
     "execution_count": 26,
     "metadata": {},
     "output_type": "execute_result"
    }
   ],
   "source": [
    "df = prepared_train_data(fd_train)\n",
    "df.describe()"
   ]
  },
  {
   "cell_type": "code",
   "execution_count": 28,
   "id": "0c3534e4",
   "metadata": {},
   "outputs": [
    {
     "data": {
      "text/plain": [
       "<Axes: xlabel='target', ylabel='Density'>"
      ]
     },
     "execution_count": 28,
     "metadata": {},
     "output_type": "execute_result"
    },
    {
     "data": {
      "image/png": "[encoded data removed]",
      "text/plain": [
       "<Figure size 640x480 with 1 Axes>"
      ]
     },
     "metadata": {},
     "output_type": "display_data"
    }
   ],
   "source": [
    "import seaborn as sns\n",
    "sns.distplot(df[\"target\"], kde=True)"
   ]
  },
  {
   "cell_type": "code",
   "execution_count": 29,
   "id": "6ffe8322",
   "metadata": {},
   "outputs": [
    {
     "data": {
      "application/vnd.microsoft.datawrangler.viewer.v0+json": {
       "columns": [
        {
         "name": "index",
         "rawType": "int64",
         "type": "integer"
        },
        {
         "name": "id",
         "rawType": "object",
         "type": "string"
        },
        {
         "name": "date",
         "rawType": "object",
         "type": "string"
        },
        {
         "name": "flight_id",
         "rawType": "object",
         "type": "string"
        },
        {
         "name": "departure_point",
         "rawType": "object",
         "type": "string"
        },
        {
         "name": "arrival_point",
         "rawType": "object",
         "type": "string"
        },
        {
         "name": "departure_time",
         "rawType": "datetime64[ns]",
         "type": "datetime"
        },
        {
         "name": "arrival_time",
         "rawType": "datetime64[ns]",
         "type": "datetime"
        },
        {
         "name": "flight_status",
         "rawType": "object",
         "type": "string"
        },
        {
         "name": "aircraft_code",
         "rawType": "object",
         "type": "string"
        },
        {
         "name": "target",
         "rawType": "float64",
         "type": "float"
        },
        {
         "name": "duration",
         "rawType": "float64",
         "type": "float"
        }
       ],
       "ref": "93774b21-ee23-4da9-8acf-7f8af5d4b03a",
       "rows": [
        [
         "0",
         "train_id_2",
         "2016-01-16",
         "TU 0214 ",
         "TUN",
         "IST",
         "2016-01-16 04:10:00",
         "2016-01-16 06:45:00",
         "ATA",
         "TU 32AIMN",
         "-141.0",
         "9300.0"
        ],
        [
         "1",
         "train_id_3",
         "2016-01-17",
         "TU 0480 ",
         "DJE",
         "NTE",
         "2016-01-17 14:10:00",
         "2016-01-17 17:00:00",
         "ATA",
         "TU 736IOK",
         "-20.0",
         "10200.0"
        ],
        [
         "2",
         "train_id_12",
         "2016-01-20",
         "TU 0913 ",
         "TUN",
         "MED",
         "2016-01-20 19:40:00",
         "2016-01-21 00:00:00",
         "ATA",
         "TU 320IMR",
         "-34.0",
         "15600.0"
        ],
        [
         "3",
         "train_id_13",
         "2016-01-21",
         "TU 0217 ",
         "IST",
         "TUN",
         "2016-01-21 20:10:00",
         "2016-01-21 23:00:00",
         "ATA",
         "TU 320IMU",
         "-36.0",
         "10200.0"
        ],
        [
         "4",
         "train_id_15",
         "2016-01-22",
         "TU 0706 ",
         "CMN",
         "TUN",
         "2016-01-22 17:45:00",
         "2016-01-22 20:10:00",
         "ATA",
         "TU 320IMR",
         "-14.0",
         "8700.0"
        ]
       ],
       "shape": {
        "columns": 11,
        "rows": 5
       }
      },
      "text/html": [
       "<div>\n",
       "<style scoped>\n",
       "    .dataframe tbody tr th:only-of-type {\n",
       "        vertical-align: middle;\n",
       "    }\n",
       "\n",
       "    .dataframe tbody tr th {\n",
       "        vertical-align: top;\n",
       "    }\n",
       "\n",
       "    .dataframe thead th {\n",
       "        text-align: right;\n",
       "    }\n",
       "</style>\n",
       "<table border=\"1\" class=\"dataframe\">\n",
       "  <thead>\n",
       "    <tr style=\"text-align: right;\">\n",
       "      <th></th>\n",
       "      <th>id</th>\n",
       "      <th>date</th>\n",
       "      <th>flight_id</th>\n",
       "      <th>departure_point</th>\n",
       "      <th>arrival_point</th>\n",
       "      <th>departure_time</th>\n",
       "      <th>arrival_time</th>\n",
       "      <th>flight_status</th>\n",
       "      <th>aircraft_code</th>\n",
       "      <th>target</th>\n",
       "      <th>duration</th>\n",
       "    </tr>\n",
       "  </thead>\n",
       "  <tbody>\n",
       "    <tr>\n",
       "      <th>0</th>\n",
       "      <td>train_id_2</td>\n",
       "      <td>2016-01-16</td>\n",
       "      <td>TU 0214</td>\n",
       "      <td>TUN</td>\n",
       "      <td>IST</td>\n",
       "      <td>2016-01-16 04:10:00</td>\n",
       "      <td>2016-01-16 06:45:00</td>\n",
       "      <td>ATA</td>\n",
       "      <td>TU 32AIMN</td>\n",
       "      <td>-141.0</td>\n",
       "      <td>9300.0</td>\n",
       "    </tr>\n",
       "    <tr>\n",
       "      <th>1</th>\n",
       "      <td>train_id_3</td>\n",
       "      <td>2016-01-17</td>\n",
       "      <td>TU 0480</td>\n",
       "      <td>DJE</td>\n",
       "      <td>NTE</td>\n",
       "      <td>2016-01-17 14:10:00</td>\n",
       "      <td>2016-01-17 17:00:00</td>\n",
       "      <td>ATA</td>\n",
       "      <td>TU 736IOK</td>\n",
       "      <td>-20.0</td>\n",
       "      <td>10200.0</td>\n",
       "    </tr>\n",
       "    <tr>\n",
       "      <th>2</th>\n",
       "      <td>train_id_12</td>\n",
       "      <td>2016-01-20</td>\n",
       "      <td>TU 0913</td>\n",
       "      <td>TUN</td>\n",
       "      <td>MED</td>\n",
       "      <td>2016-01-20 19:40:00</td>\n",
       "      <td>2016-01-21 00:00:00</td>\n",
       "      <td>ATA</td>\n",
       "      <td>TU 320IMR</td>\n",
       "      <td>-34.0</td>\n",
       "      <td>15600.0</td>\n",
       "    </tr>\n",
       "    <tr>\n",
       "      <th>3</th>\n",
       "      <td>train_id_13</td>\n",
       "      <td>2016-01-21</td>\n",
       "      <td>TU 0217</td>\n",
       "      <td>IST</td>\n",
       "      <td>TUN</td>\n",
       "      <td>2016-01-21 20:10:00</td>\n",
       "      <td>2016-01-21 23:00:00</td>\n",
       "      <td>ATA</td>\n",
       "      <td>TU 320IMU</td>\n",
       "      <td>-36.0</td>\n",
       "      <td>10200.0</td>\n",
       "    </tr>\n",
       "    <tr>\n",
       "      <th>4</th>\n",
       "      <td>train_id_15</td>\n",
       "      <td>2016-01-22</td>\n",
       "      <td>TU 0706</td>\n",
       "      <td>CMN</td>\n",
       "      <td>TUN</td>\n",
       "      <td>2016-01-22 17:45:00</td>\n",
       "      <td>2016-01-22 20:10:00</td>\n",
       "      <td>ATA</td>\n",
       "      <td>TU 320IMR</td>\n",
       "      <td>-14.0</td>\n",
       "      <td>8700.0</td>\n",
       "    </tr>\n",
       "  </tbody>\n",
       "</table>\n",
       "</div>"
      ],
      "text/plain": [
       "            id        date flight_id departure_point arrival_point   \n",
       "0   train_id_2  2016-01-16  TU 0214              TUN           IST  \\\n",
       "1   train_id_3  2016-01-17  TU 0480              DJE           NTE   \n",
       "2  train_id_12  2016-01-20  TU 0913              TUN           MED   \n",
       "3  train_id_13  2016-01-21  TU 0217              IST           TUN   \n",
       "4  train_id_15  2016-01-22  TU 0706              CMN           TUN   \n",
       "\n",
       "       departure_time        arrival_time flight_status aircraft_code  target   \n",
       "0 2016-01-16 04:10:00 2016-01-16 06:45:00           ATA     TU 32AIMN  -141.0  \\\n",
       "1 2016-01-17 14:10:00 2016-01-17 17:00:00           ATA     TU 736IOK   -20.0   \n",
       "2 2016-01-20 19:40:00 2016-01-21 00:00:00           ATA     TU 320IMR   -34.0   \n",
       "3 2016-01-21 20:10:00 2016-01-21 23:00:00           ATA     TU 320IMU   -36.0   \n",
       "4 2016-01-22 17:45:00 2016-01-22 20:10:00           ATA     TU 320IMR   -14.0   \n",
       "\n",
       "   duration  \n",
       "0    9300.0  \n",
       "1   10200.0  \n",
       "2   15600.0  \n",
       "3   10200.0  \n",
       "4    8700.0  "
      ]
     },
     "execution_count": 29,
     "metadata": {},
     "output_type": "execute_result"
    }
   ],
   "source": [
    "fd = prepared_train_data(fd_train)\n",
    "fd.head()"
   ]
  }
 ],
 "metadata": {
  "kernelspec": {
   "display_name": ".venv",
   "language": "python",
   "name": "python3"
  },
  "language_info": {
   "codemirror_mode": {
    "name": "ipython",
    "version": 3
   },
   "file_extension": ".py",
   "mimetype": "text/x-python",
   "name": "python",
   "nbconvert_exporter": "python",
   "pygments_lexer": "ipython3",
   "version": "3.11.3"
  }
 },
 "nbformat": 4,
 "nbformat_minor": 5
}
